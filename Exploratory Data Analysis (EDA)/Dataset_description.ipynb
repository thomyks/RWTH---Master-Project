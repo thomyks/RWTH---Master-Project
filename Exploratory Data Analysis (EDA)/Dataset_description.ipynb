{
 "cells": [
  {
   "cell_type": "code",
   "execution_count": 1,
   "id": "9c3a596a-940c-426a-8047-a2d22633ba36",
   "metadata": {},
   "outputs": [],
   "source": [
    "import pandas as pd\n",
    "import numpy as np\n",
    "import matplotlib.pyplot as plt"
   ]
  },
  {
   "cell_type": "code",
   "execution_count": 2,
   "id": "bc429b13-c090-4433-a5e4-57dd3fa1e42d",
   "metadata": {},
   "outputs": [],
   "source": [
    "df = pd.read_csv('preprocessed_df.csv')"
   ]
  },
  {
   "cell_type": "code",
   "execution_count": 3,
   "id": "2c5e16ea-284a-4c12-84a7-eb4331aeffe1",
   "metadata": {},
   "outputs": [
    {
     "data": {
      "text/html": [
       "<div>\n",
       "<style scoped>\n",
       "    .dataframe tbody tr th:only-of-type {\n",
       "        vertical-align: middle;\n",
       "    }\n",
       "\n",
       "    .dataframe tbody tr th {\n",
       "        vertical-align: top;\n",
       "    }\n",
       "\n",
       "    .dataframe thead th {\n",
       "        text-align: right;\n",
       "    }\n",
       "</style>\n",
       "<table border=\"1\" class=\"dataframe\">\n",
       "  <thead>\n",
       "    <tr style=\"text-align: right;\">\n",
       "      <th></th>\n",
       "      <th>Unnamed: 0.2</th>\n",
       "      <th>Unnamed: 0.1</th>\n",
       "      <th>Unnamed: 0</th>\n",
       "      <th>rating_value</th>\n",
       "      <th>nr_entities</th>\n",
       "      <th>num_words</th>\n",
       "    </tr>\n",
       "  </thead>\n",
       "  <tbody>\n",
       "    <tr>\n",
       "      <th>count</th>\n",
       "      <td>66193.000000</td>\n",
       "      <td>66193.000000</td>\n",
       "      <td>66193.00000</td>\n",
       "      <td>66193.000000</td>\n",
       "      <td>66193.000000</td>\n",
       "      <td>66193.000000</td>\n",
       "    </tr>\n",
       "    <tr>\n",
       "      <th>mean</th>\n",
       "      <td>38397.607859</td>\n",
       "      <td>41012.690390</td>\n",
       "      <td>3333.34626</td>\n",
       "      <td>1.293143</td>\n",
       "      <td>2.170894</td>\n",
       "      <td>16.740275</td>\n",
       "    </tr>\n",
       "    <tr>\n",
       "      <th>std</th>\n",
       "      <td>20208.095839</td>\n",
       "      <td>22368.447114</td>\n",
       "      <td>2493.98657</td>\n",
       "      <td>1.031867</td>\n",
       "      <td>1.511322</td>\n",
       "      <td>7.875774</td>\n",
       "    </tr>\n",
       "    <tr>\n",
       "      <th>min</th>\n",
       "      <td>0.000000</td>\n",
       "      <td>0.000000</td>\n",
       "      <td>0.00000</td>\n",
       "      <td>-1.000000</td>\n",
       "      <td>0.000000</td>\n",
       "      <td>3.000000</td>\n",
       "    </tr>\n",
       "    <tr>\n",
       "      <th>25%</th>\n",
       "      <td>21030.000000</td>\n",
       "      <td>22642.000000</td>\n",
       "      <td>1282.00000</td>\n",
       "      <td>1.000000</td>\n",
       "      <td>1.000000</td>\n",
       "      <td>11.000000</td>\n",
       "    </tr>\n",
       "    <tr>\n",
       "      <th>50%</th>\n",
       "      <td>38418.000000</td>\n",
       "      <td>43534.000000</td>\n",
       "      <td>2737.00000</td>\n",
       "      <td>1.000000</td>\n",
       "      <td>2.000000</td>\n",
       "      <td>15.000000</td>\n",
       "    </tr>\n",
       "    <tr>\n",
       "      <th>75%</th>\n",
       "      <td>56003.000000</td>\n",
       "      <td>60226.000000</td>\n",
       "      <td>5017.00000</td>\n",
       "      <td>2.000000</td>\n",
       "      <td>3.000000</td>\n",
       "      <td>21.000000</td>\n",
       "    </tr>\n",
       "    <tr>\n",
       "      <th>max</th>\n",
       "      <td>73245.000000</td>\n",
       "      <td>76840.000000</td>\n",
       "      <td>9999.00000</td>\n",
       "      <td>3.000000</td>\n",
       "      <td>19.000000</td>\n",
       "      <td>168.000000</td>\n",
       "    </tr>\n",
       "  </tbody>\n",
       "</table>\n",
       "</div>"
      ],
      "text/plain": [
       "       Unnamed: 0.2  Unnamed: 0.1   Unnamed: 0  rating_value   nr_entities  \\\n",
       "count  66193.000000  66193.000000  66193.00000  66193.000000  66193.000000   \n",
       "mean   38397.607859  41012.690390   3333.34626      1.293143      2.170894   \n",
       "std    20208.095839  22368.447114   2493.98657      1.031867      1.511322   \n",
       "min        0.000000      0.000000      0.00000     -1.000000      0.000000   \n",
       "25%    21030.000000  22642.000000   1282.00000      1.000000      1.000000   \n",
       "50%    38418.000000  43534.000000   2737.00000      1.000000      2.000000   \n",
       "75%    56003.000000  60226.000000   5017.00000      2.000000      3.000000   \n",
       "max    73245.000000  76840.000000   9999.00000      3.000000     19.000000   \n",
       "\n",
       "          num_words  \n",
       "count  66193.000000  \n",
       "mean      16.740275  \n",
       "std        7.875774  \n",
       "min        3.000000  \n",
       "25%       11.000000  \n",
       "50%       15.000000  \n",
       "75%       21.000000  \n",
       "max      168.000000  "
      ]
     },
     "execution_count": 3,
     "metadata": {},
     "output_type": "execute_result"
    }
   ],
   "source": [
    "df.describe()"
   ]
  },
  {
   "cell_type": "code",
   "execution_count": 4,
   "id": "eebb2464-2697-42ec-9565-1af3510631a7",
   "metadata": {},
   "outputs": [
    {
     "data": {
      "text/html": [
       "<div>\n",
       "<style scoped>\n",
       "    .dataframe tbody tr th:only-of-type {\n",
       "        vertical-align: middle;\n",
       "    }\n",
       "\n",
       "    .dataframe tbody tr th {\n",
       "        vertical-align: top;\n",
       "    }\n",
       "\n",
       "    .dataframe thead th {\n",
       "        text-align: right;\n",
       "    }\n",
       "</style>\n",
       "<table border=\"1\" class=\"dataframe\">\n",
       "  <thead>\n",
       "    <tr style=\"text-align: right;\">\n",
       "      <th></th>\n",
       "      <th>Unnamed: 0.2</th>\n",
       "      <th>Unnamed: 0.1</th>\n",
       "      <th>Unnamed: 0</th>\n",
       "      <th>claim</th>\n",
       "      <th>text</th>\n",
       "      <th>organization</th>\n",
       "      <th>lang_name</th>\n",
       "      <th>rating_label</th>\n",
       "      <th>rating_value</th>\n",
       "      <th>entity_strings</th>\n",
       "      <th>entities</th>\n",
       "      <th>nr_entities</th>\n",
       "      <th>num_words</th>\n",
       "      <th>probable_lang</th>\n",
       "    </tr>\n",
       "  </thead>\n",
       "  <tbody>\n",
       "    <tr>\n",
       "      <th>66188</th>\n",
       "      <td>73238</td>\n",
       "      <td>32810</td>\n",
       "      <td>560</td>\n",
       "      <td>http://data.gesis.org/claimskg/creative_work/8...</td>\n",
       "      <td>BOILER CHICKEN ME KORONA VIRUS KO PAYA GAYA HA...</td>\n",
       "      <td>Vishvanews</td>\n",
       "      <td>English</td>\n",
       "      <td>FALSE</td>\n",
       "      <td>1</td>\n",
       "      <td>Appeal, CHICKEN, DUAA, GAYA, HAI, KA, KARE, KE...</td>\n",
       "      <td>['Appeal', ' CHICKEN', ' DUAA', ' GAYA', ' HAI...</td>\n",
       "      <td>16.0</td>\n",
       "      <td>34</td>\n",
       "      <td>en</td>\n",
       "    </tr>\n",
       "    <tr>\n",
       "      <th>66189</th>\n",
       "      <td>73240</td>\n",
       "      <td>35869</td>\n",
       "      <td>3619</td>\n",
       "      <td>http://data.gesis.org/claimskg/creative_work/b...</td>\n",
       "      <td>Anyone who has been vaccinated against coronav...</td>\n",
       "      <td>Vishvanews</td>\n",
       "      <td>English</td>\n",
       "      <td>FALSE</td>\n",
       "      <td>1</td>\n",
       "      <td>Pharmacy, administer, anesthetic, anesthetics,...</td>\n",
       "      <td>['Pharmacy', ' administer', ' anesthetic', ' a...</td>\n",
       "      <td>18.0</td>\n",
       "      <td>134</td>\n",
       "      <td>en</td>\n",
       "    </tr>\n",
       "    <tr>\n",
       "      <th>66190</th>\n",
       "      <td>73242</td>\n",
       "      <td>34341</td>\n",
       "      <td>2091</td>\n",
       "      <td>http://data.gesis.org/claimskg/creative_work/1...</td>\n",
       "      <td>【Vaccination Warning】 Anyone who has been vacc...</td>\n",
       "      <td>Vishvanews</td>\n",
       "      <td>English</td>\n",
       "      <td>FALSE</td>\n",
       "      <td>1</td>\n",
       "      <td>Pharmacy, administer, anesthetic, anesthetics,...</td>\n",
       "      <td>['Pharmacy', ' administer', ' anesthetic', ' a...</td>\n",
       "      <td>18.0</td>\n",
       "      <td>136</td>\n",
       "      <td>en</td>\n",
       "    </tr>\n",
       "    <tr>\n",
       "      <th>66191</th>\n",
       "      <td>73244</td>\n",
       "      <td>36118</td>\n",
       "      <td>3868</td>\n",
       "      <td>http://data.gesis.org/claimskg/creative_work/5...</td>\n",
       "      <td>“…Progressive students of #JNU opposed Hindu w...</td>\n",
       "      <td>Vishvanews</td>\n",
       "      <td>English</td>\n",
       "      <td>FALSE</td>\n",
       "      <td>1</td>\n",
       "      <td>Hindu, Hindu culture, Hindu society, Hindutva,...</td>\n",
       "      <td>['Hindu', ' Hindu culture', ' Hindu society', ...</td>\n",
       "      <td>19.0</td>\n",
       "      <td>69</td>\n",
       "      <td>en</td>\n",
       "    </tr>\n",
       "    <tr>\n",
       "      <th>66192</th>\n",
       "      <td>73245</td>\n",
       "      <td>34469</td>\n",
       "      <td>2219</td>\n",
       "      <td>http://data.gesis.org/claimskg/creative_work/b...</td>\n",
       "      <td>Please note the differences: (1) dry cough + s...</td>\n",
       "      <td>Vishvanews</td>\n",
       "      <td>English</td>\n",
       "      <td>FALSE</td>\n",
       "      <td>1</td>\n",
       "      <td>AIIMS, Cough, Delhi, Dry cough, Make, Patholog...</td>\n",
       "      <td>['AIIMS', ' Cough', ' Delhi', ' Dry cough', ' ...</td>\n",
       "      <td>19.0</td>\n",
       "      <td>75</td>\n",
       "      <td>en</td>\n",
       "    </tr>\n",
       "  </tbody>\n",
       "</table>\n",
       "</div>"
      ],
      "text/plain": [
       "       Unnamed: 0.2  Unnamed: 0.1  Unnamed: 0  \\\n",
       "66188         73238         32810         560   \n",
       "66189         73240         35869        3619   \n",
       "66190         73242         34341        2091   \n",
       "66191         73244         36118        3868   \n",
       "66192         73245         34469        2219   \n",
       "\n",
       "                                                   claim  \\\n",
       "66188  http://data.gesis.org/claimskg/creative_work/8...   \n",
       "66189  http://data.gesis.org/claimskg/creative_work/b...   \n",
       "66190  http://data.gesis.org/claimskg/creative_work/1...   \n",
       "66191  http://data.gesis.org/claimskg/creative_work/5...   \n",
       "66192  http://data.gesis.org/claimskg/creative_work/b...   \n",
       "\n",
       "                                                    text organization  \\\n",
       "66188  BOILER CHICKEN ME KORONA VIRUS KO PAYA GAYA HA...   Vishvanews   \n",
       "66189  Anyone who has been vaccinated against coronav...   Vishvanews   \n",
       "66190  【Vaccination Warning】 Anyone who has been vacc...   Vishvanews   \n",
       "66191  “…Progressive students of #JNU opposed Hindu w...   Vishvanews   \n",
       "66192  Please note the differences: (1) dry cough + s...   Vishvanews   \n",
       "\n",
       "      lang_name rating_label  rating_value  \\\n",
       "66188   English        FALSE             1   \n",
       "66189   English        FALSE             1   \n",
       "66190   English        FALSE             1   \n",
       "66191   English        FALSE             1   \n",
       "66192   English        FALSE             1   \n",
       "\n",
       "                                          entity_strings  \\\n",
       "66188  Appeal, CHICKEN, DUAA, GAYA, HAI, KA, KARE, KE...   \n",
       "66189  Pharmacy, administer, anesthetic, anesthetics,...   \n",
       "66190  Pharmacy, administer, anesthetic, anesthetics,...   \n",
       "66191  Hindu, Hindu culture, Hindu society, Hindutva,...   \n",
       "66192  AIIMS, Cough, Delhi, Dry cough, Make, Patholog...   \n",
       "\n",
       "                                                entities  nr_entities  \\\n",
       "66188  ['Appeal', ' CHICKEN', ' DUAA', ' GAYA', ' HAI...         16.0   \n",
       "66189  ['Pharmacy', ' administer', ' anesthetic', ' a...         18.0   \n",
       "66190  ['Pharmacy', ' administer', ' anesthetic', ' a...         18.0   \n",
       "66191  ['Hindu', ' Hindu culture', ' Hindu society', ...         19.0   \n",
       "66192  ['AIIMS', ' Cough', ' Delhi', ' Dry cough', ' ...         19.0   \n",
       "\n",
       "       num_words probable_lang  \n",
       "66188         34            en  \n",
       "66189        134            en  \n",
       "66190        136            en  \n",
       "66191         69            en  \n",
       "66192         75            en  "
      ]
     },
     "execution_count": 4,
     "metadata": {},
     "output_type": "execute_result"
    }
   ],
   "source": [
    "df.tail()"
   ]
  },
  {
   "cell_type": "code",
   "execution_count": 5,
   "id": "4011fd03-f76b-4c35-ac4d-56f41233bc18",
   "metadata": {
    "tags": []
   },
   "outputs": [],
   "source": [
    "# new column with number of words per claim\n",
    "# simply split between whitespaces, no sophisticated method needed to get an overview\n",
    "df['claim_length'] = df['text'].str.split(' ')\n",
    "df['claim_length'].fillna(-1)\n",
    "df['claim_length'] = df['claim_length'].str.len()"
   ]
  },
  {
   "cell_type": "code",
   "execution_count": 6,
   "id": "0a5712d5-7eed-4f98-9f15-e879f6b7038e",
   "metadata": {},
   "outputs": [],
   "source": [
    "plt.style.use('ggplot')"
   ]
  },
  {
   "cell_type": "code",
   "execution_count": 7,
   "id": "155fbc2b-ffc1-4aa8-a363-72fbedc0b3dc",
   "metadata": {
    "tags": []
   },
   "outputs": [
    {
     "data": {
      "image/png": "[encoded data removed]",
      "text/plain": [
       "<Figure size 1440x720 with 1 Axes>"
      ]
     },
     "metadata": {
      "needs_background": "light"
     },
     "output_type": "display_data"
    }
   ],
   "source": [
    "axes = df.claim_length.hist(bins = 60, figsize=(20, 10), legend=True)\n",
    "plt.xticks(range(0, 175, 5))\n",
    "plt.show()"
   ]
  },
  {
   "cell_type": "code",
   "execution_count": 8,
   "id": "2c248bc8-f39d-475a-b5d9-fb94f9419e64",
   "metadata": {},
   "outputs": [
    {
     "data": {
      "text/plain": [
       "count    66193.000000\n",
       "mean        16.740275\n",
       "std          7.875774\n",
       "min          3.000000\n",
       "25%         11.000000\n",
       "50%         15.000000\n",
       "75%         21.000000\n",
       "max        168.000000\n",
       "Name: claim_length, dtype: float64"
      ]
     },
     "execution_count": 8,
     "metadata": {},
     "output_type": "execute_result"
    }
   ],
   "source": [
    "df.claim_length.describe()"
   ]
  },
  {
   "cell_type": "code",
   "execution_count": 9,
   "id": "7257e438-b070-4456-9546-6eff34605d27",
   "metadata": {},
   "outputs": [],
   "source": [
    "# drop the longest 5% of claims for better visibility\n",
    "largest95_claim_length = df.nsmallest(int(len(df) * 0.95), 'claim_length')"
   ]
  },
  {
   "cell_type": "code",
   "execution_count": 10,
   "id": "4d2bdd98-b2a8-4044-90d2-a9be66709e2d",
   "metadata": {},
   "outputs": [
    {
     "data": {
      "text/plain": [
       "count    62883.000000\n",
       "mean        15.625161\n",
       "std          6.009732\n",
       "min          3.000000\n",
       "25%         11.000000\n",
       "50%         15.000000\n",
       "75%         20.000000\n",
       "max         31.000000\n",
       "Name: claim_length, dtype: float64"
      ]
     },
     "execution_count": 10,
     "metadata": {},
     "output_type": "execute_result"
    }
   ],
   "source": [
    "largest95_claim_length.claim_length.describe()"
   ]
  },
  {
   "cell_type": "code",
   "execution_count": 11,
   "id": "ee6fa5d6-7dab-45f2-a751-b76a7638988c",
   "metadata": {},
   "outputs": [
    {
     "name": "stderr",
     "output_type": "stream",
     "text": [
      "No artists with labels found to put in legend.  Note that artists whose label start with an underscore are ignored when legend() is called with no argument.\n"
     ]
    },
    {
     "data": {
      "image/png": "[encoded data removed]",
      "text/plain": [
       "<Figure size 1440x720 with 1 Axes>"
      ]
     },
     "metadata": {
      "needs_background": "light"
     },
     "output_type": "display_data"
    }
   ],
   "source": [
    "# visualize distribution of claim lengths\n",
    "largest95_claim_length.claim_length.hist(bins = np.arange(33)-0.5, figsize=(20, 10), xlabelsize='large', ylabelsize='larger', legend=False, color='#007cac')\n",
    "plt.xticks(np.arange(1, 33))\n",
    "plt.xlabel('Words per claim', fontsize=18)\n",
    "plt.ylabel('Number of claims', fontsize=18)\n",
    "plt.title('Distribution of claim lengths (words per claim) [shortest 95% of claims]', fontsize=18)\n",
    "plt.legend(fontsize='xx-large')\n",
    "plt.show()"
   ]
  },
  {
   "cell_type": "code",
   "execution_count": 12,
   "id": "fd87de83-5f78-441d-9bf3-191c3fdd1128",
   "metadata": {},
   "outputs": [],
   "source": [
    "# new columns with number of entities per claim\n",
    "df['nr_entities_claim'] = df['entities'].str.split(',')\n",
    "df['nr_entities_claim'] = df['nr_entities_claim'].str.len()\n",
    "df.fillna({'nr_entities_claim': 0}, inplace=True)"
   ]
  },
  {
   "cell_type": "code",
   "execution_count": 13,
   "id": "742edb58-0ad5-40fa-b694-ff75bd5124b5",
   "metadata": {},
   "outputs": [
    {
     "name": "stderr",
     "output_type": "stream",
     "text": [
      "No artists with labels found to put in legend.  Note that artists whose label start with an underscore are ignored when legend() is called with no argument.\n"
     ]
    },
    {
     "data": {
      "image/png": "[encoded data removed]",
      "text/plain": [
       "<Figure size 1440x720 with 1 Axes>"
      ]
     },
     "metadata": {
      "needs_background": "light"
     },
     "output_type": "display_data"
    }
   ],
   "source": [
    "# visualize distribution of number of entities per claim\n",
    "df.nr_entities_claim.hist(bins=np.arange(0, 20)-0.5, figsize=(20, 10), xlabelsize='large', ylabelsize='larger', legend=False, color='#007cac')\n",
    "plt.xticks(np.arange(0, 20))\n",
    "plt.xlabel('Entities per claim', fontsize=18)\n",
    "plt.ylabel('Number of claims', fontsize=18)\n",
    "plt.title('Distribution of entities per claim', fontsize=18)\n",
    "plt.legend(fontsize='xx-large')\n",
    "plt.show()"
   ]
  },
  {
   "cell_type": "code",
   "execution_count": 14,
   "id": "1e77d044-c12a-4298-81ad-bca90a1e19b8",
   "metadata": {},
   "outputs": [],
   "source": [
    "from collections import Counter"
   ]
  },
  {
   "cell_type": "code",
   "execution_count": 15,
   "id": "5fa91df5-0984-45f5-bac3-38efba932d76",
   "metadata": {},
   "outputs": [],
   "source": [
    "# new column 'entities' generated by splitting entity_strings column of type str into list\n",
    "df['entities'] = df.entity_strings.str.split(',')"
   ]
  },
  {
   "cell_type": "code",
   "execution_count": 16,
   "id": "507ab78d-faf0-4e48-a554-dd92030275a0",
   "metadata": {},
   "outputs": [],
   "source": [
    "entities = df.entities.dropna()"
   ]
  },
  {
   "cell_type": "code",
   "execution_count": 17,
   "id": "53237d3a-6437-4bc9-a876-806227669bd2",
   "metadata": {},
   "outputs": [
    {
     "name": "stdout",
     "output_type": "stream",
     "text": [
      "facebook 4504\n",
      "covid-19 1270\n",
      "donald trump 952\n",
      "u.s. 934\n",
      "texas 721\n",
      "president donald trump 721\n",
      "joe biden 651\n",
      "united states 623\n",
      "hillary clinton 597\n",
      "kenya 582\n",
      "china 567\n",
      "florida 550\n",
      "president obama 549\n",
      "nigeria 487\n",
      "wisconsin 485\n"
     ]
    }
   ],
   "source": [
    "# get counts of how often entities occur in the dataset\n",
    "c = Counter(e.lower().strip() for entity_list in entities for e in entity_list)\n",
    "for (count, value) in c.most_common(15):\n",
    "    print(count, value)"
   ]
  },
  {
   "cell_type": "code",
   "execution_count": 18,
   "id": "19573ca5-fa70-4d5b-bf00-47a283f2b129",
   "metadata": {},
   "outputs": [],
   "source": [
    "# get only the frequency values\n",
    "value_list = list(c.values())"
   ]
  },
  {
   "cell_type": "code",
   "execution_count": 19,
   "id": "1d696ec9-be13-42ca-99cf-b9b86fa731b8",
   "metadata": {},
   "outputs": [],
   "source": [
    "# only values greater than 1, for better readability of the resulting histogram\n",
    "value_list_no1 = list(filter(lambda x: x != 1, value_list))"
   ]
  },
  {
   "cell_type": "code",
   "execution_count": 21,
   "id": "66729316-fd60-45d5-9659-1e9634d57141",
   "metadata": {},
   "outputs": [
    {
     "name": "stderr",
     "output_type": "stream",
     "text": [
      "No artists with labels found to put in legend.  Note that artists whose label start with an underscore are ignored when legend() is called with no argument.\n"
     ]
    },
    {
     "data": {
      "image/png": "[encoded data removed]",
      "text/plain": [
       "<Figure size 1440x720 with 1 Axes>"
      ]
     },
     "metadata": {
      "needs_background": "light"
     },
     "output_type": "display_data"
    }
   ],
   "source": [
    "# plot distribution of frequency values\n",
    "plt.hist(value_list_no1, color='#007cac', bins=np.arange(0, 480, 20)-0.5,)\n",
    "plt.xticks(range(0, 480, 20))\n",
    "plt.yscale('log')\n",
    "fig = plt.gcf()\n",
    "fig.set_size_inches(20, 10)\n",
    "plt.xlabel('Number of occurence', fontsize=18)\n",
    "plt.ylabel('Frequency', fontsize=18)\n",
    "plt.title('Distribution of frequency counts of entities', fontsize=18)\n",
    "plt.legend(fontsize='xx-large')\n",
    "plt.show()"
   ]
  }
 ],
 "metadata": {
  "kernelspec": {
   "display_name": "Python 3 (ipykernel)",
   "language": "python",
   "name": "python3"
  },
  "language_info": {
   "codemirror_mode": {
    "name": "ipython",
    "version": 3
   },
   "file_extension": ".py",
   "mimetype": "text/x-python",
   "name": "python",
   "nbconvert_exporter": "python",
   "pygments_lexer": "ipython3",
   "version": "3.9.13"
  },
  "toc": {
   "base_numbering": 1,
   "nav_menu": {},
   "number_sections": true,
   "sideBar": true,
   "skip_h1_title": false,
   "title_cell": "Table of Contents",
   "title_sidebar": "Contents",
   "toc_cell": false,
   "toc_position": {},
   "toc_section_display": true,
   "toc_window_display": false
  }
 },
 "nbformat": 4,
 "nbformat_minor": 5
}
