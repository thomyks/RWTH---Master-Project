{
 "cells": [
  {
   "cell_type": "code",
   "execution_count": 7,
   "id": "9e856ad0-14fe-4dd8-a4ba-301e122b555a",
   "metadata": {},
   "outputs": [],
   "source": [
    "import pandas as pd\n",
    "from sentence_transformers import SentenceTransformer, util\n",
    "import torch\n",
    "\n",
    "\n",
    "dataframe = pd.read_csv('1_gas_prices_pipeline_oil.csv')\n",
    "df = dataframe\n",
    "\n",
    "# Assuming df is your DataFrame with 'text' and 'rating_value' columns\n",
    "# The 'date' column is no longer included or considered\n",
    "\n",
    "# Load a pre-trained Sentence Transformer model\n",
    "model = SentenceTransformer('all-MiniLM-L6-v2')\n",
    "\n",
    "# Ensure the DataFrame is not empty\n",
    "if df.empty:\n",
    "    raise ValueError(\"The DataFrame is empty.\")\n",
    "\n",
    "# Rename 'ratingName' column to 'rating_value'\n",
    "df.rename(columns={'ratingName': 'rating_value'}, inplace=True)\n",
    "\n",
    "# Pre-compute embeddings for all sentences\n",
    "all_sentences = df['text'].tolist()\n",
    "all_embeddings = model.encode(all_sentences, convert_to_tensor=True)\n",
    "\n",
    "# Function to find semantically similar sentences with a threshold\n",
    "def find_similar_sentences(target_embedding, all_embeddings, all_sentences, all_ratings, threshold=0.60):\n",
    "    cos_scores = util.cos_sim(target_embedding, all_embeddings)[0]\n",
    "    # Include only the rating_value in the returned result\n",
    "    similar_sentences_info = [(all_sentences[i], cos_scores[i].item(), all_ratings[i]) \n",
    "                              for i in cos_scores.argsort(descending=True).tolist() \n",
    "                              if cos_scores[i] >= threshold and cos_scores[i] < 0.99]\n",
    "    return similar_sentences_info\n",
    "\n",
    "# Initialize new columns in the DataFrame\n",
    "df['similar_phrases'] = [[] for _ in range(len(df))]\n",
    "df['similarity_scores'] = [[] for _ in range(len(df))]\n",
    "df['similar_ratings'] = [[] for _ in range(len(df))]  # Store the ratings of similar sentences\n",
    "\n",
    "# List to keep track of sentences to remove\n",
    "sentences_to_remove = []\n",
    "\n",
    "# Iterate and find similar sentences\n",
    "for i, row in df.iterrows():\n",
    "    # Skip processing if the sentence has been marked as similar to another\n",
    "    if i in sentences_to_remove:\n",
    "        continue\n",
    "\n",
    "    target_sentence = row['text']\n",
    "    target_embedding = all_embeddings[i]\n",
    "    target_rating = row['rating_value']\n",
    "    # Pass only the rating values to the function\n",
    "    similar_sentences_info = find_similar_sentences(\n",
    "        target_embedding, all_embeddings, all_sentences, df['rating_value'].tolist()\n",
    "    )\n",
    "\n",
    "    # Extract phrases, scores, and ratings\n",
    "    similar_phrases = [info[0] for info in similar_sentences_info if info[0] != target_sentence]\n",
    "    similarity_scores = [info[1] for info in similar_sentences_info if info[0] != target_sentence]\n",
    "    similar_ratings = [info[2] for info in similar_sentences_info if info[0] != target_sentence]\n",
    "\n",
    "    # Assign lists to the DataFrame\n",
    "    df.at[i, 'similar_phrases'] = similar_phrases\n",
    "    df.at[i, 'similarity_scores'] = similarity_scores\n",
    "    df.at[i, 'similar_ratings'] = similar_ratings  # Save the ratings\n",
    "\n",
    "    # Add the indices of similar sentences to the removal list\n",
    "    sentences_to_remove.extend([all_sentences.index(info[0]) for info in similar_sentences_info if info[0] != target_sentence])\n",
    "\n",
    "# Remove sentences that were similar to others\n",
    "df = df.drop(index=sentences_to_remove).reset_index(drop=True)\n",
    "\n",
    "# Since we've removed some sentences, we should re-compute the embeddings\n",
    "all_sentences = df['text'].tolist()\n",
    "all_embeddings = model.encode(all_sentences, convert_to_tensor=True)\n"
   ]
  },
  {
   "cell_type": "code",
   "execution_count": 6,
   "id": "ee9ec27b-1afa-424c-a040-4d5fb37c43e0",
   "metadata": {},
   "outputs": [],
   "source": [
    "import pandas as pd\n",
    "from sentence_transformers import SentenceTransformer, util\n",
    "import torch\n",
    "\n",
    "# Load a pre-trained Sentence Transformer model\n",
    "model = SentenceTransformer('all-MiniLM-L6-v2')\n",
    "\n",
    "# Load your DataFrame (df) here\n",
    "dataframe = pd.read_csv('1_gas_prices_pipeline_oil.csv')\n",
    "df = dataframe\n",
    "\n",
    "# Ensure the DataFrame is not empty\n",
    "if df.empty:\n",
    "    raise ValueError(\"The DataFrame is empty.\")\n",
    "\n",
    "# Rename 'ratingName' column to 'rating_value'\n",
    "df.rename(columns={'ratingName': 'rating_value'}, inplace=True)\n",
    "\n",
    "# Pre-compute embeddings for all sentences\n",
    "all_sentences = df['text'].tolist()\n",
    "all_embeddings = model.encode(all_sentences, convert_to_tensor=True)\n",
    "\n",
    "# Function to find semantically similar sentences with a threshold\n",
    "def find_similar_sentences(target_embedding, all_embeddings, all_sentences, threshold=0.60):\n",
    "    cos_scores = util.cos_sim(target_embedding, all_embeddings)[0]\n",
    "    similar_indices = [i for i in cos_scores.argsort(descending=True).tolist() \n",
    "                       if cos_scores[i] >= threshold and cos_scores[i] < 0.99]\n",
    "    return similar_indices\n",
    "\n",
    "# Track processed sentences to avoid duplication\n",
    "processed_sentences = set()\n",
    "\n",
    "# File counter for naming\n",
    "file_counter = 1\n",
    "\n",
    "# Iterate over sentences\n",
    "for i, row in df.iterrows():\n",
    "    if i in processed_sentences:\n",
    "        continue\n",
    "\n",
    "    target_embedding = all_embeddings[i]\n",
    "    similar_indices = find_similar_sentences(target_embedding, all_embeddings, all_sentences)\n",
    "\n",
    "    # Select rows from DataFrame\n",
    "    similar_rows = df.iloc[[i] + similar_indices]\n",
    "    \n",
    "    # Save to CSV\n",
    "    filename = f'narrative_{file_counter}.csv'\n",
    "    similar_rows.to_csv(filename, index=False)\n",
    "    file_counter += 1\n",
    "\n",
    "    # Mark as processed\n",
    "    processed_sentences.update([i] + similar_indices)"
   ]
  },
  {
   "cell_type": "code",
   "execution_count": 9,
   "id": "6d0e3f48-6b8b-4e03-af09-3332cb840e27",
   "metadata": {},
   "outputs": [
    {
     "data": {
      "application/vnd.plotly.v1+json": {
       "config": {
        "plotlyServerURL": "https://plot.ly"
       },
       "data": [
        {
         "hoverinfo": "text",
         "hovertext": [
          "ROOT<br>Rating: -",
          "Biden exporting US strategic oil as gas prices remain at record highs<br>Rating: 1",
          "Biden oil shutdown led to high energy prices<br>Rating: 1",
          "Gas prices at their highest in many places in the US since Obama, because of Biden<br>Rating: 2",
          "Biden to blame for higher gasoline prices<br>Rating: 1",
          "Gas is high because they shut down production in the U.S. under the Biden administration.<br>Rating: 1",
          "Says Joe Biden imports oil from Iran.<br>Rating: 2",
          "Biden drained America's Strategic Petroleum Reserves to the lowest level since 1984.<br>Rating: 3",
          "Biden gave Americans the cheapest gas prices on Earth.<br>Rating: 1",
          "The Biden family is so heavily invested in oil and energy in other countries.<br>Rating: 2",
          "Biden admits $5 gas is being done on purpose and this has been his plan all along.<br>Rating: 1",
          "A post shared on Facebook claims President Joe Biden plans to give every American a $5 gas card.<br>Rating: 1",
          "A Big Boy restaurant sign said Donald Trump was right when he predicted if Biden was elected, you'd see $5, $6 and $7 gas.<br>Rating: 1",
          "Biden to blame for higher gasoline prices<br>Rating: 1",
          "Joe Biden confirmed his plan to abolish the entire U.S. oil industry.<br>Rating: 1",
          "The most common price of U.S. gas was above $5 per gallon when U.S. President Joe Biden took office in January 2021.<br>Rating: 1",
          "President Biden confirm(ed) everyone will receive their $1k gas checks this week!!<br>Rating: 1",
          "Biden climate plan will cut American meat consumption<br>Rating: 1",
          "President Joe Biden's climate plan includes cutting 90% of red meat from Americans' diets by 2030.<br>Rating: 1",
          "An image shared on Facebook claims President Joe Biden’s climate plan requires Americans to reduce their red meat consumption by 90 percent.<br>Rating: 1",
          "Biden's climate requirements will cut 90% of red meat from diet to a max 4 lbs per year and one burger per month.<br>Rating: 1",
          "Says Joe Biden is going to control how much meat you can eat.<br>Rating: 1",
          "Diesel prices jumped from $1.69 to $3.19 since Biden took office, and the president is to blame.<br>Rating: 1",
          "Biden to blame for higher gasoline prices<br>Rating: 1",
          "Says Joe Biden executive orders caused price increases of 50 cents in gas and 10% in food.<br>Rating: 1",
          "Soybean and corn price drop is because of Biden’s executive orders<br>Rating: 1",
          "A gas prices meme accurately shows high prices under U.S. President Joe Biden and low prices under former U.S. President Donald Trump.<br>Rating: 1",
          "Biden to blame for higher gasoline prices<br>Rating: 1",
          "The most common price of U.S. gas was above $5 per gallon when U.S. President Joe Biden took office in January 2021.<br>Rating: 1",
          "Says that Biden’s ban on new federal leases will kill 120,000 Texas jobs.<br>Rating: 2",
          "By revoking the Keystone pipeline permit, Biden is destroying 11,000 jobs.<br>Rating: 2",
          "We finally achieved that energy independence... under the Trump administration. President Biden squandered (it) away.<br>Rating: 2",
          "By ending the Keystone XL Pipeline project, President Joe Biden imperiled one of Donald Trump's most significant achievements, which was that we had achieved American energy independence.<br>Rating: 2",
          "After only 10 days in office, Joe Biden sent the United States back 50 years on its progress toward energy independence.<br>Rating: 2",
          "Claims Joe Biden said coal is more dangerous than terrorists.<br>Rating: 2",
          "Obama, Biden and their liberal allies oppose clean coal.<br>Rating: 1",
          "Joe Biden’s comments prove that food shortages are being done deliberately by the governments of the world.<br>Rating: 1",
          "Says Joe Biden is going to control how much meat you can eat.<br>Rating: 1",
          "The Biden administration is spending $30 million on crack pipes.<br>Rating: 2",
          "As soon as Biden took office, he eliminated all subsidies for fossil fuels.<br>Rating: 2",
          "Joe Biden confirmed his plan to abolish the entire U.S. oil industry.<br>Rating: 1",
          "Democrats, including President Joe Biden, stopped domestic drilling for oil, driving gasoline prices higher.<br>Rating: 1",
          "Joe Biden’s war on American energy caused this crisis and his only response has been to drain our strategic petroleum reserve to its lowest level since 1983.<br>Rating: 2",
          "An image shared on Facebook over 800 times claims energy producer Royal Dutch Shell is laying off 9,000 workers because of President Joe Biden.<br>Rating: 1",
          "Shell Oil laying off 9,000 workers because of Joe Biden.<br>Rating: 1",
          "A post shared on Facebook claims that President Joe Biden’s administration is seeking to ban the use of gas stoves.<br>Rating: 1",
          "U.S. President Joe Biden’s administration is planning to ban gas stoves over concerns surrounding climate change.<br>Rating: 1",
          "Says President Joe Biden is trying to send taxpayer dollars to manufacturers overseas that do not abide by the same (carbon emission) standards we do at home.<br>Rating: 2",
          "Says Joe Biden plans to mandate net-zero carbon emissions for homes, offices and all new buildings by 2030. That basically means no windows, no nothing.<br>Rating: 1",
          "Says Joe Biden has plans to ban animal agriculture and gas-powered cars.<br>Rating: 1",
          "Says Joe Biden will redirect the $30 billion that Donald Trump left for U.S. farmers to ‘climate change.’<br>Rating: 2",
          "Says Joe Biden wants American farmers to put their farmland into Gvt ‘land banks.’ Gvt would then tell farmers what ‘sustainable’ plants they could grow.<br>Rating: 2",
          "Says Joe Biden is following through with a fracking ban.<br>Rating: 2",
          "Joe Biden wants to ban fracking<br>Rating: 1",
          "Joe Biden plans to ban fracking<br>Rating: 1",
          "In the 2020 presidential election, Democratic candidate Joe Biden's policy on fracking was to ban it outright.<br>Rating: 2",
          "Even so-called moderate Democrats like Joe Biden have endorsed a ban on fracking, which would eliminate 516,000 Michigan jobs and reduce the state’s gross domestic product by $159 billion over five years.<br>Rating: 2",
          "Says Democratic presidential nominee Joe Biden backs a fracking ban that would cost 100,000 Wisconsin jobs<br>Rating: 1",
          "Says Joe Biden proposed killing over 600,000 jobs supported by fracking.<br>Rating: 1",
          "Says Joe Biden has plans to ban animal agriculture and gas-powered cars.<br>Rating: 1",
          "Says Joe Biden's plan for net-zero emissions would instantly shut down all fracking and all mining immediately in Pennsylvania.<br>Rating: 1",
          "Says Joe Biden is going to control how much meat you can eat.<br>Rating: 1",
          "Says Joe Biden just announced on CNN he will completely shut down drilling for oil and natural gas on day one of his administration.<br>Rating: 2",
          "Says Joe Biden’s website shows that he supports the Green New Deal, despite denials in debate.<br>Rating: 2",
          "U.S. 2020 Democratic presidential candidate Joe Biden does not support the set of climate change proposals set forth by other members of his party known as the Green New Deal.<br>Rating: 2",
          "Says Joe Biden made it clear..No More Coal Fired Power Plants!! So, No More Coal!! Wake Up WV, PA,OH, KY<br>Rating: 2",
          "President Trump sanctioned Russia. President Biden gave them a pipeline.<br>Rating: 2",
          "Joe Biden's cancellation of the Keystone pipeline dramatically increased Americans' dependence on Russian oil.<br>Rating: 1",
          "In May 2021, U.S. President Joe Biden's administration announced it would waive some sanctions on the corporate entity and CEO overseeing the construction of Russia’s Nord Stream 2 pipeline into Germany.<br>Rating: 3",
          "Biden invested the entire family fortune in Ukraine gas and oil. Then shuts down Keystone pipeline. Starting to get the picture.<br>Rating: 1",
          "By ending the Keystone XL Pipeline project, President Joe Biden imperiled one of Donald Trump's most significant achievements, which was that we had achieved American energy independence.<br>Rating: 2",
          "Biden Did Not Threaten to Sabotage Nord Stream Pipelines as Russian Disinfo Claims<br>Rating: 1",
          "Says Joe Biden helps build Afghanistan’s pipeline.<br>Rating: 1",
          "A post shared on Facebook claims President Joe Biden announced that all American citizens would receive a $1,000 check for gas.<br>Rating: 1",
          "President Biden confirm(ed) everyone will receive their $1k gas checks this week!!<br>Rating: 1",
          "A post shared on Facebook claims President Joe Biden plans to give every American a $5 gas card.<br>Rating: 1",
          "Says Joe Biden’s order stopping the Keystone pipeline made oil more expensive for us to use.<br>Rating: 2",
          "Joe Biden's cancellation of the Keystone pipeline dramatically increased Americans' dependence on Russian oil.<br>Rating: 1",
          "Low gas prices in Russia, Kuwait and Saudi Arabia show that Joe Biden’s decision to cancel the Keystone Pipeline project is to blame for U.S. prices.<br>Rating: 1",
          "Biden invested the entire family fortune in Ukraine gas and oil. Then shuts down Keystone pipeline. Starting to get the picture.<br>Rating: 1",
          "Two years ago we were drilling our own oil for $27 a barrel. Now, thanks to Joe Biden, we’re paying $105 a barrel to Russia.<br>Rating: 1",
          "Biden's Keystone XL pipeline reversal will cost tens of thousands of jobs<br>Rating: 1",
          "The cancellation of the Keystone XL pipeline by Joe Biden killed hundreds of jobs, sent gas prices way up.<br>Rating: 2",
          "Says Joe Biden canceled the Keystone pipeline because Warren Buffett donated $58 million to his campaign.<br>Rating: 1",
          "Says Joe Biden helps build Afghanistan’s pipeline.<br>Rating: 1",
          "My company was building the Keystone Pipeline when (President Joe) Biden canceled it.<br>Rating: 2",
          "By ending the Keystone XL Pipeline project, President Joe Biden imperiled one of Donald Trump's most significant achievements, which was that we had achieved American energy independence.<br>Rating: 2",
          "Joe Biden confirmed his plan to abolish the entire U.S. oil industry.<br>Rating: 1",
          "U.S. President Joe Biden's Jan. 20, 2021, executive order to halt construction of the Keystone XL pipeline destroyed 11,000 jobs.<br>Rating: 2",
          "Democrats, including President Joe Biden, stopped domestic drilling for oil, driving gasoline prices higher.<br>Rating: 1",
          "Says Joe Biden imports oil from Iran.<br>Rating: 2",
          "Biden gave Americans the cheapest gas prices on Earth.<br>Rating: 1",
          "Joe Biden’s war on American energy caused this crisis and his only response has been to drain our strategic petroleum reserve to its lowest level since 1983.<br>Rating: 2",
          "Joe Biden's sanctions on Russia are riddled with loopholes and don't even start for 30 days. They have carve outs for the energy and financial sectors.<br>Rating: 2",
          "In May 2021, U.S. President Joe Biden's administration announced it would waive some sanctions on the corporate entity and CEO overseeing the construction of Russia’s Nord Stream 2 pipeline into Germany.<br>Rating: 3",
          "A video shared on Facebook claims Secretary of State Antony Blinken said President Joe Biden was responsible for the Nord Stream pipeline leaks.<br>Rating: 1",
          "Antony Blinken confesses that Biden is responsible for the Nord Stream pipeline leaks.<br>Rating: 1",
          "President Joe Biden said, I know you all know there’s no climate problem, proving that people have been lying for decades about climate change.<br>Rating: 1",
          "Joe Biden said there is no climate crisis<br>Rating: 1",
          "Biden’s Speech Minimizes Historic US Greenhouse Contribution<br>Rating: 2",
          "Says Joe Biden will redirect the $30 billion that Donald Trump left for U.S. farmers to ‘climate change.’<br>Rating: 2",
          "U.S. 2020 Democratic presidential candidate Joe Biden does not support the set of climate change proposals set forth by other members of his party known as the Green New Deal.<br>Rating: 2",
          "The Biden administration published a study concluding 4 (of) 5 new cars on the road by 2050 will still require liquid fuels.<br>Rating: 3",
          "The Biden administration ignores the negative environmental impact created by lithium mining.<br>Rating: 1",
          "Gas prices during the Obama-Biden administration were $5.49 a gallon.<br>Rating: 2",
          "U.S. gas prices averaged well over $5 per gallon under the administration of U.S. President Barack Obama and Vice President Joe Biden.<br>Rating: 1",
          "The most common price of U.S. gas was above $5 per gallon when U.S. President Joe Biden took office in January 2021.<br>Rating: 1",
          "Gas prices at their highest in many places in the US since Obama, because of Biden<br>Rating: 2",
          "Biden gave Americans the cheapest gas prices on Earth.<br>Rating: 1",
          "A gas prices meme accurately shows high prices under U.S. President Joe Biden and low prices under former U.S. President Donald Trump.<br>Rating: 1",
          "Soybeans dropped 70 cents and corn 50 cents per bushel in two days, causing farmers to lose big money, thanks to Biden’s executive orders.<br>Rating: 2",
          "Soybean and corn price drop is because of Biden’s executive orders<br>Rating: 1",
          "A BP oil executive named Brice Cromwell blamed the Biden administration for high gas prices.<br>Rating: 1",
          "A BP oil executive named Brice Cromwell blamed U.S. President Joe Biden for high gas prices in a viral Facebook post.<br>Rating: 1",
          "Biden to blame for higher gasoline prices<br>Rating: 1",
          "A Facebook meme accurately represents the difference in gas prices under U.S. Presidents Donald Trump and Joe Biden, with Biden's presidency and policies being the reason why prices were higher in mid-2021.<br>Rating: 1",
          "A gas prices meme accurately shows high prices under U.S. President Joe Biden and low prices under former U.S. President Donald Trump.<br>Rating: 1",
          "Lumber, gas, wheat, coal and corn cost more in April 2021 in Joe Biden's America than they did a year earlier.<br>Rating: 2",
          "A screenshot taken from TV coverage of a White House news conference displays a chyron accurately stating that the Biden administration had told pipeline workers, You can find another job.<br>Rating: 2"
         ],
         "marker": {
          "color": [
           "blue",
           "red",
           "red",
           "orange",
           "red",
           "red",
           "orange",
           "green",
           "red",
           "orange",
           "red",
           "red",
           "red",
           "red",
           "red",
           "red",
           "red",
           "red",
           "red",
           "red",
           "red",
           "red",
           "red",
           "red",
           "red",
           "red",
           "red",
           "red",
           "red",
           "orange",
           "orange",
           "orange",
           "orange",
           "orange",
           "orange",
           "red",
           "red",
           "red",
           "orange",
           "orange",
           "red",
           "red",
           "orange",
           "red",
           "red",
           "red",
           "red",
           "orange",
           "red",
           "red",
           "orange",
           "orange",
           "orange",
           "red",
           "red",
           "orange",
           "orange",
           "red",
           "red",
           "red",
           "red",
           "red",
           "orange",
           "orange",
           "orange",
           "orange",
           "orange",
           "red",
           "green",
           "red",
           "orange",
           "red",
           "red",
           "red",
           "red",
           "red",
           "orange",
           "red",
           "red",
           "red",
           "red",
           "red",
           "orange",
           "red",
           "red",
           "orange",
           "orange",
           "red",
           "orange",
           "red",
           "orange",
           "red",
           "orange",
           "orange",
           "green",
           "red",
           "red",
           "red",
           "red",
           "orange",
           "orange",
           "orange",
           "green",
           "red",
           "orange",
           "red",
           "red",
           "orange",
           "red",
           "red",
           "orange",
           "red",
           "red",
           "red",
           "red",
           "red",
           "red",
           "orange",
           "orange"
          ],
          "line": {
           "color": "Black",
           "width": 2
          },
          "size": [
           20,
           15,
           10,
           10,
           10,
           10,
           10,
           10,
           10,
           10,
           15,
           10,
           10,
           10,
           10,
           10,
           10,
           15,
           10,
           10,
           10,
           10,
           15,
           10,
           15,
           10,
           10,
           10,
           10,
           15,
           10,
           15,
           10,
           10,
           15,
           10,
           15,
           10,
           15,
           15,
           10,
           10,
           10,
           15,
           10,
           15,
           10,
           15,
           10,
           10,
           10,
           10,
           15,
           10,
           10,
           10,
           10,
           10,
           10,
           10,
           10,
           10,
           10,
           15,
           10,
           15,
           15,
           10,
           10,
           10,
           10,
           10,
           10,
           15,
           10,
           10,
           15,
           10,
           10,
           10,
           10,
           10,
           10,
           10,
           10,
           10,
           10,
           10,
           10,
           10,
           10,
           10,
           10,
           15,
           10,
           15,
           10,
           15,
           10,
           10,
           10,
           10,
           15,
           15,
           15,
           10,
           10,
           10,
           10,
           10,
           15,
           10,
           15,
           10,
           10,
           15,
           10,
           15,
           15
          ]
         },
         "mode": "markers+text",
         "text": [
          "ROOT",
          "Sentence_0",
          "",
          "",
          "",
          "",
          "",
          "",
          "",
          "",
          "Sentence_1",
          "",
          "",
          "",
          "",
          "",
          "",
          "Sentence_2",
          "",
          "",
          "",
          "",
          "Sentence_3",
          "",
          "Sentence_4",
          "",
          "",
          "",
          "",
          "Sentence_5",
          "",
          "Sentence_6",
          "",
          "",
          "Sentence_7",
          "",
          "Sentence_8",
          "",
          "Sentence_9",
          "Sentence_10",
          "",
          "",
          "",
          "Sentence_11",
          "",
          "Sentence_12",
          "",
          "Sentence_13",
          "",
          "",
          "",
          "",
          "Sentence_14",
          "",
          "",
          "",
          "",
          "",
          "",
          "",
          "",
          "",
          "",
          "Sentence_15",
          "",
          "Sentence_16",
          "Sentence_17",
          "",
          "",
          "",
          "",
          "",
          "",
          "Sentence_18",
          "",
          "",
          "Sentence_19",
          "",
          "",
          "",
          "",
          "",
          "",
          "",
          "",
          "",
          "",
          "",
          "",
          "",
          "",
          "",
          "",
          "Sentence_20",
          "",
          "Sentence_21",
          "",
          "Sentence_22",
          "",
          "",
          "",
          "",
          "Sentence_23",
          "Sentence_24",
          "Sentence_25",
          "",
          "",
          "",
          "",
          "",
          "Sentence_26",
          "",
          "Sentence_27",
          "",
          "",
          "Sentence_28",
          "",
          "Sentence_29",
          "Sentence_30"
         ],
         "textposition": "bottom center",
         "type": "scatter",
         "x": [
          0,
          1,
          1,
          1,
          1,
          1,
          1,
          1,
          1,
          1,
          2,
          2,
          2,
          2,
          2,
          2,
          2,
          3,
          3,
          3,
          3,
          3,
          4,
          4,
          5,
          5,
          5,
          5,
          5,
          6,
          6,
          7,
          7,
          7,
          8,
          8,
          9,
          9,
          10,
          11,
          11,
          11,
          11,
          12,
          12,
          13,
          13,
          14,
          14,
          14,
          14,
          14,
          15,
          15,
          15,
          15,
          15,
          15,
          15,
          15,
          15,
          15,
          15,
          16,
          16,
          17,
          18,
          18,
          18,
          18,
          18,
          18,
          18,
          19,
          19,
          19,
          20,
          20,
          20,
          20,
          20,
          20,
          20,
          20,
          20,
          20,
          20,
          20,
          20,
          20,
          20,
          20,
          20,
          21,
          21,
          22,
          22,
          23,
          23,
          23,
          23,
          23,
          24,
          25,
          26,
          26,
          26,
          26,
          26,
          26,
          27,
          27,
          28,
          28,
          28,
          29,
          29,
          30,
          31
         ],
         "y": [
          0,
          0,
          -1,
          -2,
          -3,
          -4,
          -5,
          -6,
          -7,
          -8,
          0,
          -9,
          -10,
          -11,
          -12,
          -13,
          -14,
          0,
          -15,
          -16,
          -17,
          -18,
          0,
          -19,
          0,
          -20,
          -21,
          -22,
          -23,
          0,
          -24,
          0,
          -25,
          -26,
          0,
          -27,
          0,
          -28,
          0,
          0,
          -29,
          -30,
          -31,
          0,
          -32,
          0,
          -33,
          0,
          -34,
          -35,
          -36,
          -37,
          0,
          -38,
          -39,
          -40,
          -41,
          -42,
          -43,
          -44,
          -45,
          -46,
          -47,
          0,
          -48,
          0,
          0,
          -49,
          -50,
          -51,
          -52,
          -53,
          -54,
          0,
          -55,
          -56,
          0,
          -57,
          -58,
          -59,
          -60,
          -61,
          -62,
          -63,
          -64,
          -65,
          -66,
          -67,
          -68,
          -69,
          -70,
          -71,
          -72,
          0,
          -73,
          0,
          -74,
          0,
          -75,
          -76,
          -77,
          -78,
          0,
          0,
          0,
          -79,
          -80,
          -81,
          -82,
          -83,
          0,
          -84,
          0,
          -85,
          -86,
          0,
          -87,
          0,
          0
         ]
        }
       ],
       "layout": {
        "height": 600,
        "hovermode": "closest",
        "margin": {
         "b": 20,
         "l": 20,
         "r": 20,
         "t": 20
        },
        "shapes": [
         {
          "line": {
           "color": "Black",
           "width": 0.5
          },
          "type": "line",
          "x0": 0,
          "x1": 1,
          "y0": 0,
          "y1": 0
         },
         {
          "line": {
           "color": "Black",
           "width": 0.5
          },
          "type": "line",
          "x0": 1,
          "x1": 1,
          "y0": 0,
          "y1": -1
         },
         {
          "line": {
           "color": "Black",
           "width": 0.5
          },
          "type": "line",
          "x0": 1,
          "x1": 1,
          "y0": -1,
          "y1": -2
         },
         {
          "line": {
           "color": "Black",
           "width": 0.5
          },
          "type": "line",
          "x0": 1,
          "x1": 1,
          "y0": -2,
          "y1": -3
         },
         {
          "line": {
           "color": "Black",
           "width": 0.5
          },
          "type": "line",
          "x0": 1,
          "x1": 1,
          "y0": -3,
          "y1": -4
         },
         {
          "line": {
           "color": "Black",
           "width": 0.5
          },
          "type": "line",
          "x0": 1,
          "x1": 1,
          "y0": -4,
          "y1": -5
         },
         {
          "line": {
           "color": "Black",
           "width": 0.5
          },
          "type": "line",
          "x0": 1,
          "x1": 1,
          "y0": -5,
          "y1": -6
         },
         {
          "line": {
           "color": "Black",
           "width": 0.5
          },
          "type": "line",
          "x0": 1,
          "x1": 1,
          "y0": -6,
          "y1": -7
         },
         {
          "line": {
           "color": "Black",
           "width": 0.5
          },
          "type": "line",
          "x0": 1,
          "x1": 1,
          "y0": -7,
          "y1": -8
         },
         {
          "line": {
           "color": "Black",
           "width": 0.5
          },
          "type": "line",
          "x0": 1,
          "x1": 2,
          "y0": -8,
          "y1": 0
         },
         {
          "line": {
           "color": "Black",
           "width": 0.5
          },
          "type": "line",
          "x0": 2,
          "x1": 2,
          "y0": 0,
          "y1": -9
         },
         {
          "line": {
           "color": "Black",
           "width": 0.5
          },
          "type": "line",
          "x0": 2,
          "x1": 2,
          "y0": -9,
          "y1": -10
         },
         {
          "line": {
           "color": "Black",
           "width": 0.5
          },
          "type": "line",
          "x0": 2,
          "x1": 2,
          "y0": -10,
          "y1": -11
         },
         {
          "line": {
           "color": "Black",
           "width": 0.5
          },
          "type": "line",
          "x0": 2,
          "x1": 2,
          "y0": -11,
          "y1": -12
         },
         {
          "line": {
           "color": "Black",
           "width": 0.5
          },
          "type": "line",
          "x0": 2,
          "x1": 2,
          "y0": -12,
          "y1": -13
         },
         {
          "line": {
           "color": "Black",
           "width": 0.5
          },
          "type": "line",
          "x0": 2,
          "x1": 2,
          "y0": -13,
          "y1": -14
         },
         {
          "line": {
           "color": "Black",
           "width": 0.5
          },
          "type": "line",
          "x0": 2,
          "x1": 3,
          "y0": -14,
          "y1": 0
         },
         {
          "line": {
           "color": "Black",
           "width": 0.5
          },
          "type": "line",
          "x0": 3,
          "x1": 3,
          "y0": 0,
          "y1": -15
         },
         {
          "line": {
           "color": "Black",
           "width": 0.5
          },
          "type": "line",
          "x0": 3,
          "x1": 3,
          "y0": -15,
          "y1": -16
         },
         {
          "line": {
           "color": "Black",
           "width": 0.5
          },
          "type": "line",
          "x0": 3,
          "x1": 3,
          "y0": -16,
          "y1": -17
         },
         {
          "line": {
           "color": "Black",
           "width": 0.5
          },
          "type": "line",
          "x0": 3,
          "x1": 3,
          "y0": -17,
          "y1": -18
         },
         {
          "line": {
           "color": "Black",
           "width": 0.5
          },
          "type": "line",
          "x0": 3,
          "x1": 4,
          "y0": -18,
          "y1": 0
         },
         {
          "line": {
           "color": "Black",
           "width": 0.5
          },
          "type": "line",
          "x0": 4,
          "x1": 4,
          "y0": 0,
          "y1": -19
         },
         {
          "line": {
           "color": "Black",
           "width": 0.5
          },
          "type": "line",
          "x0": 4,
          "x1": 5,
          "y0": -19,
          "y1": 0
         },
         {
          "line": {
           "color": "Black",
           "width": 0.5
          },
          "type": "line",
          "x0": 5,
          "x1": 5,
          "y0": 0,
          "y1": -20
         },
         {
          "line": {
           "color": "Black",
           "width": 0.5
          },
          "type": "line",
          "x0": 5,
          "x1": 5,
          "y0": -20,
          "y1": -21
         },
         {
          "line": {
           "color": "Black",
           "width": 0.5
          },
          "type": "line",
          "x0": 5,
          "x1": 5,
          "y0": -21,
          "y1": -22
         },
         {
          "line": {
           "color": "Black",
           "width": 0.5
          },
          "type": "line",
          "x0": 5,
          "x1": 5,
          "y0": -22,
          "y1": -23
         },
         {
          "line": {
           "color": "Black",
           "width": 0.5
          },
          "type": "line",
          "x0": 5,
          "x1": 6,
          "y0": -23,
          "y1": 0
         },
         {
          "line": {
           "color": "Black",
           "width": 0.5
          },
          "type": "line",
          "x0": 6,
          "x1": 6,
          "y0": 0,
          "y1": -24
         },
         {
          "line": {
           "color": "Black",
           "width": 0.5
          },
          "type": "line",
          "x0": 6,
          "x1": 7,
          "y0": -24,
          "y1": 0
         },
         {
          "line": {
           "color": "Black",
           "width": 0.5
          },
          "type": "line",
          "x0": 7,
          "x1": 7,
          "y0": 0,
          "y1": -25
         },
         {
          "line": {
           "color": "Black",
           "width": 0.5
          },
          "type": "line",
          "x0": 7,
          "x1": 7,
          "y0": -25,
          "y1": -26
         },
         {
          "line": {
           "color": "Black",
           "width": 0.5
          },
          "type": "line",
          "x0": 7,
          "x1": 8,
          "y0": -26,
          "y1": 0
         },
         {
          "line": {
           "color": "Black",
           "width": 0.5
          },
          "type": "line",
          "x0": 8,
          "x1": 8,
          "y0": 0,
          "y1": -27
         },
         {
          "line": {
           "color": "Black",
           "width": 0.5
          },
          "type": "line",
          "x0": 8,
          "x1": 9,
          "y0": -27,
          "y1": 0
         },
         {
          "line": {
           "color": "Black",
           "width": 0.5
          },
          "type": "line",
          "x0": 9,
          "x1": 9,
          "y0": 0,
          "y1": -28
         },
         {
          "line": {
           "color": "Black",
           "width": 0.5
          },
          "type": "line",
          "x0": 9,
          "x1": 10,
          "y0": -28,
          "y1": 0
         },
         {
          "line": {
           "color": "Black",
           "width": 0.5
          },
          "type": "line",
          "x0": 10,
          "x1": 11,
          "y0": 0,
          "y1": 0
         },
         {
          "line": {
           "color": "Black",
           "width": 0.5
          },
          "type": "line",
          "x0": 11,
          "x1": 11,
          "y0": 0,
          "y1": -29
         },
         {
          "line": {
           "color": "Black",
           "width": 0.5
          },
          "type": "line",
          "x0": 11,
          "x1": 11,
          "y0": -29,
          "y1": -30
         },
         {
          "line": {
           "color": "Black",
           "width": 0.5
          },
          "type": "line",
          "x0": 11,
          "x1": 11,
          "y0": -30,
          "y1": -31
         },
         {
          "line": {
           "color": "Black",
           "width": 0.5
          },
          "type": "line",
          "x0": 11,
          "x1": 12,
          "y0": -31,
          "y1": 0
         },
         {
          "line": {
           "color": "Black",
           "width": 0.5
          },
          "type": "line",
          "x0": 12,
          "x1": 12,
          "y0": 0,
          "y1": -32
         },
         {
          "line": {
           "color": "Black",
           "width": 0.5
          },
          "type": "line",
          "x0": 12,
          "x1": 13,
          "y0": -32,
          "y1": 0
         },
         {
          "line": {
           "color": "Black",
           "width": 0.5
          },
          "type": "line",
          "x0": 13,
          "x1": 13,
          "y0": 0,
          "y1": -33
         },
         {
          "line": {
           "color": "Black",
           "width": 0.5
          },
          "type": "line",
          "x0": 13,
          "x1": 14,
          "y0": -33,
          "y1": 0
         },
         {
          "line": {
           "color": "Black",
           "width": 0.5
          },
          "type": "line",
          "x0": 14,
          "x1": 14,
          "y0": 0,
          "y1": -34
         },
         {
          "line": {
           "color": "Black",
           "width": 0.5
          },
          "type": "line",
          "x0": 14,
          "x1": 14,
          "y0": -34,
          "y1": -35
         },
         {
          "line": {
           "color": "Black",
           "width": 0.5
          },
          "type": "line",
          "x0": 14,
          "x1": 14,
          "y0": -35,
          "y1": -36
         },
         {
          "line": {
           "color": "Black",
           "width": 0.5
          },
          "type": "line",
          "x0": 14,
          "x1": 14,
          "y0": -36,
          "y1": -37
         },
         {
          "line": {
           "color": "Black",
           "width": 0.5
          },
          "type": "line",
          "x0": 14,
          "x1": 15,
          "y0": -37,
          "y1": 0
         },
         {
          "line": {
           "color": "Black",
           "width": 0.5
          },
          "type": "line",
          "x0": 15,
          "x1": 15,
          "y0": 0,
          "y1": -38
         },
         {
          "line": {
           "color": "Black",
           "width": 0.5
          },
          "type": "line",
          "x0": 15,
          "x1": 15,
          "y0": -38,
          "y1": -39
         },
         {
          "line": {
           "color": "Black",
           "width": 0.5
          },
          "type": "line",
          "x0": 15,
          "x1": 15,
          "y0": -39,
          "y1": -40
         },
         {
          "line": {
           "color": "Black",
           "width": 0.5
          },
          "type": "line",
          "x0": 15,
          "x1": 15,
          "y0": -40,
          "y1": -41
         },
         {
          "line": {
           "color": "Black",
           "width": 0.5
          },
          "type": "line",
          "x0": 15,
          "x1": 15,
          "y0": -41,
          "y1": -42
         },
         {
          "line": {
           "color": "Black",
           "width": 0.5
          },
          "type": "line",
          "x0": 15,
          "x1": 15,
          "y0": -42,
          "y1": -43
         },
         {
          "line": {
           "color": "Black",
           "width": 0.5
          },
          "type": "line",
          "x0": 15,
          "x1": 15,
          "y0": -43,
          "y1": -44
         },
         {
          "line": {
           "color": "Black",
           "width": 0.5
          },
          "type": "line",
          "x0": 15,
          "x1": 15,
          "y0": -44,
          "y1": -45
         },
         {
          "line": {
           "color": "Black",
           "width": 0.5
          },
          "type": "line",
          "x0": 15,
          "x1": 15,
          "y0": -45,
          "y1": -46
         },
         {
          "line": {
           "color": "Black",
           "width": 0.5
          },
          "type": "line",
          "x0": 15,
          "x1": 15,
          "y0": -46,
          "y1": -47
         },
         {
          "line": {
           "color": "Black",
           "width": 0.5
          },
          "type": "line",
          "x0": 15,
          "x1": 16,
          "y0": -47,
          "y1": 0
         },
         {
          "line": {
           "color": "Black",
           "width": 0.5
          },
          "type": "line",
          "x0": 16,
          "x1": 16,
          "y0": 0,
          "y1": -48
         },
         {
          "line": {
           "color": "Black",
           "width": 0.5
          },
          "type": "line",
          "x0": 16,
          "x1": 17,
          "y0": -48,
          "y1": 0
         },
         {
          "line": {
           "color": "Black",
           "width": 0.5
          },
          "type": "line",
          "x0": 17,
          "x1": 18,
          "y0": 0,
          "y1": 0
         },
         {
          "line": {
           "color": "Black",
           "width": 0.5
          },
          "type": "line",
          "x0": 18,
          "x1": 18,
          "y0": 0,
          "y1": -49
         },
         {
          "line": {
           "color": "Black",
           "width": 0.5
          },
          "type": "line",
          "x0": 18,
          "x1": 18,
          "y0": -49,
          "y1": -50
         },
         {
          "line": {
           "color": "Black",
           "width": 0.5
          },
          "type": "line",
          "x0": 18,
          "x1": 18,
          "y0": -50,
          "y1": -51
         },
         {
          "line": {
           "color": "Black",
           "width": 0.5
          },
          "type": "line",
          "x0": 18,
          "x1": 18,
          "y0": -51,
          "y1": -52
         },
         {
          "line": {
           "color": "Black",
           "width": 0.5
          },
          "type": "line",
          "x0": 18,
          "x1": 18,
          "y0": -52,
          "y1": -53
         },
         {
          "line": {
           "color": "Black",
           "width": 0.5
          },
          "type": "line",
          "x0": 18,
          "x1": 18,
          "y0": -53,
          "y1": -54
         },
         {
          "line": {
           "color": "Black",
           "width": 0.5
          },
          "type": "line",
          "x0": 18,
          "x1": 19,
          "y0": -54,
          "y1": 0
         },
         {
          "line": {
           "color": "Black",
           "width": 0.5
          },
          "type": "line",
          "x0": 19,
          "x1": 19,
          "y0": 0,
          "y1": -55
         },
         {
          "line": {
           "color": "Black",
           "width": 0.5
          },
          "type": "line",
          "x0": 19,
          "x1": 19,
          "y0": -55,
          "y1": -56
         },
         {
          "line": {
           "color": "Black",
           "width": 0.5
          },
          "type": "line",
          "x0": 19,
          "x1": 20,
          "y0": -56,
          "y1": 0
         },
         {
          "line": {
           "color": "Black",
           "width": 0.5
          },
          "type": "line",
          "x0": 20,
          "x1": 20,
          "y0": 0,
          "y1": -57
         },
         {
          "line": {
           "color": "Black",
           "width": 0.5
          },
          "type": "line",
          "x0": 20,
          "x1": 20,
          "y0": -57,
          "y1": -58
         },
         {
          "line": {
           "color": "Black",
           "width": 0.5
          },
          "type": "line",
          "x0": 20,
          "x1": 20,
          "y0": -58,
          "y1": -59
         },
         {
          "line": {
           "color": "Black",
           "width": 0.5
          },
          "type": "line",
          "x0": 20,
          "x1": 20,
          "y0": -59,
          "y1": -60
         },
         {
          "line": {
           "color": "Black",
           "width": 0.5
          },
          "type": "line",
          "x0": 20,
          "x1": 20,
          "y0": -60,
          "y1": -61
         },
         {
          "line": {
           "color": "Black",
           "width": 0.5
          },
          "type": "line",
          "x0": 20,
          "x1": 20,
          "y0": -61,
          "y1": -62
         },
         {
          "line": {
           "color": "Black",
           "width": 0.5
          },
          "type": "line",
          "x0": 20,
          "x1": 20,
          "y0": -62,
          "y1": -63
         },
         {
          "line": {
           "color": "Black",
           "width": 0.5
          },
          "type": "line",
          "x0": 20,
          "x1": 20,
          "y0": -63,
          "y1": -64
         },
         {
          "line": {
           "color": "Black",
           "width": 0.5
          },
          "type": "line",
          "x0": 20,
          "x1": 20,
          "y0": -64,
          "y1": -65
         },
         {
          "line": {
           "color": "Black",
           "width": 0.5
          },
          "type": "line",
          "x0": 20,
          "x1": 20,
          "y0": -65,
          "y1": -66
         },
         {
          "line": {
           "color": "Black",
           "width": 0.5
          },
          "type": "line",
          "x0": 20,
          "x1": 20,
          "y0": -66,
          "y1": -67
         },
         {
          "line": {
           "color": "Black",
           "width": 0.5
          },
          "type": "line",
          "x0": 20,
          "x1": 20,
          "y0": -67,
          "y1": -68
         },
         {
          "line": {
           "color": "Black",
           "width": 0.5
          },
          "type": "line",
          "x0": 20,
          "x1": 20,
          "y0": -68,
          "y1": -69
         },
         {
          "line": {
           "color": "Black",
           "width": 0.5
          },
          "type": "line",
          "x0": 20,
          "x1": 20,
          "y0": -69,
          "y1": -70
         },
         {
          "line": {
           "color": "Black",
           "width": 0.5
          },
          "type": "line",
          "x0": 20,
          "x1": 20,
          "y0": -70,
          "y1": -71
         },
         {
          "line": {
           "color": "Black",
           "width": 0.5
          },
          "type": "line",
          "x0": 20,
          "x1": 20,
          "y0": -71,
          "y1": -72
         },
         {
          "line": {
           "color": "Black",
           "width": 0.5
          },
          "type": "line",
          "x0": 20,
          "x1": 21,
          "y0": -72,
          "y1": 0
         },
         {
          "line": {
           "color": "Black",
           "width": 0.5
          },
          "type": "line",
          "x0": 21,
          "x1": 21,
          "y0": 0,
          "y1": -73
         },
         {
          "line": {
           "color": "Black",
           "width": 0.5
          },
          "type": "line",
          "x0": 21,
          "x1": 22,
          "y0": -73,
          "y1": 0
         },
         {
          "line": {
           "color": "Black",
           "width": 0.5
          },
          "type": "line",
          "x0": 22,
          "x1": 22,
          "y0": 0,
          "y1": -74
         },
         {
          "line": {
           "color": "Black",
           "width": 0.5
          },
          "type": "line",
          "x0": 22,
          "x1": 23,
          "y0": -74,
          "y1": 0
         },
         {
          "line": {
           "color": "Black",
           "width": 0.5
          },
          "type": "line",
          "x0": 23,
          "x1": 23,
          "y0": 0,
          "y1": -75
         },
         {
          "line": {
           "color": "Black",
           "width": 0.5
          },
          "type": "line",
          "x0": 23,
          "x1": 23,
          "y0": -75,
          "y1": -76
         },
         {
          "line": {
           "color": "Black",
           "width": 0.5
          },
          "type": "line",
          "x0": 23,
          "x1": 23,
          "y0": -76,
          "y1": -77
         },
         {
          "line": {
           "color": "Black",
           "width": 0.5
          },
          "type": "line",
          "x0": 23,
          "x1": 23,
          "y0": -77,
          "y1": -78
         },
         {
          "line": {
           "color": "Black",
           "width": 0.5
          },
          "type": "line",
          "x0": 23,
          "x1": 24,
          "y0": -78,
          "y1": 0
         },
         {
          "line": {
           "color": "Black",
           "width": 0.5
          },
          "type": "line",
          "x0": 24,
          "x1": 25,
          "y0": 0,
          "y1": 0
         },
         {
          "line": {
           "color": "Black",
           "width": 0.5
          },
          "type": "line",
          "x0": 25,
          "x1": 26,
          "y0": 0,
          "y1": 0
         },
         {
          "line": {
           "color": "Black",
           "width": 0.5
          },
          "type": "line",
          "x0": 26,
          "x1": 26,
          "y0": 0,
          "y1": -79
         },
         {
          "line": {
           "color": "Black",
           "width": 0.5
          },
          "type": "line",
          "x0": 26,
          "x1": 26,
          "y0": -79,
          "y1": -80
         },
         {
          "line": {
           "color": "Black",
           "width": 0.5
          },
          "type": "line",
          "x0": 26,
          "x1": 26,
          "y0": -80,
          "y1": -81
         },
         {
          "line": {
           "color": "Black",
           "width": 0.5
          },
          "type": "line",
          "x0": 26,
          "x1": 26,
          "y0": -81,
          "y1": -82
         },
         {
          "line": {
           "color": "Black",
           "width": 0.5
          },
          "type": "line",
          "x0": 26,
          "x1": 26,
          "y0": -82,
          "y1": -83
         },
         {
          "line": {
           "color": "Black",
           "width": 0.5
          },
          "type": "line",
          "x0": 26,
          "x1": 27,
          "y0": -83,
          "y1": 0
         },
         {
          "line": {
           "color": "Black",
           "width": 0.5
          },
          "type": "line",
          "x0": 27,
          "x1": 27,
          "y0": 0,
          "y1": -84
         },
         {
          "line": {
           "color": "Black",
           "width": 0.5
          },
          "type": "line",
          "x0": 27,
          "x1": 28,
          "y0": -84,
          "y1": 0
         },
         {
          "line": {
           "color": "Black",
           "width": 0.5
          },
          "type": "line",
          "x0": 28,
          "x1": 28,
          "y0": 0,
          "y1": -85
         },
         {
          "line": {
           "color": "Black",
           "width": 0.5
          },
          "type": "line",
          "x0": 28,
          "x1": 28,
          "y0": -85,
          "y1": -86
         },
         {
          "line": {
           "color": "Black",
           "width": 0.5
          },
          "type": "line",
          "x0": 28,
          "x1": 29,
          "y0": -86,
          "y1": 0
         },
         {
          "line": {
           "color": "Black",
           "width": 0.5
          },
          "type": "line",
          "x0": 29,
          "x1": 29,
          "y0": 0,
          "y1": -87
         },
         {
          "line": {
           "color": "Black",
           "width": 0.5
          },
          "type": "line",
          "x0": 29,
          "x1": 30,
          "y0": -87,
          "y1": 0
         },
         {
          "line": {
           "color": "Black",
           "width": 0.5
          },
          "type": "line",
          "x0": 30,
          "x1": 31,
          "y0": 0,
          "y1": 0
         }
        ],
        "showlegend": false,
        "template": {
         "data": {
          "bar": [
           {
            "error_x": {
             "color": "#2a3f5f"
            },
            "error_y": {
             "color": "#2a3f5f"
            },
            "marker": {
             "line": {
              "color": "#E5ECF6",
              "width": 0.5
             },
             "pattern": {
              "fillmode": "overlay",
              "size": 10,
              "solidity": 0.2
             }
            },
            "type": "bar"
           }
          ],
          "barpolar": [
           {
            "marker": {
             "line": {
              "color": "#E5ECF6",
              "width": 0.5
             },
             "pattern": {
              "fillmode": "overlay",
              "size": 10,
              "solidity": 0.2
             }
            },
            "type": "barpolar"
           }
          ],
          "carpet": [
           {
            "aaxis": {
             "endlinecolor": "#2a3f5f",
             "gridcolor": "white",
             "linecolor": "white",
             "minorgridcolor": "white",
             "startlinecolor": "#2a3f5f"
            },
            "baxis": {
             "endlinecolor": "#2a3f5f",
             "gridcolor": "white",
             "linecolor": "white",
             "minorgridcolor": "white",
             "startlinecolor": "#2a3f5f"
            },
            "type": "carpet"
           }
          ],
          "choropleth": [
           {
            "colorbar": {
             "outlinewidth": 0,
             "ticks": ""
            },
            "type": "choropleth"
           }
          ],
          "contour": [
           {
            "colorbar": {
             "outlinewidth": 0,
             "ticks": ""
            },
            "colorscale": [
             [
              0,
              "#0d0887"
             ],
             [
              0.1111111111111111,
              "#46039f"
             ],
             [
              0.2222222222222222,
              "#7201a8"
             ],
             [
              0.3333333333333333,
              "#9c179e"
             ],
             [
              0.4444444444444444,
              "#bd3786"
             ],
             [
              0.5555555555555556,
              "#d8576b"
             ],
             [
              0.6666666666666666,
              "#ed7953"
             ],
             [
              0.7777777777777778,
              "#fb9f3a"
             ],
             [
              0.8888888888888888,
              "#fdca26"
             ],
             [
              1,
              "#f0f921"
             ]
            ],
            "type": "contour"
           }
          ],
          "contourcarpet": [
           {
            "colorbar": {
             "outlinewidth": 0,
             "ticks": ""
            },
            "type": "contourcarpet"
           }
          ],
          "heatmap": [
           {
            "colorbar": {
             "outlinewidth": 0,
             "ticks": ""
            },
            "colorscale": [
             [
              0,
              "#0d0887"
             ],
             [
              0.1111111111111111,
              "#46039f"
             ],
             [
              0.2222222222222222,
              "#7201a8"
             ],
             [
              0.3333333333333333,
              "#9c179e"
             ],
             [
              0.4444444444444444,
              "#bd3786"
             ],
             [
              0.5555555555555556,
              "#d8576b"
             ],
             [
              0.6666666666666666,
              "#ed7953"
             ],
             [
              0.7777777777777778,
              "#fb9f3a"
             ],
             [
              0.8888888888888888,
              "#fdca26"
             ],
             [
              1,
              "#f0f921"
             ]
            ],
            "type": "heatmap"
           }
          ],
          "heatmapgl": [
           {
            "colorbar": {
             "outlinewidth": 0,
             "ticks": ""
            },
            "colorscale": [
             [
              0,
              "#0d0887"
             ],
             [
              0.1111111111111111,
              "#46039f"
             ],
             [
              0.2222222222222222,
              "#7201a8"
             ],
             [
              0.3333333333333333,
              "#9c179e"
             ],
             [
              0.4444444444444444,
              "#bd3786"
             ],
             [
              0.5555555555555556,
              "#d8576b"
             ],
             [
              0.6666666666666666,
              "#ed7953"
             ],
             [
              0.7777777777777778,
              "#fb9f3a"
             ],
             [
              0.8888888888888888,
              "#fdca26"
             ],
             [
              1,
              "#f0f921"
             ]
            ],
            "type": "heatmapgl"
           }
          ],
          "histogram": [
           {
            "marker": {
             "pattern": {
              "fillmode": "overlay",
              "size": 10,
              "solidity": 0.2
             }
            },
            "type": "histogram"
           }
          ],
          "histogram2d": [
           {
            "colorbar": {
             "outlinewidth": 0,
             "ticks": ""
            },
            "colorscale": [
             [
              0,
              "#0d0887"
             ],
             [
              0.1111111111111111,
              "#46039f"
             ],
             [
              0.2222222222222222,
              "#7201a8"
             ],
             [
              0.3333333333333333,
              "#9c179e"
             ],
             [
              0.4444444444444444,
              "#bd3786"
             ],
             [
              0.5555555555555556,
              "#d8576b"
             ],
             [
              0.6666666666666666,
              "#ed7953"
             ],
             [
              0.7777777777777778,
              "#fb9f3a"
             ],
             [
              0.8888888888888888,
              "#fdca26"
             ],
             [
              1,
              "#f0f921"
             ]
            ],
            "type": "histogram2d"
           }
          ],
          "histogram2dcontour": [
           {
            "colorbar": {
             "outlinewidth": 0,
             "ticks": ""
            },
            "colorscale": [
             [
              0,
              "#0d0887"
             ],
             [
              0.1111111111111111,
              "#46039f"
             ],
             [
              0.2222222222222222,
              "#7201a8"
             ],
             [
              0.3333333333333333,
              "#9c179e"
             ],
             [
              0.4444444444444444,
              "#bd3786"
             ],
             [
              0.5555555555555556,
              "#d8576b"
             ],
             [
              0.6666666666666666,
              "#ed7953"
             ],
             [
              0.7777777777777778,
              "#fb9f3a"
             ],
             [
              0.8888888888888888,
              "#fdca26"
             ],
             [
              1,
              "#f0f921"
             ]
            ],
            "type": "histogram2dcontour"
           }
          ],
          "mesh3d": [
           {
            "colorbar": {
             "outlinewidth": 0,
             "ticks": ""
            },
            "type": "mesh3d"
           }
          ],
          "parcoords": [
           {
            "line": {
             "colorbar": {
              "outlinewidth": 0,
              "ticks": ""
             }
            },
            "type": "parcoords"
           }
          ],
          "pie": [
           {
            "automargin": true,
            "type": "pie"
           }
          ],
          "scatter": [
           {
            "fillpattern": {
             "fillmode": "overlay",
             "size": 10,
             "solidity": 0.2
            },
            "type": "scatter"
           }
          ],
          "scatter3d": [
           {
            "line": {
             "colorbar": {
              "outlinewidth": 0,
              "ticks": ""
             }
            },
            "marker": {
             "colorbar": {
              "outlinewidth": 0,
              "ticks": ""
             }
            },
            "type": "scatter3d"
           }
          ],
          "scattercarpet": [
           {
            "marker": {
             "colorbar": {
              "outlinewidth": 0,
              "ticks": ""
             }
            },
            "type": "scattercarpet"
           }
          ],
          "scattergeo": [
           {
            "marker": {
             "colorbar": {
              "outlinewidth": 0,
              "ticks": ""
             }
            },
            "type": "scattergeo"
           }
          ],
          "scattergl": [
           {
            "marker": {
             "colorbar": {
              "outlinewidth": 0,
              "ticks": ""
             }
            },
            "type": "scattergl"
           }
          ],
          "scattermapbox": [
           {
            "marker": {
             "colorbar": {
              "outlinewidth": 0,
              "ticks": ""
             }
            },
            "type": "scattermapbox"
           }
          ],
          "scatterpolar": [
           {
            "marker": {
             "colorbar": {
              "outlinewidth": 0,
              "ticks": ""
             }
            },
            "type": "scatterpolar"
           }
          ],
          "scatterpolargl": [
           {
            "marker": {
             "colorbar": {
              "outlinewidth": 0,
              "ticks": ""
             }
            },
            "type": "scatterpolargl"
           }
          ],
          "scatterternary": [
           {
            "marker": {
             "colorbar": {
              "outlinewidth": 0,
              "ticks": ""
             }
            },
            "type": "scatterternary"
           }
          ],
          "surface": [
           {
            "colorbar": {
             "outlinewidth": 0,
             "ticks": ""
            },
            "colorscale": [
             [
              0,
              "#0d0887"
             ],
             [
              0.1111111111111111,
              "#46039f"
             ],
             [
              0.2222222222222222,
              "#7201a8"
             ],
             [
              0.3333333333333333,
              "#9c179e"
             ],
             [
              0.4444444444444444,
              "#bd3786"
             ],
             [
              0.5555555555555556,
              "#d8576b"
             ],
             [
              0.6666666666666666,
              "#ed7953"
             ],
             [
              0.7777777777777778,
              "#fb9f3a"
             ],
             [
              0.8888888888888888,
              "#fdca26"
             ],
             [
              1,
              "#f0f921"
             ]
            ],
            "type": "surface"
           }
          ],
          "table": [
           {
            "cells": {
             "fill": {
              "color": "#EBF0F8"
             },
             "line": {
              "color": "white"
             }
            },
            "header": {
             "fill": {
              "color": "#C8D4E3"
             },
             "line": {
              "color": "white"
             }
            },
            "type": "table"
           }
          ]
         },
         "layout": {
          "annotationdefaults": {
           "arrowcolor": "#2a3f5f",
           "arrowhead": 0,
           "arrowwidth": 1
          },
          "autotypenumbers": "strict",
          "coloraxis": {
           "colorbar": {
            "outlinewidth": 0,
            "ticks": ""
           }
          },
          "colorscale": {
           "diverging": [
            [
             0,
             "#8e0152"
            ],
            [
             0.1,
             "#c51b7d"
            ],
            [
             0.2,
             "#de77ae"
            ],
            [
             0.3,
             "#f1b6da"
            ],
            [
             0.4,
             "#fde0ef"
            ],
            [
             0.5,
             "#f7f7f7"
            ],
            [
             0.6,
             "#e6f5d0"
            ],
            [
             0.7,
             "#b8e186"
            ],
            [
             0.8,
             "#7fbc41"
            ],
            [
             0.9,
             "#4d9221"
            ],
            [
             1,
             "#276419"
            ]
           ],
           "sequential": [
            [
             0,
             "#0d0887"
            ],
            [
             0.1111111111111111,
             "#46039f"
            ],
            [
             0.2222222222222222,
             "#7201a8"
            ],
            [
             0.3333333333333333,
             "#9c179e"
            ],
            [
             0.4444444444444444,
             "#bd3786"
            ],
            [
             0.5555555555555556,
             "#d8576b"
            ],
            [
             0.6666666666666666,
             "#ed7953"
            ],
            [
             0.7777777777777778,
             "#fb9f3a"
            ],
            [
             0.8888888888888888,
             "#fdca26"
            ],
            [
             1,
             "#f0f921"
            ]
           ],
           "sequentialminus": [
            [
             0,
             "#0d0887"
            ],
            [
             0.1111111111111111,
             "#46039f"
            ],
            [
             0.2222222222222222,
             "#7201a8"
            ],
            [
             0.3333333333333333,
             "#9c179e"
            ],
            [
             0.4444444444444444,
             "#bd3786"
            ],
            [
             0.5555555555555556,
             "#d8576b"
            ],
            [
             0.6666666666666666,
             "#ed7953"
            ],
            [
             0.7777777777777778,
             "#fb9f3a"
            ],
            [
             0.8888888888888888,
             "#fdca26"
            ],
            [
             1,
             "#f0f921"
            ]
           ]
          },
          "colorway": [
           "#636efa",
           "#EF553B",
           "#00cc96",
           "#ab63fa",
           "#FFA15A",
           "#19d3f3",
           "#FF6692",
           "#B6E880",
           "#FF97FF",
           "#FECB52"
          ],
          "font": {
           "color": "#2a3f5f"
          },
          "geo": {
           "bgcolor": "white",
           "lakecolor": "white",
           "landcolor": "#E5ECF6",
           "showlakes": true,
           "showland": true,
           "subunitcolor": "white"
          },
          "hoverlabel": {
           "align": "left"
          },
          "hovermode": "closest",
          "mapbox": {
           "style": "light"
          },
          "paper_bgcolor": "white",
          "plot_bgcolor": "#E5ECF6",
          "polar": {
           "angularaxis": {
            "gridcolor": "white",
            "linecolor": "white",
            "ticks": ""
           },
           "bgcolor": "#E5ECF6",
           "radialaxis": {
            "gridcolor": "white",
            "linecolor": "white",
            "ticks": ""
           }
          },
          "scene": {
           "xaxis": {
            "backgroundcolor": "#E5ECF6",
            "gridcolor": "white",
            "gridwidth": 2,
            "linecolor": "white",
            "showbackground": true,
            "ticks": "",
            "zerolinecolor": "white"
           },
           "yaxis": {
            "backgroundcolor": "#E5ECF6",
            "gridcolor": "white",
            "gridwidth": 2,
            "linecolor": "white",
            "showbackground": true,
            "ticks": "",
            "zerolinecolor": "white"
           },
           "zaxis": {
            "backgroundcolor": "#E5ECF6",
            "gridcolor": "white",
            "gridwidth": 2,
            "linecolor": "white",
            "showbackground": true,
            "ticks": "",
            "zerolinecolor": "white"
           }
          },
          "shapedefaults": {
           "line": {
            "color": "#2a3f5f"
           }
          },
          "ternary": {
           "aaxis": {
            "gridcolor": "white",
            "linecolor": "white",
            "ticks": ""
           },
           "baxis": {
            "gridcolor": "white",
            "linecolor": "white",
            "ticks": ""
           },
           "bgcolor": "#E5ECF6",
           "caxis": {
            "gridcolor": "white",
            "linecolor": "white",
            "ticks": ""
           }
          },
          "title": {
           "x": 0.05
          },
          "xaxis": {
           "automargin": true,
           "gridcolor": "white",
           "linecolor": "white",
           "ticks": "",
           "title": {
            "standoff": 15
           },
           "zerolinecolor": "white",
           "zerolinewidth": 2
          },
          "yaxis": {
           "automargin": true,
           "gridcolor": "white",
           "linecolor": "white",
           "ticks": "",
           "title": {
            "standoff": 15
           },
           "zerolinecolor": "white",
           "zerolinewidth": 2
          }
         }
        },
        "width": 800,
        "xaxis": {
         "anchor": "y",
         "autorange": true,
         "domain": [
          0,
          1
         ],
         "range": [
          -2.3643571833113084,
          33.218047951670755
         ],
         "showgrid": false,
         "showticklabels": false,
         "type": "linear",
         "zeroline": false
        },
        "yaxis": {
         "anchor": "x",
         "autorange": true,
         "domain": [
          0,
          1
         ],
         "range": [
          -93.14064914992272,
          7.261205564142195
         ],
         "showgrid": false,
         "showticklabels": false,
         "type": "linear",
         "zeroline": false
        }
       }
      },
      "image/png": "[encoded data removed]",
      "text/html": [
       "<div>                            <div id=\"ca917aef-e639-44e3-a594-c091af1b1b13\" class=\"plotly-graph-div\" style=\"height:600px; width:800px;\"></div>            <script type=\"text/javascript\">                require([\"plotly\"], function(Plotly) {                    window.PLOTLYENV=window.PLOTLYENV || {};                                    if (document.getElementById(\"ca917aef-e639-44e3-a594-c091af1b1b13\")) {                    Plotly.newPlot(                        \"ca917aef-e639-44e3-a594-c091af1b1b13\",                        [{\"hoverinfo\":\"text\",\"hovertext\":[\"ROOT<br>Rating: -\",\"Biden exporting US strategic oil as gas prices remain at record highs<br>Rating: 1\",\"Biden oil shutdown led to high energy prices<br>Rating: 1\",\"Gas prices at their highest in many places in the US since Obama, because of Biden<br>Rating: 2\",\"Biden to blame for higher gasoline prices<br>Rating: 1\",\"Gas is high because they shut down production in the U.S. under the Biden administration.<br>Rating: 1\",\"Says Joe Biden imports oil from Iran.<br>Rating: 2\",\"Biden drained America's Strategic Petroleum Reserves to the lowest level since 1984.<br>Rating: 3\",\"Biden gave Americans the cheapest gas prices on Earth.<br>Rating: 1\",\"The Biden family is so heavily invested in oil and energy in other countries.<br>Rating: 2\",\"Biden admits $5 gas is being done on purpose and this has been his plan all along.<br>Rating: 1\",\"A post shared on Facebook claims President Joe Biden plans to give every American a $5 gas card.<br>Rating: 1\",\"A Big Boy restaurant sign said Donald Trump was right when he predicted if Biden was elected, you'd see $5, $6 and $7 gas.<br>Rating: 1\",\"Biden to blame for higher gasoline prices<br>Rating: 1\",\"Joe Biden confirmed his plan to abolish the entire U.S. oil industry.<br>Rating: 1\",\"The most common price of U.S. gas was above $5 per gallon when U.S. President Joe Biden took office in January 2021.<br>Rating: 1\",\"President Biden confirm(ed) everyone will receive their $1k gas checks this week!!<br>Rating: 1\",\"Biden climate plan will cut American meat consumption<br>Rating: 1\",\"President Joe Biden's climate plan includes cutting 90% of red meat from Americans' diets by 2030.<br>Rating: 1\",\"An image shared on Facebook claims President Joe Biden\\u2019s climate plan requires Americans to reduce their red meat consumption by 90 percent.<br>Rating: 1\",\"Biden's climate requirements will cut 90% of red meat from diet to a max 4 lbs per year and one burger per month.<br>Rating: 1\",\"Says Joe Biden is going to control how much meat you can eat.<br>Rating: 1\",\"Diesel prices jumped from $1.69 to $3.19 since Biden took office, and the president is to blame.<br>Rating: 1\",\"Biden to blame for higher gasoline prices<br>Rating: 1\",\"Says Joe Biden executive orders caused price increases of 50 cents in gas and 10% in food.<br>Rating: 1\",\"Soybean and corn price drop is because of Biden\\u2019s executive orders<br>Rating: 1\",\"A gas prices meme accurately shows high prices under U.S. President Joe Biden and low prices under former U.S. President Donald Trump.<br>Rating: 1\",\"Biden to blame for higher gasoline prices<br>Rating: 1\",\"The most common price of U.S. gas was above $5 per gallon when U.S. President Joe Biden took office in January 2021.<br>Rating: 1\",\"Says that Biden\\u2019s ban on new federal leases will kill 120,000 Texas jobs.<br>Rating: 2\",\"By revoking the Keystone pipeline permit, Biden is destroying 11,000 jobs.<br>Rating: 2\",\"We finally achieved that energy independence... under the Trump administration. President Biden squandered (it) away.<br>Rating: 2\",\"By ending the Keystone XL Pipeline project, President Joe Biden imperiled one of Donald Trump's most significant achievements, which was that we had achieved American energy independence.<br>Rating: 2\",\"After only 10 days in office, Joe Biden sent the United States back 50 years on its progress toward energy independence.<br>Rating: 2\",\"Claims Joe Biden said coal is more dangerous than terrorists.<br>Rating: 2\",\"Obama, Biden and their liberal allies oppose clean coal.<br>Rating: 1\",\"Joe Biden\\u2019s comments prove that food shortages are being done deliberately by the governments of the world.<br>Rating: 1\",\"Says Joe Biden is going to control how much meat you can eat.<br>Rating: 1\",\"The Biden administration is spending $30 million on crack pipes.<br>Rating: 2\",\"As soon as Biden took office, he eliminated all subsidies for fossil fuels.<br>Rating: 2\",\"Joe Biden confirmed his plan to abolish the entire U.S. oil industry.<br>Rating: 1\",\"Democrats, including President Joe Biden, stopped domestic drilling for oil, driving gasoline prices higher.<br>Rating: 1\",\"Joe Biden\\u2019s war on American energy caused this crisis and his only response has been to drain our strategic petroleum reserve to its lowest level since 1983.<br>Rating: 2\",\"An image shared on Facebook over 800 times claims energy producer Royal Dutch Shell is laying off 9,000 workers because of President Joe Biden.<br>Rating: 1\",\"Shell Oil laying off 9,000 workers because of Joe Biden.<br>Rating: 1\",\"A post shared on Facebook claims that President Joe Biden\\u2019s administration is seeking to ban the use of gas stoves.<br>Rating: 1\",\"U.S. President Joe Biden\\u2019s administration is planning to ban gas stoves over concerns surrounding climate change.<br>Rating: 1\",\"Says President Joe Biden is trying to send taxpayer dollars to manufacturers overseas that do not abide by the same (carbon emission) standards we do at home.<br>Rating: 2\",\"Says Joe Biden plans to mandate net-zero carbon emissions for homes, offices and all new buildings by 2030. That basically means no windows, no nothing.<br>Rating: 1\",\"Says Joe Biden has plans to ban animal agriculture and gas-powered cars.<br>Rating: 1\",\"Says Joe Biden will redirect the $30 billion that Donald Trump left for U.S. farmers to \\u2018climate change.\\u2019<br>Rating: 2\",\"Says Joe Biden wants American farmers to put their farmland into Gvt \\u2018land banks.\\u2019 Gvt would then tell farmers what \\u2018sustainable\\u2019 plants they could grow.<br>Rating: 2\",\"Says Joe Biden is following through with a fracking ban.<br>Rating: 2\",\"Joe Biden wants to ban fracking<br>Rating: 1\",\"Joe Biden plans to ban fracking<br>Rating: 1\",\"In the 2020 presidential election, Democratic candidate Joe Biden's policy on fracking was to ban it outright.<br>Rating: 2\",\"Even so-called moderate Democrats like Joe Biden have endorsed a ban on fracking, which would eliminate 516,000 Michigan jobs and reduce the state\\u2019s gross domestic product by $159 billion over five years.<br>Rating: 2\",\"Says Democratic presidential nominee Joe Biden backs a fracking ban that would cost 100,000 Wisconsin jobs<br>Rating: 1\",\"Says Joe Biden proposed killing over 600,000 jobs supported by fracking.<br>Rating: 1\",\"Says Joe Biden has plans to ban animal agriculture and gas-powered cars.<br>Rating: 1\",\"Says Joe Biden's plan for net-zero emissions would instantly shut down all fracking and all mining immediately in Pennsylvania.<br>Rating: 1\",\"Says Joe Biden is going to control how much meat you can eat.<br>Rating: 1\",\"Says Joe Biden just announced on CNN he will completely shut down drilling for oil and natural gas on day one of his administration.<br>Rating: 2\",\"Says Joe Biden\\u2019s website shows that he supports the Green New Deal, despite denials in debate.<br>Rating: 2\",\"U.S. 2020 Democratic presidential candidate Joe Biden does not support the set of climate change proposals set forth by other members of his party known as the Green New Deal.<br>Rating: 2\",\"Says Joe Biden made it clear..No More Coal Fired Power Plants!! So, No More Coal!! Wake Up WV, PA,OH, KY<br>Rating: 2\",\"President Trump sanctioned Russia. President Biden gave them a pipeline.<br>Rating: 2\",\"Joe Biden's cancellation of the Keystone pipeline dramatically increased Americans' dependence on Russian oil.<br>Rating: 1\",\"In May 2021, U.S. President Joe Biden's administration announced it would waive some sanctions on the corporate entity and CEO overseeing the construction of Russia\\u2019s Nord Stream 2 pipeline into Germany.<br>Rating: 3\",\"Biden invested the entire family fortune in Ukraine gas and oil. Then shuts down Keystone pipeline. Starting to get the picture.<br>Rating: 1\",\"By ending the Keystone XL Pipeline project, President Joe Biden imperiled one of Donald Trump's most significant achievements, which was that we had achieved American energy independence.<br>Rating: 2\",\"Biden Did Not Threaten to Sabotage Nord Stream Pipelines as Russian Disinfo Claims<br>Rating: 1\",\"Says Joe Biden helps build Afghanistan\\u2019s pipeline.<br>Rating: 1\",\"A post shared on Facebook claims President Joe Biden announced that all American citizens would receive a $1,000 check for gas.<br>Rating: 1\",\"President Biden confirm(ed) everyone will receive their $1k gas checks this week!!<br>Rating: 1\",\"A post shared on Facebook claims President Joe Biden plans to give every American a $5 gas card.<br>Rating: 1\",\"Says Joe Biden\\u2019s order stopping the Keystone pipeline made oil more expensive for us to use.<br>Rating: 2\",\"Joe Biden's cancellation of the Keystone pipeline dramatically increased Americans' dependence on Russian oil.<br>Rating: 1\",\"Low gas prices in Russia, Kuwait and Saudi Arabia show that Joe Biden\\u2019s decision to cancel the Keystone Pipeline project is to blame for U.S. prices.<br>Rating: 1\",\"Biden invested the entire family fortune in Ukraine gas and oil. Then shuts down Keystone pipeline. Starting to get the picture.<br>Rating: 1\",\"Two years ago we were drilling our own oil for $27 a barrel. Now, thanks to Joe Biden, we\\u2019re paying $105 a barrel to Russia.<br>Rating: 1\",\"Biden's Keystone XL pipeline reversal will cost tens of thousands of jobs<br>Rating: 1\",\"The cancellation of the Keystone XL pipeline by Joe Biden killed hundreds of jobs, sent gas prices way up.<br>Rating: 2\",\"Says Joe Biden canceled the Keystone pipeline because Warren Buffett donated $58 million to his campaign.<br>Rating: 1\",\"Says Joe Biden helps build Afghanistan\\u2019s pipeline.<br>Rating: 1\",\"My company was building the Keystone Pipeline when (President Joe) Biden canceled it.<br>Rating: 2\",\"By ending the Keystone XL Pipeline project, President Joe Biden imperiled one of Donald Trump's most significant achievements, which was that we had achieved American energy independence.<br>Rating: 2\",\"Joe Biden confirmed his plan to abolish the entire U.S. oil industry.<br>Rating: 1\",\"U.S. President Joe Biden's Jan. 20, 2021, executive order to halt construction of the Keystone XL pipeline destroyed 11,000 jobs.<br>Rating: 2\",\"Democrats, including President Joe Biden, stopped domestic drilling for oil, driving gasoline prices higher.<br>Rating: 1\",\"Says Joe Biden imports oil from Iran.<br>Rating: 2\",\"Biden gave Americans the cheapest gas prices on Earth.<br>Rating: 1\",\"Joe Biden\\u2019s war on American energy caused this crisis and his only response has been to drain our strategic petroleum reserve to its lowest level since 1983.<br>Rating: 2\",\"Joe Biden's sanctions on Russia are riddled with loopholes and don't even start for 30 days. They have carve outs for the energy and financial sectors.<br>Rating: 2\",\"In May 2021, U.S. President Joe Biden's administration announced it would waive some sanctions on the corporate entity and CEO overseeing the construction of Russia\\u2019s Nord Stream 2 pipeline into Germany.<br>Rating: 3\",\"A video shared on Facebook claims Secretary of State Antony Blinken said President Joe Biden was responsible for the Nord Stream pipeline leaks.<br>Rating: 1\",\"Antony Blinken confesses that Biden is responsible for the Nord Stream pipeline leaks.<br>Rating: 1\",\"President Joe Biden said, I know you all know there\\u2019s no climate problem, proving that people have been lying for decades about climate change.<br>Rating: 1\",\"Joe Biden said there is no climate crisis<br>Rating: 1\",\"Biden\\u2019s Speech Minimizes Historic US Greenhouse Contribution<br>Rating: 2\",\"Says Joe Biden will redirect the $30 billion that Donald Trump left for U.S. farmers to \\u2018climate change.\\u2019<br>Rating: 2\",\"U.S. 2020 Democratic presidential candidate Joe Biden does not support the set of climate change proposals set forth by other members of his party known as the Green New Deal.<br>Rating: 2\",\"The Biden administration published a study concluding 4 (of) 5 new cars on the road by 2050 will still require liquid fuels.<br>Rating: 3\",\"The Biden administration ignores the negative environmental impact created by lithium mining.<br>Rating: 1\",\"Gas prices during the Obama-Biden administration were $5.49 a gallon.<br>Rating: 2\",\"U.S. gas prices averaged well over $5 per gallon under the administration of U.S. President Barack Obama and Vice President Joe Biden.<br>Rating: 1\",\"The most common price of U.S. gas was above $5 per gallon when U.S. President Joe Biden took office in January 2021.<br>Rating: 1\",\"Gas prices at their highest in many places in the US since Obama, because of Biden<br>Rating: 2\",\"Biden gave Americans the cheapest gas prices on Earth.<br>Rating: 1\",\"A gas prices meme accurately shows high prices under U.S. President Joe Biden and low prices under former U.S. President Donald Trump.<br>Rating: 1\",\"Soybeans dropped 70 cents and corn 50 cents per bushel in two days, causing farmers to lose big money, thanks to Biden\\u2019s executive orders.<br>Rating: 2\",\"Soybean and corn price drop is because of Biden\\u2019s executive orders<br>Rating: 1\",\"A BP oil executive named Brice Cromwell blamed the Biden administration for high gas prices.<br>Rating: 1\",\"A BP oil executive named Brice Cromwell blamed U.S. President Joe Biden for high gas prices in a viral Facebook post.<br>Rating: 1\",\"Biden to blame for higher gasoline prices<br>Rating: 1\",\"A Facebook meme accurately represents the difference in gas prices under U.S. Presidents Donald Trump and Joe Biden, with Biden's presidency and policies being the reason why prices were higher in mid-2021.<br>Rating: 1\",\"A gas prices meme accurately shows high prices under U.S. President Joe Biden and low prices under former U.S. President Donald Trump.<br>Rating: 1\",\"Lumber, gas, wheat, coal and corn cost more in April 2021 in Joe Biden's America than they did a year earlier.<br>Rating: 2\",\"A screenshot taken from TV coverage of a White House news conference displays a chyron accurately stating that the Biden administration had told pipeline workers, You can find another job.<br>Rating: 2\"],\"marker\":{\"color\":[\"blue\",\"red\",\"red\",\"orange\",\"red\",\"red\",\"orange\",\"green\",\"red\",\"orange\",\"red\",\"red\",\"red\",\"red\",\"red\",\"red\",\"red\",\"red\",\"red\",\"red\",\"red\",\"red\",\"red\",\"red\",\"red\",\"red\",\"red\",\"red\",\"red\",\"orange\",\"orange\",\"orange\",\"orange\",\"orange\",\"orange\",\"red\",\"red\",\"red\",\"orange\",\"orange\",\"red\",\"red\",\"orange\",\"red\",\"red\",\"red\",\"red\",\"orange\",\"red\",\"red\",\"orange\",\"orange\",\"orange\",\"red\",\"red\",\"orange\",\"orange\",\"red\",\"red\",\"red\",\"red\",\"red\",\"orange\",\"orange\",\"orange\",\"orange\",\"orange\",\"red\",\"green\",\"red\",\"orange\",\"red\",\"red\",\"red\",\"red\",\"red\",\"orange\",\"red\",\"red\",\"red\",\"red\",\"red\",\"orange\",\"red\",\"red\",\"orange\",\"orange\",\"red\",\"orange\",\"red\",\"orange\",\"red\",\"orange\",\"orange\",\"green\",\"red\",\"red\",\"red\",\"red\",\"orange\",\"orange\",\"orange\",\"green\",\"red\",\"orange\",\"red\",\"red\",\"orange\",\"red\",\"red\",\"orange\",\"red\",\"red\",\"red\",\"red\",\"red\",\"red\",\"orange\",\"orange\"],\"line\":{\"color\":\"Black\",\"width\":2},\"size\":[20,15,10,10,10,10,10,10,10,10,15,10,10,10,10,10,10,15,10,10,10,10,15,10,15,10,10,10,10,15,10,15,10,10,15,10,15,10,15,15,10,10,10,15,10,15,10,15,10,10,10,10,15,10,10,10,10,10,10,10,10,10,10,15,10,15,15,10,10,10,10,10,10,15,10,10,15,10,10,10,10,10,10,10,10,10,10,10,10,10,10,10,10,15,10,15,10,15,10,10,10,10,15,15,15,10,10,10,10,10,15,10,15,10,10,15,10,15,15]},\"mode\":\"markers+text\",\"text\":[\"ROOT\",\"Sentence_0\",\"\",\"\",\"\",\"\",\"\",\"\",\"\",\"\",\"Sentence_1\",\"\",\"\",\"\",\"\",\"\",\"\",\"Sentence_2\",\"\",\"\",\"\",\"\",\"Sentence_3\",\"\",\"Sentence_4\",\"\",\"\",\"\",\"\",\"Sentence_5\",\"\",\"Sentence_6\",\"\",\"\",\"Sentence_7\",\"\",\"Sentence_8\",\"\",\"Sentence_9\",\"Sentence_10\",\"\",\"\",\"\",\"Sentence_11\",\"\",\"Sentence_12\",\"\",\"Sentence_13\",\"\",\"\",\"\",\"\",\"Sentence_14\",\"\",\"\",\"\",\"\",\"\",\"\",\"\",\"\",\"\",\"\",\"Sentence_15\",\"\",\"Sentence_16\",\"Sentence_17\",\"\",\"\",\"\",\"\",\"\",\"\",\"Sentence_18\",\"\",\"\",\"Sentence_19\",\"\",\"\",\"\",\"\",\"\",\"\",\"\",\"\",\"\",\"\",\"\",\"\",\"\",\"\",\"\",\"\",\"Sentence_20\",\"\",\"Sentence_21\",\"\",\"Sentence_22\",\"\",\"\",\"\",\"\",\"Sentence_23\",\"Sentence_24\",\"Sentence_25\",\"\",\"\",\"\",\"\",\"\",\"Sentence_26\",\"\",\"Sentence_27\",\"\",\"\",\"Sentence_28\",\"\",\"Sentence_29\",\"Sentence_30\"],\"textposition\":\"bottom center\",\"x\":[0,1,1,1,1,1,1,1,1,1,2,2,2,2,2,2,2,3,3,3,3,3,4,4,5,5,5,5,5,6,6,7,7,7,8,8,9,9,10,11,11,11,11,12,12,13,13,14,14,14,14,14,15,15,15,15,15,15,15,15,15,15,15,16,16,17,18,18,18,18,18,18,18,19,19,19,20,20,20,20,20,20,20,20,20,20,20,20,20,20,20,20,20,21,21,22,22,23,23,23,23,23,24,25,26,26,26,26,26,26,27,27,28,28,28,29,29,30,31],\"y\":[0,0,-1,-2,-3,-4,-5,-6,-7,-8,0,-9,-10,-11,-12,-13,-14,0,-15,-16,-17,-18,0,-19,0,-20,-21,-22,-23,0,-24,0,-25,-26,0,-27,0,-28,0,0,-29,-30,-31,0,-32,0,-33,0,-34,-35,-36,-37,0,-38,-39,-40,-41,-42,-43,-44,-45,-46,-47,0,-48,0,0,-49,-50,-51,-52,-53,-54,0,-55,-56,0,-57,-58,-59,-60,-61,-62,-63,-64,-65,-66,-67,-68,-69,-70,-71,-72,0,-73,0,-74,0,-75,-76,-77,-78,0,0,0,-79,-80,-81,-82,-83,0,-84,0,-85,-86,0,-87,0,0],\"type\":\"scatter\"}],                        {\"template\":{\"data\":{\"histogram2dcontour\":[{\"type\":\"histogram2dcontour\",\"colorbar\":{\"outlinewidth\":0,\"ticks\":\"\"},\"colorscale\":[[0.0,\"#0d0887\"],[0.1111111111111111,\"#46039f\"],[0.2222222222222222,\"#7201a8\"],[0.3333333333333333,\"#9c179e\"],[0.4444444444444444,\"#bd3786\"],[0.5555555555555556,\"#d8576b\"],[0.6666666666666666,\"#ed7953\"],[0.7777777777777778,\"#fb9f3a\"],[0.8888888888888888,\"#fdca26\"],[1.0,\"#f0f921\"]]}],\"choropleth\":[{\"type\":\"choropleth\",\"colorbar\":{\"outlinewidth\":0,\"ticks\":\"\"}}],\"histogram2d\":[{\"type\":\"histogram2d\",\"colorbar\":{\"outlinewidth\":0,\"ticks\":\"\"},\"colorscale\":[[0.0,\"#0d0887\"],[0.1111111111111111,\"#46039f\"],[0.2222222222222222,\"#7201a8\"],[0.3333333333333333,\"#9c179e\"],[0.4444444444444444,\"#bd3786\"],[0.5555555555555556,\"#d8576b\"],[0.6666666666666666,\"#ed7953\"],[0.7777777777777778,\"#fb9f3a\"],[0.8888888888888888,\"#fdca26\"],[1.0,\"#f0f921\"]]}],\"heatmap\":[{\"type\":\"heatmap\",\"colorbar\":{\"outlinewidth\":0,\"ticks\":\"\"},\"colorscale\":[[0.0,\"#0d0887\"],[0.1111111111111111,\"#46039f\"],[0.2222222222222222,\"#7201a8\"],[0.3333333333333333,\"#9c179e\"],[0.4444444444444444,\"#bd3786\"],[0.5555555555555556,\"#d8576b\"],[0.6666666666666666,\"#ed7953\"],[0.7777777777777778,\"#fb9f3a\"],[0.8888888888888888,\"#fdca26\"],[1.0,\"#f0f921\"]]}],\"heatmapgl\":[{\"type\":\"heatmapgl\",\"colorbar\":{\"outlinewidth\":0,\"ticks\":\"\"},\"colorscale\":[[0.0,\"#0d0887\"],[0.1111111111111111,\"#46039f\"],[0.2222222222222222,\"#7201a8\"],[0.3333333333333333,\"#9c179e\"],[0.4444444444444444,\"#bd3786\"],[0.5555555555555556,\"#d8576b\"],[0.6666666666666666,\"#ed7953\"],[0.7777777777777778,\"#fb9f3a\"],[0.8888888888888888,\"#fdca26\"],[1.0,\"#f0f921\"]]}],\"contourcarpet\":[{\"type\":\"contourcarpet\",\"colorbar\":{\"outlinewidth\":0,\"ticks\":\"\"}}],\"contour\":[{\"type\":\"contour\",\"colorbar\":{\"outlinewidth\":0,\"ticks\":\"\"},\"colorscale\":[[0.0,\"#0d0887\"],[0.1111111111111111,\"#46039f\"],[0.2222222222222222,\"#7201a8\"],[0.3333333333333333,\"#9c179e\"],[0.4444444444444444,\"#bd3786\"],[0.5555555555555556,\"#d8576b\"],[0.6666666666666666,\"#ed7953\"],[0.7777777777777778,\"#fb9f3a\"],[0.8888888888888888,\"#fdca26\"],[1.0,\"#f0f921\"]]}],\"surface\":[{\"type\":\"surface\",\"colorbar\":{\"outlinewidth\":0,\"ticks\":\"\"},\"colorscale\":[[0.0,\"#0d0887\"],[0.1111111111111111,\"#46039f\"],[0.2222222222222222,\"#7201a8\"],[0.3333333333333333,\"#9c179e\"],[0.4444444444444444,\"#bd3786\"],[0.5555555555555556,\"#d8576b\"],[0.6666666666666666,\"#ed7953\"],[0.7777777777777778,\"#fb9f3a\"],[0.8888888888888888,\"#fdca26\"],[1.0,\"#f0f921\"]]}],\"mesh3d\":[{\"type\":\"mesh3d\",\"colorbar\":{\"outlinewidth\":0,\"ticks\":\"\"}}],\"scatter\":[{\"fillpattern\":{\"fillmode\":\"overlay\",\"size\":10,\"solidity\":0.2},\"type\":\"scatter\"}],\"parcoords\":[{\"type\":\"parcoords\",\"line\":{\"colorbar\":{\"outlinewidth\":0,\"ticks\":\"\"}}}],\"scatterpolargl\":[{\"type\":\"scatterpolargl\",\"marker\":{\"colorbar\":{\"outlinewidth\":0,\"ticks\":\"\"}}}],\"bar\":[{\"error_x\":{\"color\":\"#2a3f5f\"},\"error_y\":{\"color\":\"#2a3f5f\"},\"marker\":{\"line\":{\"color\":\"#E5ECF6\",\"width\":0.5},\"pattern\":{\"fillmode\":\"overlay\",\"size\":10,\"solidity\":0.2}},\"type\":\"bar\"}],\"scattergeo\":[{\"type\":\"scattergeo\",\"marker\":{\"colorbar\":{\"outlinewidth\":0,\"ticks\":\"\"}}}],\"scatterpolar\":[{\"type\":\"scatterpolar\",\"marker\":{\"colorbar\":{\"outlinewidth\":0,\"ticks\":\"\"}}}],\"histogram\":[{\"marker\":{\"pattern\":{\"fillmode\":\"overlay\",\"size\":10,\"solidity\":0.2}},\"type\":\"histogram\"}],\"scattergl\":[{\"type\":\"scattergl\",\"marker\":{\"colorbar\":{\"outlinewidth\":0,\"ticks\":\"\"}}}],\"scatter3d\":[{\"type\":\"scatter3d\",\"line\":{\"colorbar\":{\"outlinewidth\":0,\"ticks\":\"\"}},\"marker\":{\"colorbar\":{\"outlinewidth\":0,\"ticks\":\"\"}}}],\"scattermapbox\":[{\"type\":\"scattermapbox\",\"marker\":{\"colorbar\":{\"outlinewidth\":0,\"ticks\":\"\"}}}],\"scatterternary\":[{\"type\":\"scatterternary\",\"marker\":{\"colorbar\":{\"outlinewidth\":0,\"ticks\":\"\"}}}],\"scattercarpet\":[{\"type\":\"scattercarpet\",\"marker\":{\"colorbar\":{\"outlinewidth\":0,\"ticks\":\"\"}}}],\"carpet\":[{\"aaxis\":{\"endlinecolor\":\"#2a3f5f\",\"gridcolor\":\"white\",\"linecolor\":\"white\",\"minorgridcolor\":\"white\",\"startlinecolor\":\"#2a3f5f\"},\"baxis\":{\"endlinecolor\":\"#2a3f5f\",\"gridcolor\":\"white\",\"linecolor\":\"white\",\"minorgridcolor\":\"white\",\"startlinecolor\":\"#2a3f5f\"},\"type\":\"carpet\"}],\"table\":[{\"cells\":{\"fill\":{\"color\":\"#EBF0F8\"},\"line\":{\"color\":\"white\"}},\"header\":{\"fill\":{\"color\":\"#C8D4E3\"},\"line\":{\"color\":\"white\"}},\"type\":\"table\"}],\"barpolar\":[{\"marker\":{\"line\":{\"color\":\"#E5ECF6\",\"width\":0.5},\"pattern\":{\"fillmode\":\"overlay\",\"size\":10,\"solidity\":0.2}},\"type\":\"barpolar\"}],\"pie\":[{\"automargin\":true,\"type\":\"pie\"}]},\"layout\":{\"autotypenumbers\":\"strict\",\"colorway\":[\"#636efa\",\"#EF553B\",\"#00cc96\",\"#ab63fa\",\"#FFA15A\",\"#19d3f3\",\"#FF6692\",\"#B6E880\",\"#FF97FF\",\"#FECB52\"],\"font\":{\"color\":\"#2a3f5f\"},\"hovermode\":\"closest\",\"hoverlabel\":{\"align\":\"left\"},\"paper_bgcolor\":\"white\",\"plot_bgcolor\":\"#E5ECF6\",\"polar\":{\"bgcolor\":\"#E5ECF6\",\"angularaxis\":{\"gridcolor\":\"white\",\"linecolor\":\"white\",\"ticks\":\"\"},\"radialaxis\":{\"gridcolor\":\"white\",\"linecolor\":\"white\",\"ticks\":\"\"}},\"ternary\":{\"bgcolor\":\"#E5ECF6\",\"aaxis\":{\"gridcolor\":\"white\",\"linecolor\":\"white\",\"ticks\":\"\"},\"baxis\":{\"gridcolor\":\"white\",\"linecolor\":\"white\",\"ticks\":\"\"},\"caxis\":{\"gridcolor\":\"white\",\"linecolor\":\"white\",\"ticks\":\"\"}},\"coloraxis\":{\"colorbar\":{\"outlinewidth\":0,\"ticks\":\"\"}},\"colorscale\":{\"sequential\":[[0.0,\"#0d0887\"],[0.1111111111111111,\"#46039f\"],[0.2222222222222222,\"#7201a8\"],[0.3333333333333333,\"#9c179e\"],[0.4444444444444444,\"#bd3786\"],[0.5555555555555556,\"#d8576b\"],[0.6666666666666666,\"#ed7953\"],[0.7777777777777778,\"#fb9f3a\"],[0.8888888888888888,\"#fdca26\"],[1.0,\"#f0f921\"]],\"sequentialminus\":[[0.0,\"#0d0887\"],[0.1111111111111111,\"#46039f\"],[0.2222222222222222,\"#7201a8\"],[0.3333333333333333,\"#9c179e\"],[0.4444444444444444,\"#bd3786\"],[0.5555555555555556,\"#d8576b\"],[0.6666666666666666,\"#ed7953\"],[0.7777777777777778,\"#fb9f3a\"],[0.8888888888888888,\"#fdca26\"],[1.0,\"#f0f921\"]],\"diverging\":[[0,\"#8e0152\"],[0.1,\"#c51b7d\"],[0.2,\"#de77ae\"],[0.3,\"#f1b6da\"],[0.4,\"#fde0ef\"],[0.5,\"#f7f7f7\"],[0.6,\"#e6f5d0\"],[0.7,\"#b8e186\"],[0.8,\"#7fbc41\"],[0.9,\"#4d9221\"],[1,\"#276419\"]]},\"xaxis\":{\"gridcolor\":\"white\",\"linecolor\":\"white\",\"ticks\":\"\",\"title\":{\"standoff\":15},\"zerolinecolor\":\"white\",\"automargin\":true,\"zerolinewidth\":2},\"yaxis\":{\"gridcolor\":\"white\",\"linecolor\":\"white\",\"ticks\":\"\",\"title\":{\"standoff\":15},\"zerolinecolor\":\"white\",\"automargin\":true,\"zerolinewidth\":2},\"scene\":{\"xaxis\":{\"backgroundcolor\":\"#E5ECF6\",\"gridcolor\":\"white\",\"linecolor\":\"white\",\"showbackground\":true,\"ticks\":\"\",\"zerolinecolor\":\"white\",\"gridwidth\":2},\"yaxis\":{\"backgroundcolor\":\"#E5ECF6\",\"gridcolor\":\"white\",\"linecolor\":\"white\",\"showbackground\":true,\"ticks\":\"\",\"zerolinecolor\":\"white\",\"gridwidth\":2},\"zaxis\":{\"backgroundcolor\":\"#E5ECF6\",\"gridcolor\":\"white\",\"linecolor\":\"white\",\"showbackground\":true,\"ticks\":\"\",\"zerolinecolor\":\"white\",\"gridwidth\":2}},\"shapedefaults\":{\"line\":{\"color\":\"#2a3f5f\"}},\"annotationdefaults\":{\"arrowcolor\":\"#2a3f5f\",\"arrowhead\":0,\"arrowwidth\":1},\"geo\":{\"bgcolor\":\"white\",\"landcolor\":\"#E5ECF6\",\"subunitcolor\":\"white\",\"showland\":true,\"showlakes\":true,\"lakecolor\":\"white\"},\"title\":{\"x\":0.05},\"mapbox\":{\"style\":\"light\"}}},\"xaxis\":{\"anchor\":\"y\",\"domain\":[0.0,1.0],\"showgrid\":false,\"zeroline\":false,\"showticklabels\":false},\"yaxis\":{\"anchor\":\"x\",\"domain\":[0.0,1.0],\"showgrid\":false,\"zeroline\":false,\"showticklabels\":false},\"shapes\":[{\"line\":{\"color\":\"Black\",\"width\":0.5},\"type\":\"line\",\"x0\":0,\"x1\":1,\"y0\":0,\"y1\":0},{\"line\":{\"color\":\"Black\",\"width\":0.5},\"type\":\"line\",\"x0\":1,\"x1\":1,\"y0\":0,\"y1\":-1},{\"line\":{\"color\":\"Black\",\"width\":0.5},\"type\":\"line\",\"x0\":1,\"x1\":1,\"y0\":-1,\"y1\":-2},{\"line\":{\"color\":\"Black\",\"width\":0.5},\"type\":\"line\",\"x0\":1,\"x1\":1,\"y0\":-2,\"y1\":-3},{\"line\":{\"color\":\"Black\",\"width\":0.5},\"type\":\"line\",\"x0\":1,\"x1\":1,\"y0\":-3,\"y1\":-4},{\"line\":{\"color\":\"Black\",\"width\":0.5},\"type\":\"line\",\"x0\":1,\"x1\":1,\"y0\":-4,\"y1\":-5},{\"line\":{\"color\":\"Black\",\"width\":0.5},\"type\":\"line\",\"x0\":1,\"x1\":1,\"y0\":-5,\"y1\":-6},{\"line\":{\"color\":\"Black\",\"width\":0.5},\"type\":\"line\",\"x0\":1,\"x1\":1,\"y0\":-6,\"y1\":-7},{\"line\":{\"color\":\"Black\",\"width\":0.5},\"type\":\"line\",\"x0\":1,\"x1\":1,\"y0\":-7,\"y1\":-8},{\"line\":{\"color\":\"Black\",\"width\":0.5},\"type\":\"line\",\"x0\":1,\"x1\":2,\"y0\":-8,\"y1\":0},{\"line\":{\"color\":\"Black\",\"width\":0.5},\"type\":\"line\",\"x0\":2,\"x1\":2,\"y0\":0,\"y1\":-9},{\"line\":{\"color\":\"Black\",\"width\":0.5},\"type\":\"line\",\"x0\":2,\"x1\":2,\"y0\":-9,\"y1\":-10},{\"line\":{\"color\":\"Black\",\"width\":0.5},\"type\":\"line\",\"x0\":2,\"x1\":2,\"y0\":-10,\"y1\":-11},{\"line\":{\"color\":\"Black\",\"width\":0.5},\"type\":\"line\",\"x0\":2,\"x1\":2,\"y0\":-11,\"y1\":-12},{\"line\":{\"color\":\"Black\",\"width\":0.5},\"type\":\"line\",\"x0\":2,\"x1\":2,\"y0\":-12,\"y1\":-13},{\"line\":{\"color\":\"Black\",\"width\":0.5},\"type\":\"line\",\"x0\":2,\"x1\":2,\"y0\":-13,\"y1\":-14},{\"line\":{\"color\":\"Black\",\"width\":0.5},\"type\":\"line\",\"x0\":2,\"x1\":3,\"y0\":-14,\"y1\":0},{\"line\":{\"color\":\"Black\",\"width\":0.5},\"type\":\"line\",\"x0\":3,\"x1\":3,\"y0\":0,\"y1\":-15},{\"line\":{\"color\":\"Black\",\"width\":0.5},\"type\":\"line\",\"x0\":3,\"x1\":3,\"y0\":-15,\"y1\":-16},{\"line\":{\"color\":\"Black\",\"width\":0.5},\"type\":\"line\",\"x0\":3,\"x1\":3,\"y0\":-16,\"y1\":-17},{\"line\":{\"color\":\"Black\",\"width\":0.5},\"type\":\"line\",\"x0\":3,\"x1\":3,\"y0\":-17,\"y1\":-18},{\"line\":{\"color\":\"Black\",\"width\":0.5},\"type\":\"line\",\"x0\":3,\"x1\":4,\"y0\":-18,\"y1\":0},{\"line\":{\"color\":\"Black\",\"width\":0.5},\"type\":\"line\",\"x0\":4,\"x1\":4,\"y0\":0,\"y1\":-19},{\"line\":{\"color\":\"Black\",\"width\":0.5},\"type\":\"line\",\"x0\":4,\"x1\":5,\"y0\":-19,\"y1\":0},{\"line\":{\"color\":\"Black\",\"width\":0.5},\"type\":\"line\",\"x0\":5,\"x1\":5,\"y0\":0,\"y1\":-20},{\"line\":{\"color\":\"Black\",\"width\":0.5},\"type\":\"line\",\"x0\":5,\"x1\":5,\"y0\":-20,\"y1\":-21},{\"line\":{\"color\":\"Black\",\"width\":0.5},\"type\":\"line\",\"x0\":5,\"x1\":5,\"y0\":-21,\"y1\":-22},{\"line\":{\"color\":\"Black\",\"width\":0.5},\"type\":\"line\",\"x0\":5,\"x1\":5,\"y0\":-22,\"y1\":-23},{\"line\":{\"color\":\"Black\",\"width\":0.5},\"type\":\"line\",\"x0\":5,\"x1\":6,\"y0\":-23,\"y1\":0},{\"line\":{\"color\":\"Black\",\"width\":0.5},\"type\":\"line\",\"x0\":6,\"x1\":6,\"y0\":0,\"y1\":-24},{\"line\":{\"color\":\"Black\",\"width\":0.5},\"type\":\"line\",\"x0\":6,\"x1\":7,\"y0\":-24,\"y1\":0},{\"line\":{\"color\":\"Black\",\"width\":0.5},\"type\":\"line\",\"x0\":7,\"x1\":7,\"y0\":0,\"y1\":-25},{\"line\":{\"color\":\"Black\",\"width\":0.5},\"type\":\"line\",\"x0\":7,\"x1\":7,\"y0\":-25,\"y1\":-26},{\"line\":{\"color\":\"Black\",\"width\":0.5},\"type\":\"line\",\"x0\":7,\"x1\":8,\"y0\":-26,\"y1\":0},{\"line\":{\"color\":\"Black\",\"width\":0.5},\"type\":\"line\",\"x0\":8,\"x1\":8,\"y0\":0,\"y1\":-27},{\"line\":{\"color\":\"Black\",\"width\":0.5},\"type\":\"line\",\"x0\":8,\"x1\":9,\"y0\":-27,\"y1\":0},{\"line\":{\"color\":\"Black\",\"width\":0.5},\"type\":\"line\",\"x0\":9,\"x1\":9,\"y0\":0,\"y1\":-28},{\"line\":{\"color\":\"Black\",\"width\":0.5},\"type\":\"line\",\"x0\":9,\"x1\":10,\"y0\":-28,\"y1\":0},{\"line\":{\"color\":\"Black\",\"width\":0.5},\"type\":\"line\",\"x0\":10,\"x1\":11,\"y0\":0,\"y1\":0},{\"line\":{\"color\":\"Black\",\"width\":0.5},\"type\":\"line\",\"x0\":11,\"x1\":11,\"y0\":0,\"y1\":-29},{\"line\":{\"color\":\"Black\",\"width\":0.5},\"type\":\"line\",\"x0\":11,\"x1\":11,\"y0\":-29,\"y1\":-30},{\"line\":{\"color\":\"Black\",\"width\":0.5},\"type\":\"line\",\"x0\":11,\"x1\":11,\"y0\":-30,\"y1\":-31},{\"line\":{\"color\":\"Black\",\"width\":0.5},\"type\":\"line\",\"x0\":11,\"x1\":12,\"y0\":-31,\"y1\":0},{\"line\":{\"color\":\"Black\",\"width\":0.5},\"type\":\"line\",\"x0\":12,\"x1\":12,\"y0\":0,\"y1\":-32},{\"line\":{\"color\":\"Black\",\"width\":0.5},\"type\":\"line\",\"x0\":12,\"x1\":13,\"y0\":-32,\"y1\":0},{\"line\":{\"color\":\"Black\",\"width\":0.5},\"type\":\"line\",\"x0\":13,\"x1\":13,\"y0\":0,\"y1\":-33},{\"line\":{\"color\":\"Black\",\"width\":0.5},\"type\":\"line\",\"x0\":13,\"x1\":14,\"y0\":-33,\"y1\":0},{\"line\":{\"color\":\"Black\",\"width\":0.5},\"type\":\"line\",\"x0\":14,\"x1\":14,\"y0\":0,\"y1\":-34},{\"line\":{\"color\":\"Black\",\"width\":0.5},\"type\":\"line\",\"x0\":14,\"x1\":14,\"y0\":-34,\"y1\":-35},{\"line\":{\"color\":\"Black\",\"width\":0.5},\"type\":\"line\",\"x0\":14,\"x1\":14,\"y0\":-35,\"y1\":-36},{\"line\":{\"color\":\"Black\",\"width\":0.5},\"type\":\"line\",\"x0\":14,\"x1\":14,\"y0\":-36,\"y1\":-37},{\"line\":{\"color\":\"Black\",\"width\":0.5},\"type\":\"line\",\"x0\":14,\"x1\":15,\"y0\":-37,\"y1\":0},{\"line\":{\"color\":\"Black\",\"width\":0.5},\"type\":\"line\",\"x0\":15,\"x1\":15,\"y0\":0,\"y1\":-38},{\"line\":{\"color\":\"Black\",\"width\":0.5},\"type\":\"line\",\"x0\":15,\"x1\":15,\"y0\":-38,\"y1\":-39},{\"line\":{\"color\":\"Black\",\"width\":0.5},\"type\":\"line\",\"x0\":15,\"x1\":15,\"y0\":-39,\"y1\":-40},{\"line\":{\"color\":\"Black\",\"width\":0.5},\"type\":\"line\",\"x0\":15,\"x1\":15,\"y0\":-40,\"y1\":-41},{\"line\":{\"color\":\"Black\",\"width\":0.5},\"type\":\"line\",\"x0\":15,\"x1\":15,\"y0\":-41,\"y1\":-42},{\"line\":{\"color\":\"Black\",\"width\":0.5},\"type\":\"line\",\"x0\":15,\"x1\":15,\"y0\":-42,\"y1\":-43},{\"line\":{\"color\":\"Black\",\"width\":0.5},\"type\":\"line\",\"x0\":15,\"x1\":15,\"y0\":-43,\"y1\":-44},{\"line\":{\"color\":\"Black\",\"width\":0.5},\"type\":\"line\",\"x0\":15,\"x1\":15,\"y0\":-44,\"y1\":-45},{\"line\":{\"color\":\"Black\",\"width\":0.5},\"type\":\"line\",\"x0\":15,\"x1\":15,\"y0\":-45,\"y1\":-46},{\"line\":{\"color\":\"Black\",\"width\":0.5},\"type\":\"line\",\"x0\":15,\"x1\":15,\"y0\":-46,\"y1\":-47},{\"line\":{\"color\":\"Black\",\"width\":0.5},\"type\":\"line\",\"x0\":15,\"x1\":16,\"y0\":-47,\"y1\":0},{\"line\":{\"color\":\"Black\",\"width\":0.5},\"type\":\"line\",\"x0\":16,\"x1\":16,\"y0\":0,\"y1\":-48},{\"line\":{\"color\":\"Black\",\"width\":0.5},\"type\":\"line\",\"x0\":16,\"x1\":17,\"y0\":-48,\"y1\":0},{\"line\":{\"color\":\"Black\",\"width\":0.5},\"type\":\"line\",\"x0\":17,\"x1\":18,\"y0\":0,\"y1\":0},{\"line\":{\"color\":\"Black\",\"width\":0.5},\"type\":\"line\",\"x0\":18,\"x1\":18,\"y0\":0,\"y1\":-49},{\"line\":{\"color\":\"Black\",\"width\":0.5},\"type\":\"line\",\"x0\":18,\"x1\":18,\"y0\":-49,\"y1\":-50},{\"line\":{\"color\":\"Black\",\"width\":0.5},\"type\":\"line\",\"x0\":18,\"x1\":18,\"y0\":-50,\"y1\":-51},{\"line\":{\"color\":\"Black\",\"width\":0.5},\"type\":\"line\",\"x0\":18,\"x1\":18,\"y0\":-51,\"y1\":-52},{\"line\":{\"color\":\"Black\",\"width\":0.5},\"type\":\"line\",\"x0\":18,\"x1\":18,\"y0\":-52,\"y1\":-53},{\"line\":{\"color\":\"Black\",\"width\":0.5},\"type\":\"line\",\"x0\":18,\"x1\":18,\"y0\":-53,\"y1\":-54},{\"line\":{\"color\":\"Black\",\"width\":0.5},\"type\":\"line\",\"x0\":18,\"x1\":19,\"y0\":-54,\"y1\":0},{\"line\":{\"color\":\"Black\",\"width\":0.5},\"type\":\"line\",\"x0\":19,\"x1\":19,\"y0\":0,\"y1\":-55},{\"line\":{\"color\":\"Black\",\"width\":0.5},\"type\":\"line\",\"x0\":19,\"x1\":19,\"y0\":-55,\"y1\":-56},{\"line\":{\"color\":\"Black\",\"width\":0.5},\"type\":\"line\",\"x0\":19,\"x1\":20,\"y0\":-56,\"y1\":0},{\"line\":{\"color\":\"Black\",\"width\":0.5},\"type\":\"line\",\"x0\":20,\"x1\":20,\"y0\":0,\"y1\":-57},{\"line\":{\"color\":\"Black\",\"width\":0.5},\"type\":\"line\",\"x0\":20,\"x1\":20,\"y0\":-57,\"y1\":-58},{\"line\":{\"color\":\"Black\",\"width\":0.5},\"type\":\"line\",\"x0\":20,\"x1\":20,\"y0\":-58,\"y1\":-59},{\"line\":{\"color\":\"Black\",\"width\":0.5},\"type\":\"line\",\"x0\":20,\"x1\":20,\"y0\":-59,\"y1\":-60},{\"line\":{\"color\":\"Black\",\"width\":0.5},\"type\":\"line\",\"x0\":20,\"x1\":20,\"y0\":-60,\"y1\":-61},{\"line\":{\"color\":\"Black\",\"width\":0.5},\"type\":\"line\",\"x0\":20,\"x1\":20,\"y0\":-61,\"y1\":-62},{\"line\":{\"color\":\"Black\",\"width\":0.5},\"type\":\"line\",\"x0\":20,\"x1\":20,\"y0\":-62,\"y1\":-63},{\"line\":{\"color\":\"Black\",\"width\":0.5},\"type\":\"line\",\"x0\":20,\"x1\":20,\"y0\":-63,\"y1\":-64},{\"line\":{\"color\":\"Black\",\"width\":0.5},\"type\":\"line\",\"x0\":20,\"x1\":20,\"y0\":-64,\"y1\":-65},{\"line\":{\"color\":\"Black\",\"width\":0.5},\"type\":\"line\",\"x0\":20,\"x1\":20,\"y0\":-65,\"y1\":-66},{\"line\":{\"color\":\"Black\",\"width\":0.5},\"type\":\"line\",\"x0\":20,\"x1\":20,\"y0\":-66,\"y1\":-67},{\"line\":{\"color\":\"Black\",\"width\":0.5},\"type\":\"line\",\"x0\":20,\"x1\":20,\"y0\":-67,\"y1\":-68},{\"line\":{\"color\":\"Black\",\"width\":0.5},\"type\":\"line\",\"x0\":20,\"x1\":20,\"y0\":-68,\"y1\":-69},{\"line\":{\"color\":\"Black\",\"width\":0.5},\"type\":\"line\",\"x0\":20,\"x1\":20,\"y0\":-69,\"y1\":-70},{\"line\":{\"color\":\"Black\",\"width\":0.5},\"type\":\"line\",\"x0\":20,\"x1\":20,\"y0\":-70,\"y1\":-71},{\"line\":{\"color\":\"Black\",\"width\":0.5},\"type\":\"line\",\"x0\":20,\"x1\":20,\"y0\":-71,\"y1\":-72},{\"line\":{\"color\":\"Black\",\"width\":0.5},\"type\":\"line\",\"x0\":20,\"x1\":21,\"y0\":-72,\"y1\":0},{\"line\":{\"color\":\"Black\",\"width\":0.5},\"type\":\"line\",\"x0\":21,\"x1\":21,\"y0\":0,\"y1\":-73},{\"line\":{\"color\":\"Black\",\"width\":0.5},\"type\":\"line\",\"x0\":21,\"x1\":22,\"y0\":-73,\"y1\":0},{\"line\":{\"color\":\"Black\",\"width\":0.5},\"type\":\"line\",\"x0\":22,\"x1\":22,\"y0\":0,\"y1\":-74},{\"line\":{\"color\":\"Black\",\"width\":0.5},\"type\":\"line\",\"x0\":22,\"x1\":23,\"y0\":-74,\"y1\":0},{\"line\":{\"color\":\"Black\",\"width\":0.5},\"type\":\"line\",\"x0\":23,\"x1\":23,\"y0\":0,\"y1\":-75},{\"line\":{\"color\":\"Black\",\"width\":0.5},\"type\":\"line\",\"x0\":23,\"x1\":23,\"y0\":-75,\"y1\":-76},{\"line\":{\"color\":\"Black\",\"width\":0.5},\"type\":\"line\",\"x0\":23,\"x1\":23,\"y0\":-76,\"y1\":-77},{\"line\":{\"color\":\"Black\",\"width\":0.5},\"type\":\"line\",\"x0\":23,\"x1\":23,\"y0\":-77,\"y1\":-78},{\"line\":{\"color\":\"Black\",\"width\":0.5},\"type\":\"line\",\"x0\":23,\"x1\":24,\"y0\":-78,\"y1\":0},{\"line\":{\"color\":\"Black\",\"width\":0.5},\"type\":\"line\",\"x0\":24,\"x1\":25,\"y0\":0,\"y1\":0},{\"line\":{\"color\":\"Black\",\"width\":0.5},\"type\":\"line\",\"x0\":25,\"x1\":26,\"y0\":0,\"y1\":0},{\"line\":{\"color\":\"Black\",\"width\":0.5},\"type\":\"line\",\"x0\":26,\"x1\":26,\"y0\":0,\"y1\":-79},{\"line\":{\"color\":\"Black\",\"width\":0.5},\"type\":\"line\",\"x0\":26,\"x1\":26,\"y0\":-79,\"y1\":-80},{\"line\":{\"color\":\"Black\",\"width\":0.5},\"type\":\"line\",\"x0\":26,\"x1\":26,\"y0\":-80,\"y1\":-81},{\"line\":{\"color\":\"Black\",\"width\":0.5},\"type\":\"line\",\"x0\":26,\"x1\":26,\"y0\":-81,\"y1\":-82},{\"line\":{\"color\":\"Black\",\"width\":0.5},\"type\":\"line\",\"x0\":26,\"x1\":26,\"y0\":-82,\"y1\":-83},{\"line\":{\"color\":\"Black\",\"width\":0.5},\"type\":\"line\",\"x0\":26,\"x1\":27,\"y0\":-83,\"y1\":0},{\"line\":{\"color\":\"Black\",\"width\":0.5},\"type\":\"line\",\"x0\":27,\"x1\":27,\"y0\":0,\"y1\":-84},{\"line\":{\"color\":\"Black\",\"width\":0.5},\"type\":\"line\",\"x0\":27,\"x1\":28,\"y0\":-84,\"y1\":0},{\"line\":{\"color\":\"Black\",\"width\":0.5},\"type\":\"line\",\"x0\":28,\"x1\":28,\"y0\":0,\"y1\":-85},{\"line\":{\"color\":\"Black\",\"width\":0.5},\"type\":\"line\",\"x0\":28,\"x1\":28,\"y0\":-85,\"y1\":-86},{\"line\":{\"color\":\"Black\",\"width\":0.5},\"type\":\"line\",\"x0\":28,\"x1\":29,\"y0\":-86,\"y1\":0},{\"line\":{\"color\":\"Black\",\"width\":0.5},\"type\":\"line\",\"x0\":29,\"x1\":29,\"y0\":0,\"y1\":-87},{\"line\":{\"color\":\"Black\",\"width\":0.5},\"type\":\"line\",\"x0\":29,\"x1\":30,\"y0\":-87,\"y1\":0},{\"line\":{\"color\":\"Black\",\"width\":0.5},\"type\":\"line\",\"x0\":30,\"x1\":31,\"y0\":0,\"y1\":0}],\"margin\":{\"b\":20,\"l\":20,\"r\":20,\"t\":20},\"showlegend\":false,\"hovermode\":\"closest\",\"height\":600,\"width\":800},                        {\"responsive\": true}                    ).then(function(){\n",
       "                            \n",
       "var gd = document.getElementById('ca917aef-e639-44e3-a594-c091af1b1b13');\n",
       "var x = new MutationObserver(function (mutations, observer) {{\n",
       "        var display = window.getComputedStyle(gd).display;\n",
       "        if (!display || display === 'none') {{\n",
       "            console.log([gd, 'removed!']);\n",
       "            Plotly.purge(gd);\n",
       "            observer.disconnect();\n",
       "        }}\n",
       "}});\n",
       "\n",
       "// Listen for the removal of the full notebook cells\n",
       "var notebookContainer = gd.closest('#notebook-container');\n",
       "if (notebookContainer) {{\n",
       "    x.observe(notebookContainer, {childList: true});\n",
       "}}\n",
       "\n",
       "// Listen for the clearing of the current output cell\n",
       "var outputEl = gd.closest('.output');\n",
       "if (outputEl) {{\n",
       "    x.observe(outputEl, {childList: true});\n",
       "}}\n",
       "\n",
       "                        })                };                });            </script>        </div>"
      ]
     },
     "metadata": {},
     "output_type": "display_data"
    }
   ],
   "source": [
    "import plotly.graph_objects as go\n",
    "from plotly.subplots import make_subplots\n",
    "\n",
    "# Assuming the DataFrame 'df' is already created and populated\n",
    "# df should have columns 'text', 'rating_value', 'similar_phrases', 'similar_ratings'\n",
    "\n",
    "# Create lists to hold node positions, labels, hover text, and colors\n",
    "x_nodes = []\n",
    "y_nodes = []\n",
    "node_labels = []\n",
    "hover_texts = []\n",
    "node_colors = []\n",
    "node_sizes = []\n",
    "\n",
    "# Define colors for different ratings based on rating_value value\n",
    "def get_color(rating_value):\n",
    "    if rating_value == 1:\n",
    "        return 'red'\n",
    "    elif rating_value == 2:\n",
    "        return 'orange'\n",
    "    else:\n",
    "        return 'green'  # Default color for other ratings\n",
    "\n",
    "# Add the root node\n",
    "x_nodes.append(0)\n",
    "y_nodes.append(0)  # Place root at the top\n",
    "node_labels.append('ROOT')\n",
    "hover_texts.append('ROOT<br>Rating: -')\n",
    "node_colors.append('blue')\n",
    "node_sizes.append(20)\n",
    "\n",
    "# Set the x and y positions for sentence and phrase nodes\n",
    "last_y = 0\n",
    "for index, row in df.iterrows():\n",
    "    x_nodes.append(index + 1)  # Increment x position for each sentence\n",
    "    y_nodes.append(0)  # Keep all sentences at the same y level as the root\n",
    "    node_labels.append(f\"Sentence_{index}\")  # Use index as label for brevity\n",
    "    hover_text = f\"{row['text']}<br>Rating: {row['rating_value']}\"\n",
    "    hover_texts.append(hover_text)  # Full text and rating on hover\n",
    "    node_colors.append(get_color(row['rating_value']))  # Use the get_color function\n",
    "    node_sizes.append(15)\n",
    "\n",
    "    # Position phrases directly below their parent sentence\n",
    "    for j, (phrase, rating) in enumerate(zip(row['similar_phrases'], row['similar_ratings'])):\n",
    "        x_nodes.append(index + 1)\n",
    "        last_y -= 1  # Decrement y position for each phrase\n",
    "        y_nodes.append(last_y)\n",
    "        node_labels.append('')\n",
    "        phrase_hover_text = f\"{phrase}<br>Rating: {rating}\"\n",
    "        hover_texts.append(phrase_hover_text)  # Full text and rating on hover\n",
    "        node_colors.append(get_color(rating))  # Use the get_color function\n",
    "        node_sizes.append(10)\n",
    "\n",
    "# Initialize figure with subplots to add multiple traces\n",
    "fig = make_subplots(rows=1, cols=1)\n",
    "\n",
    "# Add traces for nodes with hover text\n",
    "fig.add_trace(go.Scatter(x=x_nodes, y=y_nodes, mode='markers+text', text=node_labels,\n",
    "                         hovertext=hover_texts, hoverinfo='text', textposition=\"bottom center\",\n",
    "                         marker=dict(color=node_colors, size=node_sizes, line=dict(color='Black', width=2))))\n",
    "\n",
    "# Add lines for edges, connecting each node to the next\n",
    "for i in range(len(x_nodes)-1):\n",
    "    fig.add_shape(type='line', x0=x_nodes[i], y0=y_nodes[i], x1=x_nodes[i+1], y1=y_nodes[i+1],\n",
    "                  line=dict(color='Black', width=0.5))\n",
    "\n",
    "                              # Update the layout\n",
    "fig.update_layout(\n",
    "    showlegend=False,\n",
    "    hovermode='closest',\n",
    "    margin=dict(b=20, l=20, r=20, t=20),\n",
    "    xaxis=dict(showgrid=False, zeroline=False, showticklabels=False),\n",
    "    yaxis=dict(showgrid=False, zeroline=False, showticklabels=False),\n",
    "    height=600,  # Height of the full figure\n",
    "    width=800,  # Width of the full figure\n",
    ")\n",
    "\n",
    "# Show the figure\n",
    "fig.show()"
   ]
  },
  {
   "cell_type": "code",
   "execution_count": 16,
   "id": "7a96dd15-c3f7-4714-a1fa-aa39e162d5a7",
   "metadata": {},
   "outputs": [
    {
     "data": {
      "application/vnd.plotly.v1+json": {
       "config": {
        "plotlyServerURL": "https://plot.ly"
       },
       "data": [
        {
         "hoverinfo": "text",
         "hovertext": [
          "ROOT<br>Rating: -",
          "Biden climate plan will cut American meat consumption<br>Rating: 1",
          "President Joe Biden's climate plan includes cutting 90% of red meat from Americans' diets by 2030.<br>Rating: 1",
          "An image shared on Facebook claims President Joe Biden’s climate plan requires Americans to reduce their red meat consumption by 90 percent.<br>Rating: 1",
          "A post shared on Facebook claims that President Joe Biden’s administration is seeking to ban the use of gas stoves.<br>Rating: 1",
          "U.S. President Joe Biden’s administration is planning to ban gas stoves over concerns surrounding climate change.<br>Rating: 1",
          "Says President Joe Biden is trying to send taxpayer dollars to manufacturers overseas that do not abide by the same (carbon emission) standards we do at home.<br>Rating: 2",
          "Says Joe Biden plans to mandate net-zero carbon emissions for homes, offices and all new buildings by 2030. That basically means no windows, no nothing.<br>Rating: 1",
          "Says Joe Biden has plans to ban animal agriculture and gas-powered cars.<br>Rating: 1",
          "Says Joe Biden will redirect the $30 billion that Donald Trump left for U.S. farmers to ‘climate change.’<br>Rating: 2",
          "Says Joe Biden wants American farmers to put their farmland into Gvt ‘land banks.’ Gvt would then tell farmers what ‘sustainable’ plants they could grow.<br>Rating: 2",
          "Says Joe Biden is following through with a fracking ban.<br>Rating: 2",
          "Joe Biden wants to ban fracking<br>Rating: 1",
          "Joe Biden plans to ban fracking<br>Rating: 1",
          "In the 2020 presidential election, Democratic candidate Joe Biden's policy on fracking was to ban it outright.<br>Rating: 2",
          "Says Democratic presidential nominee Joe Biden backs a fracking ban that would cost 100,000 Wisconsin jobs<br>Rating: 1",
          "Says Joe Biden has plans to ban animal agriculture and gas-powered cars.<br>Rating: 1",
          "Says Joe Biden's plan for net-zero emissions would instantly shut down all fracking and all mining immediately in Pennsylvania.<br>Rating: 1",
          "President Joe Biden said, I know you all know there’s no climate problem, proving that people have been lying for decades about climate change.<br>Rating: 1",
          "Biden’s Speech Minimizes Historic US Greenhouse Contribution<br>Rating: 2",
          "Says Joe Biden will redirect the $30 billion that Donald Trump left for U.S. farmers to ‘climate change.’<br>Rating: 2"
         ],
         "marker": {
          "color": [
           "blue",
           "red",
           "red",
           "red",
           "red",
           "red",
           "orange",
           "red",
           "red",
           "orange",
           "orange",
           "orange",
           "red",
           "red",
           "orange",
           "red",
           "red",
           "red",
           "red",
           "orange",
           "orange"
          ],
          "size": [
           20,
           15,
           10,
           10,
           15,
           10,
           15,
           10,
           10,
           10,
           10,
           15,
           10,
           10,
           10,
           10,
           10,
           10,
           15,
           10,
           10
          ]
         },
         "mode": "markers",
         "type": "scatter",
         "x": [
          0,
          1,
          1,
          1,
          2,
          2,
          3,
          3,
          3,
          3,
          3,
          4,
          4,
          4,
          4,
          4,
          4,
          4,
          5,
          5,
          5
         ],
         "y": [
          0,
          0,
          -1,
          -2,
          0,
          -1,
          0,
          -1,
          -2,
          -3,
          -4,
          0,
          -1,
          -2,
          -3,
          -4,
          -5,
          -6,
          0,
          -1,
          -2
         ]
        }
       ],
       "layout": {
        "autosize": true,
        "hovermode": "closest",
        "margin": {
         "b": 20,
         "l": 20,
         "r": 20,
         "t": 40
        },
        "shapes": [
         {
          "line": {
           "color": "black",
           "width": 1
          },
          "type": "line",
          "x0": 0,
          "x1": 1,
          "y0": 0,
          "y1": 0
         },
         {
          "line": {
           "color": "black",
           "width": 1
          },
          "type": "line",
          "x0": 1,
          "x1": 1,
          "y0": 0,
          "y1": -1
         },
         {
          "line": {
           "color": "black",
           "width": 1
          },
          "type": "line",
          "x0": 1,
          "x1": 1,
          "y0": 0,
          "y1": -2
         },
         {
          "line": {
           "color": "black",
           "width": 1
          },
          "type": "line",
          "x0": 0,
          "x1": 2,
          "y0": 0,
          "y1": 0
         },
         {
          "line": {
           "color": "black",
           "width": 1
          },
          "type": "line",
          "x0": 2,
          "x1": 2,
          "y0": 0,
          "y1": -1
         },
         {
          "line": {
           "color": "black",
           "width": 1
          },
          "type": "line",
          "x0": 0,
          "x1": 3,
          "y0": 0,
          "y1": 0
         },
         {
          "line": {
           "color": "black",
           "width": 1
          },
          "type": "line",
          "x0": 3,
          "x1": 3,
          "y0": 0,
          "y1": -1
         },
         {
          "line": {
           "color": "black",
           "width": 1
          },
          "type": "line",
          "x0": 3,
          "x1": 3,
          "y0": 0,
          "y1": -2
         },
         {
          "line": {
           "color": "black",
           "width": 1
          },
          "type": "line",
          "x0": 3,
          "x1": 3,
          "y0": 0,
          "y1": -3
         },
         {
          "line": {
           "color": "black",
           "width": 1
          },
          "type": "line",
          "x0": 3,
          "x1": 3,
          "y0": 0,
          "y1": -4
         },
         {
          "line": {
           "color": "black",
           "width": 1
          },
          "type": "line",
          "x0": 0,
          "x1": 4,
          "y0": 0,
          "y1": 0
         },
         {
          "line": {
           "color": "black",
           "width": 1
          },
          "type": "line",
          "x0": 4,
          "x1": 4,
          "y0": 0,
          "y1": -1
         },
         {
          "line": {
           "color": "black",
           "width": 1
          },
          "type": "line",
          "x0": 4,
          "x1": 4,
          "y0": 0,
          "y1": -2
         },
         {
          "line": {
           "color": "black",
           "width": 1
          },
          "type": "line",
          "x0": 4,
          "x1": 4,
          "y0": 0,
          "y1": -3
         },
         {
          "line": {
           "color": "black",
           "width": 1
          },
          "type": "line",
          "x0": 4,
          "x1": 4,
          "y0": 0,
          "y1": -4
         },
         {
          "line": {
           "color": "black",
           "width": 1
          },
          "type": "line",
          "x0": 4,
          "x1": 4,
          "y0": 0,
          "y1": -5
         },
         {
          "line": {
           "color": "black",
           "width": 1
          },
          "type": "line",
          "x0": 4,
          "x1": 4,
          "y0": 0,
          "y1": -6
         },
         {
          "line": {
           "color": "black",
           "width": 1
          },
          "type": "line",
          "x0": 0,
          "x1": 5,
          "y0": 0,
          "y1": 0
         },
         {
          "line": {
           "color": "black",
           "width": 1
          },
          "type": "line",
          "x0": 5,
          "x1": 5,
          "y0": 0,
          "y1": -1
         },
         {
          "line": {
           "color": "black",
           "width": 1
          },
          "type": "line",
          "x0": 5,
          "x1": 5,
          "y0": 0,
          "y1": -2
         }
        ],
        "template": {
         "data": {
          "bar": [
           {
            "error_x": {
             "color": "#2a3f5f"
            },
            "error_y": {
             "color": "#2a3f5f"
            },
            "marker": {
             "line": {
              "color": "#E5ECF6",
              "width": 0.5
             },
             "pattern": {
              "fillmode": "overlay",
              "size": 10,
              "solidity": 0.2
             }
            },
            "type": "bar"
           }
          ],
          "barpolar": [
           {
            "marker": {
             "line": {
              "color": "#E5ECF6",
              "width": 0.5
             },
             "pattern": {
              "fillmode": "overlay",
              "size": 10,
              "solidity": 0.2
             }
            },
            "type": "barpolar"
           }
          ],
          "carpet": [
           {
            "aaxis": {
             "endlinecolor": "#2a3f5f",
             "gridcolor": "white",
             "linecolor": "white",
             "minorgridcolor": "white",
             "startlinecolor": "#2a3f5f"
            },
            "baxis": {
             "endlinecolor": "#2a3f5f",
             "gridcolor": "white",
             "linecolor": "white",
             "minorgridcolor": "white",
             "startlinecolor": "#2a3f5f"
            },
            "type": "carpet"
           }
          ],
          "choropleth": [
           {
            "colorbar": {
             "outlinewidth": 0,
             "ticks": ""
            },
            "type": "choropleth"
           }
          ],
          "contour": [
           {
            "colorbar": {
             "outlinewidth": 0,
             "ticks": ""
            },
            "colorscale": [
             [
              0,
              "#0d0887"
             ],
             [
              0.1111111111111111,
              "#46039f"
             ],
             [
              0.2222222222222222,
              "#7201a8"
             ],
             [
              0.3333333333333333,
              "#9c179e"
             ],
             [
              0.4444444444444444,
              "#bd3786"
             ],
             [
              0.5555555555555556,
              "#d8576b"
             ],
             [
              0.6666666666666666,
              "#ed7953"
             ],
             [
              0.7777777777777778,
              "#fb9f3a"
             ],
             [
              0.8888888888888888,
              "#fdca26"
             ],
             [
              1,
              "#f0f921"
             ]
            ],
            "type": "contour"
           }
          ],
          "contourcarpet": [
           {
            "colorbar": {
             "outlinewidth": 0,
             "ticks": ""
            },
            "type": "contourcarpet"
           }
          ],
          "heatmap": [
           {
            "colorbar": {
             "outlinewidth": 0,
             "ticks": ""
            },
            "colorscale": [
             [
              0,
              "#0d0887"
             ],
             [
              0.1111111111111111,
              "#46039f"
             ],
             [
              0.2222222222222222,
              "#7201a8"
             ],
             [
              0.3333333333333333,
              "#9c179e"
             ],
             [
              0.4444444444444444,
              "#bd3786"
             ],
             [
              0.5555555555555556,
              "#d8576b"
             ],
             [
              0.6666666666666666,
              "#ed7953"
             ],
             [
              0.7777777777777778,
              "#fb9f3a"
             ],
             [
              0.8888888888888888,
              "#fdca26"
             ],
             [
              1,
              "#f0f921"
             ]
            ],
            "type": "heatmap"
           }
          ],
          "heatmapgl": [
           {
            "colorbar": {
             "outlinewidth": 0,
             "ticks": ""
            },
            "colorscale": [
             [
              0,
              "#0d0887"
             ],
             [
              0.1111111111111111,
              "#46039f"
             ],
             [
              0.2222222222222222,
              "#7201a8"
             ],
             [
              0.3333333333333333,
              "#9c179e"
             ],
             [
              0.4444444444444444,
              "#bd3786"
             ],
             [
              0.5555555555555556,
              "#d8576b"
             ],
             [
              0.6666666666666666,
              "#ed7953"
             ],
             [
              0.7777777777777778,
              "#fb9f3a"
             ],
             [
              0.8888888888888888,
              "#fdca26"
             ],
             [
              1,
              "#f0f921"
             ]
            ],
            "type": "heatmapgl"
           }
          ],
          "histogram": [
           {
            "marker": {
             "pattern": {
              "fillmode": "overlay",
              "size": 10,
              "solidity": 0.2
             }
            },
            "type": "histogram"
           }
          ],
          "histogram2d": [
           {
            "colorbar": {
             "outlinewidth": 0,
             "ticks": ""
            },
            "colorscale": [
             [
              0,
              "#0d0887"
             ],
             [
              0.1111111111111111,
              "#46039f"
             ],
             [
              0.2222222222222222,
              "#7201a8"
             ],
             [
              0.3333333333333333,
              "#9c179e"
             ],
             [
              0.4444444444444444,
              "#bd3786"
             ],
             [
              0.5555555555555556,
              "#d8576b"
             ],
             [
              0.6666666666666666,
              "#ed7953"
             ],
             [
              0.7777777777777778,
              "#fb9f3a"
             ],
             [
              0.8888888888888888,
              "#fdca26"
             ],
             [
              1,
              "#f0f921"
             ]
            ],
            "type": "histogram2d"
           }
          ],
          "histogram2dcontour": [
           {
            "colorbar": {
             "outlinewidth": 0,
             "ticks": ""
            },
            "colorscale": [
             [
              0,
              "#0d0887"
             ],
             [
              0.1111111111111111,
              "#46039f"
             ],
             [
              0.2222222222222222,
              "#7201a8"
             ],
             [
              0.3333333333333333,
              "#9c179e"
             ],
             [
              0.4444444444444444,
              "#bd3786"
             ],
             [
              0.5555555555555556,
              "#d8576b"
             ],
             [
              0.6666666666666666,
              "#ed7953"
             ],
             [
              0.7777777777777778,
              "#fb9f3a"
             ],
             [
              0.8888888888888888,
              "#fdca26"
             ],
             [
              1,
              "#f0f921"
             ]
            ],
            "type": "histogram2dcontour"
           }
          ],
          "mesh3d": [
           {
            "colorbar": {
             "outlinewidth": 0,
             "ticks": ""
            },
            "type": "mesh3d"
           }
          ],
          "parcoords": [
           {
            "line": {
             "colorbar": {
              "outlinewidth": 0,
              "ticks": ""
             }
            },
            "type": "parcoords"
           }
          ],
          "pie": [
           {
            "automargin": true,
            "type": "pie"
           }
          ],
          "scatter": [
           {
            "fillpattern": {
             "fillmode": "overlay",
             "size": 10,
             "solidity": 0.2
            },
            "type": "scatter"
           }
          ],
          "scatter3d": [
           {
            "line": {
             "colorbar": {
              "outlinewidth": 0,
              "ticks": ""
             }
            },
            "marker": {
             "colorbar": {
              "outlinewidth": 0,
              "ticks": ""
             }
            },
            "type": "scatter3d"
           }
          ],
          "scattercarpet": [
           {
            "marker": {
             "colorbar": {
              "outlinewidth": 0,
              "ticks": ""
             }
            },
            "type": "scattercarpet"
           }
          ],
          "scattergeo": [
           {
            "marker": {
             "colorbar": {
              "outlinewidth": 0,
              "ticks": ""
             }
            },
            "type": "scattergeo"
           }
          ],
          "scattergl": [
           {
            "marker": {
             "colorbar": {
              "outlinewidth": 0,
              "ticks": ""
             }
            },
            "type": "scattergl"
           }
          ],
          "scattermapbox": [
           {
            "marker": {
             "colorbar": {
              "outlinewidth": 0,
              "ticks": ""
             }
            },
            "type": "scattermapbox"
           }
          ],
          "scatterpolar": [
           {
            "marker": {
             "colorbar": {
              "outlinewidth": 0,
              "ticks": ""
             }
            },
            "type": "scatterpolar"
           }
          ],
          "scatterpolargl": [
           {
            "marker": {
             "colorbar": {
              "outlinewidth": 0,
              "ticks": ""
             }
            },
            "type": "scatterpolargl"
           }
          ],
          "scatterternary": [
           {
            "marker": {
             "colorbar": {
              "outlinewidth": 0,
              "ticks": ""
             }
            },
            "type": "scatterternary"
           }
          ],
          "surface": [
           {
            "colorbar": {
             "outlinewidth": 0,
             "ticks": ""
            },
            "colorscale": [
             [
              0,
              "#0d0887"
             ],
             [
              0.1111111111111111,
              "#46039f"
             ],
             [
              0.2222222222222222,
              "#7201a8"
             ],
             [
              0.3333333333333333,
              "#9c179e"
             ],
             [
              0.4444444444444444,
              "#bd3786"
             ],
             [
              0.5555555555555556,
              "#d8576b"
             ],
             [
              0.6666666666666666,
              "#ed7953"
             ],
             [
              0.7777777777777778,
              "#fb9f3a"
             ],
             [
              0.8888888888888888,
              "#fdca26"
             ],
             [
              1,
              "#f0f921"
             ]
            ],
            "type": "surface"
           }
          ],
          "table": [
           {
            "cells": {
             "fill": {
              "color": "#EBF0F8"
             },
             "line": {
              "color": "white"
             }
            },
            "header": {
             "fill": {
              "color": "#C8D4E3"
             },
             "line": {
              "color": "white"
             }
            },
            "type": "table"
           }
          ]
         },
         "layout": {
          "annotationdefaults": {
           "arrowcolor": "#2a3f5f",
           "arrowhead": 0,
           "arrowwidth": 1
          },
          "autotypenumbers": "strict",
          "coloraxis": {
           "colorbar": {
            "outlinewidth": 0,
            "ticks": ""
           }
          },
          "colorscale": {
           "diverging": [
            [
             0,
             "#8e0152"
            ],
            [
             0.1,
             "#c51b7d"
            ],
            [
             0.2,
             "#de77ae"
            ],
            [
             0.3,
             "#f1b6da"
            ],
            [
             0.4,
             "#fde0ef"
            ],
            [
             0.5,
             "#f7f7f7"
            ],
            [
             0.6,
             "#e6f5d0"
            ],
            [
             0.7,
             "#b8e186"
            ],
            [
             0.8,
             "#7fbc41"
            ],
            [
             0.9,
             "#4d9221"
            ],
            [
             1,
             "#276419"
            ]
           ],
           "sequential": [
            [
             0,
             "#0d0887"
            ],
            [
             0.1111111111111111,
             "#46039f"
            ],
            [
             0.2222222222222222,
             "#7201a8"
            ],
            [
             0.3333333333333333,
             "#9c179e"
            ],
            [
             0.4444444444444444,
             "#bd3786"
            ],
            [
             0.5555555555555556,
             "#d8576b"
            ],
            [
             0.6666666666666666,
             "#ed7953"
            ],
            [
             0.7777777777777778,
             "#fb9f3a"
            ],
            [
             0.8888888888888888,
             "#fdca26"
            ],
            [
             1,
             "#f0f921"
            ]
           ],
           "sequentialminus": [
            [
             0,
             "#0d0887"
            ],
            [
             0.1111111111111111,
             "#46039f"
            ],
            [
             0.2222222222222222,
             "#7201a8"
            ],
            [
             0.3333333333333333,
             "#9c179e"
            ],
            [
             0.4444444444444444,
             "#bd3786"
            ],
            [
             0.5555555555555556,
             "#d8576b"
            ],
            [
             0.6666666666666666,
             "#ed7953"
            ],
            [
             0.7777777777777778,
             "#fb9f3a"
            ],
            [
             0.8888888888888888,
             "#fdca26"
            ],
            [
             1,
             "#f0f921"
            ]
           ]
          },
          "colorway": [
           "#636efa",
           "#EF553B",
           "#00cc96",
           "#ab63fa",
           "#FFA15A",
           "#19d3f3",
           "#FF6692",
           "#B6E880",
           "#FF97FF",
           "#FECB52"
          ],
          "font": {
           "color": "#2a3f5f"
          },
          "geo": {
           "bgcolor": "white",
           "lakecolor": "white",
           "landcolor": "#E5ECF6",
           "showlakes": true,
           "showland": true,
           "subunitcolor": "white"
          },
          "hoverlabel": {
           "align": "left"
          },
          "hovermode": "closest",
          "mapbox": {
           "style": "light"
          },
          "paper_bgcolor": "white",
          "plot_bgcolor": "#E5ECF6",
          "polar": {
           "angularaxis": {
            "gridcolor": "white",
            "linecolor": "white",
            "ticks": ""
           },
           "bgcolor": "#E5ECF6",
           "radialaxis": {
            "gridcolor": "white",
            "linecolor": "white",
            "ticks": ""
           }
          },
          "scene": {
           "xaxis": {
            "backgroundcolor": "#E5ECF6",
            "gridcolor": "white",
            "gridwidth": 2,
            "linecolor": "white",
            "showbackground": true,
            "ticks": "",
            "zerolinecolor": "white"
           },
           "yaxis": {
            "backgroundcolor": "#E5ECF6",
            "gridcolor": "white",
            "gridwidth": 2,
            "linecolor": "white",
            "showbackground": true,
            "ticks": "",
            "zerolinecolor": "white"
           },
           "zaxis": {
            "backgroundcolor": "#E5ECF6",
            "gridcolor": "white",
            "gridwidth": 2,
            "linecolor": "white",
            "showbackground": true,
            "ticks": "",
            "zerolinecolor": "white"
           }
          },
          "shapedefaults": {
           "line": {
            "color": "#2a3f5f"
           }
          },
          "ternary": {
           "aaxis": {
            "gridcolor": "white",
            "linecolor": "white",
            "ticks": ""
           },
           "baxis": {
            "gridcolor": "white",
            "linecolor": "white",
            "ticks": ""
           },
           "bgcolor": "#E5ECF6",
           "caxis": {
            "gridcolor": "white",
            "linecolor": "white",
            "ticks": ""
           }
          },
          "title": {
           "x": 0.05
          },
          "xaxis": {
           "automargin": true,
           "gridcolor": "white",
           "linecolor": "white",
           "ticks": "",
           "title": {
            "standoff": 15
           },
           "zerolinecolor": "white",
           "zerolinewidth": 2
          },
          "yaxis": {
           "automargin": true,
           "gridcolor": "white",
           "linecolor": "white",
           "ticks": "",
           "title": {
            "standoff": 15
           },
           "zerolinecolor": "white",
           "zerolinewidth": 2
          }
         }
        },
        "title": {
         "text": "Context: Biden Topic: Climate"
        },
        "xaxis": {
         "autorange": true,
         "range": [
          -0.3628469530159715,
          5.3434641029617
         ],
         "showgrid": false,
         "showticklabels": false,
         "type": "linear",
         "zeroline": false
        },
        "yaxis": {
         "autorange": true,
         "range": [
          -6.507462686567164,
          0.6567164179104478
         ],
         "showgrid": false,
         "showticklabels": false,
         "type": "linear",
         "zeroline": false
        }
       }
      },
      "image/png": "[encoded data removed]",
      "text/html": [
       "<div>                            <div id=\"3f0a9909-4825-4069-877e-df3c25351611\" class=\"plotly-graph-div\" style=\"height:525px; width:100%;\"></div>            <script type=\"text/javascript\">                require([\"plotly\"], function(Plotly) {                    window.PLOTLYENV=window.PLOTLYENV || {};                                    if (document.getElementById(\"3f0a9909-4825-4069-877e-df3c25351611\")) {                    Plotly.newPlot(                        \"3f0a9909-4825-4069-877e-df3c25351611\",                        [{\"hoverinfo\":\"text\",\"hovertext\":[\"ROOT<br>Rating: -\",\"Biden climate plan will cut American meat consumption<br>Rating: 1\",\"President Joe Biden's climate plan includes cutting 90% of red meat from Americans' diets by 2030.<br>Rating: 1\",\"An image shared on Facebook claims President Joe Biden\\u2019s climate plan requires Americans to reduce their red meat consumption by 90 percent.<br>Rating: 1\",\"A post shared on Facebook claims that President Joe Biden\\u2019s administration is seeking to ban the use of gas stoves.<br>Rating: 1\",\"U.S. President Joe Biden\\u2019s administration is planning to ban gas stoves over concerns surrounding climate change.<br>Rating: 1\",\"Says President Joe Biden is trying to send taxpayer dollars to manufacturers overseas that do not abide by the same (carbon emission) standards we do at home.<br>Rating: 2\",\"Says Joe Biden plans to mandate net-zero carbon emissions for homes, offices and all new buildings by 2030. That basically means no windows, no nothing.<br>Rating: 1\",\"Says Joe Biden has plans to ban animal agriculture and gas-powered cars.<br>Rating: 1\",\"Says Joe Biden will redirect the $30 billion that Donald Trump left for U.S. farmers to \\u2018climate change.\\u2019<br>Rating: 2\",\"Says Joe Biden wants American farmers to put their farmland into Gvt \\u2018land banks.\\u2019 Gvt would then tell farmers what \\u2018sustainable\\u2019 plants they could grow.<br>Rating: 2\",\"Says Joe Biden is following through with a fracking ban.<br>Rating: 2\",\"Joe Biden wants to ban fracking<br>Rating: 1\",\"Joe Biden plans to ban fracking<br>Rating: 1\",\"In the 2020 presidential election, Democratic candidate Joe Biden's policy on fracking was to ban it outright.<br>Rating: 2\",\"Says Democratic presidential nominee Joe Biden backs a fracking ban that would cost 100,000 Wisconsin jobs<br>Rating: 1\",\"Says Joe Biden has plans to ban animal agriculture and gas-powered cars.<br>Rating: 1\",\"Says Joe Biden's plan for net-zero emissions would instantly shut down all fracking and all mining immediately in Pennsylvania.<br>Rating: 1\",\"President Joe Biden said, I know you all know there\\u2019s no climate problem, proving that people have been lying for decades about climate change.<br>Rating: 1\",\"Biden\\u2019s Speech Minimizes Historic US Greenhouse Contribution<br>Rating: 2\",\"Says Joe Biden will redirect the $30 billion that Donald Trump left for U.S. farmers to \\u2018climate change.\\u2019<br>Rating: 2\"],\"marker\":{\"color\":[\"blue\",\"red\",\"red\",\"red\",\"red\",\"red\",\"orange\",\"red\",\"red\",\"orange\",\"orange\",\"orange\",\"red\",\"red\",\"orange\",\"red\",\"red\",\"red\",\"red\",\"orange\",\"orange\"],\"size\":[20,15,10,10,15,10,15,10,10,10,10,15,10,10,10,10,10,10,15,10,10]},\"mode\":\"markers\",\"x\":[0,1,1,1,2,2,3,3,3,3,3,4,4,4,4,4,4,4,5,5,5],\"y\":[0,0,-1,-2,0,-1,0,-1,-2,-3,-4,0,-1,-2,-3,-4,-5,-6,0,-1,-2],\"type\":\"scatter\"}],                        {\"template\":{\"data\":{\"histogram2dcontour\":[{\"type\":\"histogram2dcontour\",\"colorbar\":{\"outlinewidth\":0,\"ticks\":\"\"},\"colorscale\":[[0.0,\"#0d0887\"],[0.1111111111111111,\"#46039f\"],[0.2222222222222222,\"#7201a8\"],[0.3333333333333333,\"#9c179e\"],[0.4444444444444444,\"#bd3786\"],[0.5555555555555556,\"#d8576b\"],[0.6666666666666666,\"#ed7953\"],[0.7777777777777778,\"#fb9f3a\"],[0.8888888888888888,\"#fdca26\"],[1.0,\"#f0f921\"]]}],\"choropleth\":[{\"type\":\"choropleth\",\"colorbar\":{\"outlinewidth\":0,\"ticks\":\"\"}}],\"histogram2d\":[{\"type\":\"histogram2d\",\"colorbar\":{\"outlinewidth\":0,\"ticks\":\"\"},\"colorscale\":[[0.0,\"#0d0887\"],[0.1111111111111111,\"#46039f\"],[0.2222222222222222,\"#7201a8\"],[0.3333333333333333,\"#9c179e\"],[0.4444444444444444,\"#bd3786\"],[0.5555555555555556,\"#d8576b\"],[0.6666666666666666,\"#ed7953\"],[0.7777777777777778,\"#fb9f3a\"],[0.8888888888888888,\"#fdca26\"],[1.0,\"#f0f921\"]]}],\"heatmap\":[{\"type\":\"heatmap\",\"colorbar\":{\"outlinewidth\":0,\"ticks\":\"\"},\"colorscale\":[[0.0,\"#0d0887\"],[0.1111111111111111,\"#46039f\"],[0.2222222222222222,\"#7201a8\"],[0.3333333333333333,\"#9c179e\"],[0.4444444444444444,\"#bd3786\"],[0.5555555555555556,\"#d8576b\"],[0.6666666666666666,\"#ed7953\"],[0.7777777777777778,\"#fb9f3a\"],[0.8888888888888888,\"#fdca26\"],[1.0,\"#f0f921\"]]}],\"heatmapgl\":[{\"type\":\"heatmapgl\",\"colorbar\":{\"outlinewidth\":0,\"ticks\":\"\"},\"colorscale\":[[0.0,\"#0d0887\"],[0.1111111111111111,\"#46039f\"],[0.2222222222222222,\"#7201a8\"],[0.3333333333333333,\"#9c179e\"],[0.4444444444444444,\"#bd3786\"],[0.5555555555555556,\"#d8576b\"],[0.6666666666666666,\"#ed7953\"],[0.7777777777777778,\"#fb9f3a\"],[0.8888888888888888,\"#fdca26\"],[1.0,\"#f0f921\"]]}],\"contourcarpet\":[{\"type\":\"contourcarpet\",\"colorbar\":{\"outlinewidth\":0,\"ticks\":\"\"}}],\"contour\":[{\"type\":\"contour\",\"colorbar\":{\"outlinewidth\":0,\"ticks\":\"\"},\"colorscale\":[[0.0,\"#0d0887\"],[0.1111111111111111,\"#46039f\"],[0.2222222222222222,\"#7201a8\"],[0.3333333333333333,\"#9c179e\"],[0.4444444444444444,\"#bd3786\"],[0.5555555555555556,\"#d8576b\"],[0.6666666666666666,\"#ed7953\"],[0.7777777777777778,\"#fb9f3a\"],[0.8888888888888888,\"#fdca26\"],[1.0,\"#f0f921\"]]}],\"surface\":[{\"type\":\"surface\",\"colorbar\":{\"outlinewidth\":0,\"ticks\":\"\"},\"colorscale\":[[0.0,\"#0d0887\"],[0.1111111111111111,\"#46039f\"],[0.2222222222222222,\"#7201a8\"],[0.3333333333333333,\"#9c179e\"],[0.4444444444444444,\"#bd3786\"],[0.5555555555555556,\"#d8576b\"],[0.6666666666666666,\"#ed7953\"],[0.7777777777777778,\"#fb9f3a\"],[0.8888888888888888,\"#fdca26\"],[1.0,\"#f0f921\"]]}],\"mesh3d\":[{\"type\":\"mesh3d\",\"colorbar\":{\"outlinewidth\":0,\"ticks\":\"\"}}],\"scatter\":[{\"fillpattern\":{\"fillmode\":\"overlay\",\"size\":10,\"solidity\":0.2},\"type\":\"scatter\"}],\"parcoords\":[{\"type\":\"parcoords\",\"line\":{\"colorbar\":{\"outlinewidth\":0,\"ticks\":\"\"}}}],\"scatterpolargl\":[{\"type\":\"scatterpolargl\",\"marker\":{\"colorbar\":{\"outlinewidth\":0,\"ticks\":\"\"}}}],\"bar\":[{\"error_x\":{\"color\":\"#2a3f5f\"},\"error_y\":{\"color\":\"#2a3f5f\"},\"marker\":{\"line\":{\"color\":\"#E5ECF6\",\"width\":0.5},\"pattern\":{\"fillmode\":\"overlay\",\"size\":10,\"solidity\":0.2}},\"type\":\"bar\"}],\"scattergeo\":[{\"type\":\"scattergeo\",\"marker\":{\"colorbar\":{\"outlinewidth\":0,\"ticks\":\"\"}}}],\"scatterpolar\":[{\"type\":\"scatterpolar\",\"marker\":{\"colorbar\":{\"outlinewidth\":0,\"ticks\":\"\"}}}],\"histogram\":[{\"marker\":{\"pattern\":{\"fillmode\":\"overlay\",\"size\":10,\"solidity\":0.2}},\"type\":\"histogram\"}],\"scattergl\":[{\"type\":\"scattergl\",\"marker\":{\"colorbar\":{\"outlinewidth\":0,\"ticks\":\"\"}}}],\"scatter3d\":[{\"type\":\"scatter3d\",\"line\":{\"colorbar\":{\"outlinewidth\":0,\"ticks\":\"\"}},\"marker\":{\"colorbar\":{\"outlinewidth\":0,\"ticks\":\"\"}}}],\"scattermapbox\":[{\"type\":\"scattermapbox\",\"marker\":{\"colorbar\":{\"outlinewidth\":0,\"ticks\":\"\"}}}],\"scatterternary\":[{\"type\":\"scatterternary\",\"marker\":{\"colorbar\":{\"outlinewidth\":0,\"ticks\":\"\"}}}],\"scattercarpet\":[{\"type\":\"scattercarpet\",\"marker\":{\"colorbar\":{\"outlinewidth\":0,\"ticks\":\"\"}}}],\"carpet\":[{\"aaxis\":{\"endlinecolor\":\"#2a3f5f\",\"gridcolor\":\"white\",\"linecolor\":\"white\",\"minorgridcolor\":\"white\",\"startlinecolor\":\"#2a3f5f\"},\"baxis\":{\"endlinecolor\":\"#2a3f5f\",\"gridcolor\":\"white\",\"linecolor\":\"white\",\"minorgridcolor\":\"white\",\"startlinecolor\":\"#2a3f5f\"},\"type\":\"carpet\"}],\"table\":[{\"cells\":{\"fill\":{\"color\":\"#EBF0F8\"},\"line\":{\"color\":\"white\"}},\"header\":{\"fill\":{\"color\":\"#C8D4E3\"},\"line\":{\"color\":\"white\"}},\"type\":\"table\"}],\"barpolar\":[{\"marker\":{\"line\":{\"color\":\"#E5ECF6\",\"width\":0.5},\"pattern\":{\"fillmode\":\"overlay\",\"size\":10,\"solidity\":0.2}},\"type\":\"barpolar\"}],\"pie\":[{\"automargin\":true,\"type\":\"pie\"}]},\"layout\":{\"autotypenumbers\":\"strict\",\"colorway\":[\"#636efa\",\"#EF553B\",\"#00cc96\",\"#ab63fa\",\"#FFA15A\",\"#19d3f3\",\"#FF6692\",\"#B6E880\",\"#FF97FF\",\"#FECB52\"],\"font\":{\"color\":\"#2a3f5f\"},\"hovermode\":\"closest\",\"hoverlabel\":{\"align\":\"left\"},\"paper_bgcolor\":\"white\",\"plot_bgcolor\":\"#E5ECF6\",\"polar\":{\"bgcolor\":\"#E5ECF6\",\"angularaxis\":{\"gridcolor\":\"white\",\"linecolor\":\"white\",\"ticks\":\"\"},\"radialaxis\":{\"gridcolor\":\"white\",\"linecolor\":\"white\",\"ticks\":\"\"}},\"ternary\":{\"bgcolor\":\"#E5ECF6\",\"aaxis\":{\"gridcolor\":\"white\",\"linecolor\":\"white\",\"ticks\":\"\"},\"baxis\":{\"gridcolor\":\"white\",\"linecolor\":\"white\",\"ticks\":\"\"},\"caxis\":{\"gridcolor\":\"white\",\"linecolor\":\"white\",\"ticks\":\"\"}},\"coloraxis\":{\"colorbar\":{\"outlinewidth\":0,\"ticks\":\"\"}},\"colorscale\":{\"sequential\":[[0.0,\"#0d0887\"],[0.1111111111111111,\"#46039f\"],[0.2222222222222222,\"#7201a8\"],[0.3333333333333333,\"#9c179e\"],[0.4444444444444444,\"#bd3786\"],[0.5555555555555556,\"#d8576b\"],[0.6666666666666666,\"#ed7953\"],[0.7777777777777778,\"#fb9f3a\"],[0.8888888888888888,\"#fdca26\"],[1.0,\"#f0f921\"]],\"sequentialminus\":[[0.0,\"#0d0887\"],[0.1111111111111111,\"#46039f\"],[0.2222222222222222,\"#7201a8\"],[0.3333333333333333,\"#9c179e\"],[0.4444444444444444,\"#bd3786\"],[0.5555555555555556,\"#d8576b\"],[0.6666666666666666,\"#ed7953\"],[0.7777777777777778,\"#fb9f3a\"],[0.8888888888888888,\"#fdca26\"],[1.0,\"#f0f921\"]],\"diverging\":[[0,\"#8e0152\"],[0.1,\"#c51b7d\"],[0.2,\"#de77ae\"],[0.3,\"#f1b6da\"],[0.4,\"#fde0ef\"],[0.5,\"#f7f7f7\"],[0.6,\"#e6f5d0\"],[0.7,\"#b8e186\"],[0.8,\"#7fbc41\"],[0.9,\"#4d9221\"],[1,\"#276419\"]]},\"xaxis\":{\"gridcolor\":\"white\",\"linecolor\":\"white\",\"ticks\":\"\",\"title\":{\"standoff\":15},\"zerolinecolor\":\"white\",\"automargin\":true,\"zerolinewidth\":2},\"yaxis\":{\"gridcolor\":\"white\",\"linecolor\":\"white\",\"ticks\":\"\",\"title\":{\"standoff\":15},\"zerolinecolor\":\"white\",\"automargin\":true,\"zerolinewidth\":2},\"scene\":{\"xaxis\":{\"backgroundcolor\":\"#E5ECF6\",\"gridcolor\":\"white\",\"linecolor\":\"white\",\"showbackground\":true,\"ticks\":\"\",\"zerolinecolor\":\"white\",\"gridwidth\":2},\"yaxis\":{\"backgroundcolor\":\"#E5ECF6\",\"gridcolor\":\"white\",\"linecolor\":\"white\",\"showbackground\":true,\"ticks\":\"\",\"zerolinecolor\":\"white\",\"gridwidth\":2},\"zaxis\":{\"backgroundcolor\":\"#E5ECF6\",\"gridcolor\":\"white\",\"linecolor\":\"white\",\"showbackground\":true,\"ticks\":\"\",\"zerolinecolor\":\"white\",\"gridwidth\":2}},\"shapedefaults\":{\"line\":{\"color\":\"#2a3f5f\"}},\"annotationdefaults\":{\"arrowcolor\":\"#2a3f5f\",\"arrowhead\":0,\"arrowwidth\":1},\"geo\":{\"bgcolor\":\"white\",\"landcolor\":\"#E5ECF6\",\"subunitcolor\":\"white\",\"showland\":true,\"showlakes\":true,\"lakecolor\":\"white\"},\"title\":{\"x\":0.05},\"mapbox\":{\"style\":\"light\"}}},\"shapes\":[{\"line\":{\"color\":\"black\",\"width\":1},\"type\":\"line\",\"x0\":0,\"x1\":1,\"y0\":0,\"y1\":0},{\"line\":{\"color\":\"black\",\"width\":1},\"type\":\"line\",\"x0\":1,\"x1\":1,\"y0\":0,\"y1\":-1},{\"line\":{\"color\":\"black\",\"width\":1},\"type\":\"line\",\"x0\":1,\"x1\":1,\"y0\":0,\"y1\":-2},{\"line\":{\"color\":\"black\",\"width\":1},\"type\":\"line\",\"x0\":0,\"x1\":2,\"y0\":0,\"y1\":0},{\"line\":{\"color\":\"black\",\"width\":1},\"type\":\"line\",\"x0\":2,\"x1\":2,\"y0\":0,\"y1\":-1},{\"line\":{\"color\":\"black\",\"width\":1},\"type\":\"line\",\"x0\":0,\"x1\":3,\"y0\":0,\"y1\":0},{\"line\":{\"color\":\"black\",\"width\":1},\"type\":\"line\",\"x0\":3,\"x1\":3,\"y0\":0,\"y1\":-1},{\"line\":{\"color\":\"black\",\"width\":1},\"type\":\"line\",\"x0\":3,\"x1\":3,\"y0\":0,\"y1\":-2},{\"line\":{\"color\":\"black\",\"width\":1},\"type\":\"line\",\"x0\":3,\"x1\":3,\"y0\":0,\"y1\":-3},{\"line\":{\"color\":\"black\",\"width\":1},\"type\":\"line\",\"x0\":3,\"x1\":3,\"y0\":0,\"y1\":-4},{\"line\":{\"color\":\"black\",\"width\":1},\"type\":\"line\",\"x0\":0,\"x1\":4,\"y0\":0,\"y1\":0},{\"line\":{\"color\":\"black\",\"width\":1},\"type\":\"line\",\"x0\":4,\"x1\":4,\"y0\":0,\"y1\":-1},{\"line\":{\"color\":\"black\",\"width\":1},\"type\":\"line\",\"x0\":4,\"x1\":4,\"y0\":0,\"y1\":-2},{\"line\":{\"color\":\"black\",\"width\":1},\"type\":\"line\",\"x0\":4,\"x1\":4,\"y0\":0,\"y1\":-3},{\"line\":{\"color\":\"black\",\"width\":1},\"type\":\"line\",\"x0\":4,\"x1\":4,\"y0\":0,\"y1\":-4},{\"line\":{\"color\":\"black\",\"width\":1},\"type\":\"line\",\"x0\":4,\"x1\":4,\"y0\":0,\"y1\":-5},{\"line\":{\"color\":\"black\",\"width\":1},\"type\":\"line\",\"x0\":4,\"x1\":4,\"y0\":0,\"y1\":-6},{\"line\":{\"color\":\"black\",\"width\":1},\"type\":\"line\",\"x0\":0,\"x1\":5,\"y0\":0,\"y1\":0},{\"line\":{\"color\":\"black\",\"width\":1},\"type\":\"line\",\"x0\":5,\"x1\":5,\"y0\":0,\"y1\":-1},{\"line\":{\"color\":\"black\",\"width\":1},\"type\":\"line\",\"x0\":5,\"x1\":5,\"y0\":0,\"y1\":-2}],\"xaxis\":{\"showgrid\":false,\"zeroline\":false,\"showticklabels\":false},\"yaxis\":{\"showgrid\":false,\"zeroline\":false,\"showticklabels\":false},\"margin\":{\"l\":20,\"r\":20,\"t\":40,\"b\":20},\"title\":{\"text\":\"Context: Biden Topic: Climate\"},\"hovermode\":\"closest\"},                        {\"responsive\": true}                    ).then(function(){\n",
       "                            \n",
       "var gd = document.getElementById('3f0a9909-4825-4069-877e-df3c25351611');\n",
       "var x = new MutationObserver(function (mutations, observer) {{\n",
       "        var display = window.getComputedStyle(gd).display;\n",
       "        if (!display || display === 'none') {{\n",
       "            console.log([gd, 'removed!']);\n",
       "            Plotly.purge(gd);\n",
       "            observer.disconnect();\n",
       "        }}\n",
       "}});\n",
       "\n",
       "// Listen for the removal of the full notebook cells\n",
       "var notebookContainer = gd.closest('#notebook-container');\n",
       "if (notebookContainer) {{\n",
       "    x.observe(notebookContainer, {childList: true});\n",
       "}}\n",
       "\n",
       "// Listen for the clearing of the current output cell\n",
       "var outputEl = gd.closest('.output');\n",
       "if (outputEl) {{\n",
       "    x.observe(outputEl, {childList: true});\n",
       "}}\n",
       "\n",
       "                        })                };                });            </script>        </div>"
      ]
     },
     "metadata": {},
     "output_type": "display_data"
    }
   ],
   "source": [
    "import plotly.graph_objects as go\n",
    "import pandas as pd\n",
    "\n",
    "# Sample DataFrame, replace with your actual data\n",
    "# data = {\n",
    "#     'text': ['Sentence 1', 'Sentence 2'],\n",
    "#     'rating_value': [1, 2],  # Updated from rating_label to rating_value\n",
    "#     'similar_phrases': [['Phrase 1.1', 'Phrase 1.2'], ['Phrase 2.1']],\n",
    "#     'similar_ratings': [[1, 2], [3]]\n",
    "# }\n",
    "# df = pd.DataFrame(data)\n",
    "\n",
    "# Define a function to get color based on rating\n",
    "def get_color(rating):\n",
    "    if rating == 1:\n",
    "        return 'red'\n",
    "    elif rating == 2:\n",
    "        return 'orange'\n",
    "    else:\n",
    "        return 'green'\n",
    "\n",
    "# Initialize variables for nodes\n",
    "x_nodes = []\n",
    "y_nodes = []\n",
    "hover_texts = []\n",
    "node_colors = []\n",
    "node_sizes = []\n",
    "\n",
    "# Add the root node\n",
    "x_nodes.append(0)\n",
    "y_nodes.append(0)\n",
    "hover_texts.append('ROOT<br>Rating: -')\n",
    "node_colors.append('blue')\n",
    "node_sizes.append(20)\n",
    "\n",
    "# Set positions for sentence and phrase nodes\n",
    "for index, row in df.iterrows():\n",
    "    x_nodes.append(index + 1)\n",
    "    y_nodes.append(0)\n",
    "    hover_texts.append(f\"{row['text']}<br>Rating: {row['rating_value']}\")  # Updated to rating_value\n",
    "    node_colors.append(get_color(row['rating_value']))  # Updated to rating_value\n",
    "    node_sizes.append(15)\n",
    "\n",
    "    y_phrase = -1\n",
    "    for phrase, rating in zip(row['similar_phrases'], row['similar_ratings']):\n",
    "        x_nodes.append(index + 1)\n",
    "        y_nodes.append(y_phrase)\n",
    "        hover_texts.append(f\"{phrase}<br>Rating: {rating}\")\n",
    "        node_colors.append(get_color(rating))\n",
    "        node_sizes.append(10)\n",
    "        y_phrase -= 1\n",
    "\n",
    "# Create the figure\n",
    "fig = go.Figure()\n",
    "\n",
    "# Add traces for nodes\n",
    "fig.add_trace(go.Scatter(x=x_nodes, y=y_nodes, mode='markers', \n",
    "                         hoverinfo='text', hovertext=hover_texts,\n",
    "                         marker=dict(color=node_colors, size=node_sizes)))\n",
    "\n",
    "# Add lines for edges\n",
    "for i in range(len(df)):\n",
    "    # Connect sentence to root\n",
    "    fig.add_shape(type='line', x0=0, y0=0, x1=i+1, y1=0, line=dict(color='black', width=1))\n",
    "\n",
    "    # Connect phrases to their sentence\n",
    "    for j in range(len(df.at[i, 'similar_phrases'])):\n",
    "        fig.add_shape(type='line', x0=i+1, y0=0, x1=i+1, y1=-j-1, line=dict(color='black', width=1))\n",
    "\n",
    "# Update layout\n",
    "fig.update_layout(title=\"Context: Biden Topic: Climate\", hovermode='closest',\n",
    "                  xaxis=dict(showgrid=False, zeroline=False, showticklabels=False),\n",
    "                  yaxis=dict(showgrid=False, zeroline=False, showticklabels=False),\n",
    "                  margin=dict(l=20, r=20, t=40, b=20))\n",
    "\n",
    "# Show figure\n",
    "fig.show()\n"
   ]
  },
  {
   "cell_type": "code",
   "execution_count": 8,
   "id": "bfd7dfb8-8a31-492e-9f7e-15b4732fa2dd",
   "metadata": {},
   "outputs": [
    {
     "ename": "FileNotFoundError",
     "evalue": "[Errno 2] No such file or directory: 'narratives.csv'",
     "output_type": "error",
     "traceback": [
      "\u001b[0;31m---------------------------------------------------------------------------\u001b[0m",
      "\u001b[0;31mFileNotFoundError\u001b[0m                         Traceback (most recent call last)",
      "Input \u001b[0;32mIn [8]\u001b[0m, in \u001b[0;36m<cell line: 7>\u001b[0;34m()\u001b[0m\n\u001b[1;32m      3\u001b[0m \u001b[38;5;28;01mimport\u001b[39;00m \u001b[38;5;21;01mre\u001b[39;00m  \u001b[38;5;66;03m# Import regex library\u001b[39;00m\n\u001b[1;32m      5\u001b[0m \u001b[38;5;66;03m# ... [Your DataFrame creation code here] ...\u001b[39;00m\n\u001b[0;32m----> 7\u001b[0m narrative_labels_df \u001b[38;5;241m=\u001b[39m \u001b[43mpd\u001b[49m\u001b[38;5;241;43m.\u001b[39;49m\u001b[43mread_csv\u001b[49m\u001b[43m(\u001b[49m\u001b[38;5;124;43m'\u001b[39;49m\u001b[38;5;124;43mnarratives.csv\u001b[39;49m\u001b[38;5;124;43m'\u001b[39;49m\u001b[43m)\u001b[49m\n\u001b[1;32m      8\u001b[0m \u001b[38;5;66;03m# Use regex to remove quotation marks\u001b[39;00m\n\u001b[1;32m      9\u001b[0m narrative_labels \u001b[38;5;241m=\u001b[39m [re\u001b[38;5;241m.\u001b[39msub(\u001b[38;5;124mr\u001b[39m\u001b[38;5;124m'\u001b[39m\u001b[38;5;124m\"\u001b[39m\u001b[38;5;124m'\u001b[39m, \u001b[38;5;124m'\u001b[39m\u001b[38;5;124m'\u001b[39m, label) \u001b[38;5;28;01mfor\u001b[39;00m label \u001b[38;5;129;01min\u001b[39;00m narrative_labels_df[\u001b[38;5;124m'\u001b[39m\u001b[38;5;124mSuper Label\u001b[39m\u001b[38;5;124m'\u001b[39m]\u001b[38;5;241m.\u001b[39mtolist()]\n",
      "File \u001b[0;32m/cvmfs/sys.hpc.itc.rwth-aachen.de/jupyter/clients/ipython/lib/python3.9/site-packages/pandas/util/_decorators.py:211\u001b[0m, in \u001b[0;36mdeprecate_kwarg.<locals>._deprecate_kwarg.<locals>.wrapper\u001b[0;34m(*args, **kwargs)\u001b[0m\n\u001b[1;32m    209\u001b[0m     \u001b[38;5;28;01melse\u001b[39;00m:\n\u001b[1;32m    210\u001b[0m         kwargs[new_arg_name] \u001b[38;5;241m=\u001b[39m new_arg_value\n\u001b[0;32m--> 211\u001b[0m \u001b[38;5;28;01mreturn\u001b[39;00m \u001b[43mfunc\u001b[49m\u001b[43m(\u001b[49m\u001b[38;5;241;43m*\u001b[39;49m\u001b[43margs\u001b[49m\u001b[43m,\u001b[49m\u001b[43m \u001b[49m\u001b[38;5;241;43m*\u001b[39;49m\u001b[38;5;241;43m*\u001b[39;49m\u001b[43mkwargs\u001b[49m\u001b[43m)\u001b[49m\n",
      "File \u001b[0;32m/cvmfs/sys.hpc.itc.rwth-aachen.de/jupyter/clients/ipython/lib/python3.9/site-packages/pandas/util/_decorators.py:317\u001b[0m, in \u001b[0;36mdeprecate_nonkeyword_arguments.<locals>.decorate.<locals>.wrapper\u001b[0;34m(*args, **kwargs)\u001b[0m\n\u001b[1;32m    311\u001b[0m \u001b[38;5;28;01mif\u001b[39;00m \u001b[38;5;28mlen\u001b[39m(args) \u001b[38;5;241m>\u001b[39m num_allow_args:\n\u001b[1;32m    312\u001b[0m     warnings\u001b[38;5;241m.\u001b[39mwarn(\n\u001b[1;32m    313\u001b[0m         msg\u001b[38;5;241m.\u001b[39mformat(arguments\u001b[38;5;241m=\u001b[39marguments),\n\u001b[1;32m    314\u001b[0m         \u001b[38;5;167;01mFutureWarning\u001b[39;00m,\n\u001b[1;32m    315\u001b[0m         stacklevel\u001b[38;5;241m=\u001b[39mfind_stack_level(inspect\u001b[38;5;241m.\u001b[39mcurrentframe()),\n\u001b[1;32m    316\u001b[0m     )\n\u001b[0;32m--> 317\u001b[0m \u001b[38;5;28;01mreturn\u001b[39;00m \u001b[43mfunc\u001b[49m\u001b[43m(\u001b[49m\u001b[38;5;241;43m*\u001b[39;49m\u001b[43margs\u001b[49m\u001b[43m,\u001b[49m\u001b[43m \u001b[49m\u001b[38;5;241;43m*\u001b[39;49m\u001b[38;5;241;43m*\u001b[39;49m\u001b[43mkwargs\u001b[49m\u001b[43m)\u001b[49m\n",
      "File \u001b[0;32m/cvmfs/sys.hpc.itc.rwth-aachen.de/jupyter/clients/ipython/lib/python3.9/site-packages/pandas/io/parsers/readers.py:950\u001b[0m, in \u001b[0;36mread_csv\u001b[0;34m(filepath_or_buffer, sep, delimiter, header, names, index_col, usecols, squeeze, prefix, mangle_dupe_cols, dtype, engine, converters, true_values, false_values, skipinitialspace, skiprows, skipfooter, nrows, na_values, keep_default_na, na_filter, verbose, skip_blank_lines, parse_dates, infer_datetime_format, keep_date_col, date_parser, dayfirst, cache_dates, iterator, chunksize, compression, thousands, decimal, lineterminator, quotechar, quoting, doublequote, escapechar, comment, encoding, encoding_errors, dialect, error_bad_lines, warn_bad_lines, on_bad_lines, delim_whitespace, low_memory, memory_map, float_precision, storage_options)\u001b[0m\n\u001b[1;32m    935\u001b[0m kwds_defaults \u001b[38;5;241m=\u001b[39m _refine_defaults_read(\n\u001b[1;32m    936\u001b[0m     dialect,\n\u001b[1;32m    937\u001b[0m     delimiter,\n\u001b[0;32m   (...)\u001b[0m\n\u001b[1;32m    946\u001b[0m     defaults\u001b[38;5;241m=\u001b[39m{\u001b[38;5;124m\"\u001b[39m\u001b[38;5;124mdelimiter\u001b[39m\u001b[38;5;124m\"\u001b[39m: \u001b[38;5;124m\"\u001b[39m\u001b[38;5;124m,\u001b[39m\u001b[38;5;124m\"\u001b[39m},\n\u001b[1;32m    947\u001b[0m )\n\u001b[1;32m    948\u001b[0m kwds\u001b[38;5;241m.\u001b[39mupdate(kwds_defaults)\n\u001b[0;32m--> 950\u001b[0m \u001b[38;5;28;01mreturn\u001b[39;00m \u001b[43m_read\u001b[49m\u001b[43m(\u001b[49m\u001b[43mfilepath_or_buffer\u001b[49m\u001b[43m,\u001b[49m\u001b[43m \u001b[49m\u001b[43mkwds\u001b[49m\u001b[43m)\u001b[49m\n",
      "File \u001b[0;32m/cvmfs/sys.hpc.itc.rwth-aachen.de/jupyter/clients/ipython/lib/python3.9/site-packages/pandas/io/parsers/readers.py:605\u001b[0m, in \u001b[0;36m_read\u001b[0;34m(filepath_or_buffer, kwds)\u001b[0m\n\u001b[1;32m    602\u001b[0m _validate_names(kwds\u001b[38;5;241m.\u001b[39mget(\u001b[38;5;124m\"\u001b[39m\u001b[38;5;124mnames\u001b[39m\u001b[38;5;124m\"\u001b[39m, \u001b[38;5;28;01mNone\u001b[39;00m))\n\u001b[1;32m    604\u001b[0m \u001b[38;5;66;03m# Create the parser.\u001b[39;00m\n\u001b[0;32m--> 605\u001b[0m parser \u001b[38;5;241m=\u001b[39m \u001b[43mTextFileReader\u001b[49m\u001b[43m(\u001b[49m\u001b[43mfilepath_or_buffer\u001b[49m\u001b[43m,\u001b[49m\u001b[43m \u001b[49m\u001b[38;5;241;43m*\u001b[39;49m\u001b[38;5;241;43m*\u001b[39;49m\u001b[43mkwds\u001b[49m\u001b[43m)\u001b[49m\n\u001b[1;32m    607\u001b[0m \u001b[38;5;28;01mif\u001b[39;00m chunksize \u001b[38;5;129;01mor\u001b[39;00m iterator:\n\u001b[1;32m    608\u001b[0m     \u001b[38;5;28;01mreturn\u001b[39;00m parser\n",
      "File \u001b[0;32m/cvmfs/sys.hpc.itc.rwth-aachen.de/jupyter/clients/ipython/lib/python3.9/site-packages/pandas/io/parsers/readers.py:1442\u001b[0m, in \u001b[0;36mTextFileReader.__init__\u001b[0;34m(self, f, engine, **kwds)\u001b[0m\n\u001b[1;32m   1439\u001b[0m     \u001b[38;5;28mself\u001b[39m\u001b[38;5;241m.\u001b[39moptions[\u001b[38;5;124m\"\u001b[39m\u001b[38;5;124mhas_index_names\u001b[39m\u001b[38;5;124m\"\u001b[39m] \u001b[38;5;241m=\u001b[39m kwds[\u001b[38;5;124m\"\u001b[39m\u001b[38;5;124mhas_index_names\u001b[39m\u001b[38;5;124m\"\u001b[39m]\n\u001b[1;32m   1441\u001b[0m \u001b[38;5;28mself\u001b[39m\u001b[38;5;241m.\u001b[39mhandles: IOHandles \u001b[38;5;241m|\u001b[39m \u001b[38;5;28;01mNone\u001b[39;00m \u001b[38;5;241m=\u001b[39m \u001b[38;5;28;01mNone\u001b[39;00m\n\u001b[0;32m-> 1442\u001b[0m \u001b[38;5;28mself\u001b[39m\u001b[38;5;241m.\u001b[39m_engine \u001b[38;5;241m=\u001b[39m \u001b[38;5;28;43mself\u001b[39;49m\u001b[38;5;241;43m.\u001b[39;49m\u001b[43m_make_engine\u001b[49m\u001b[43m(\u001b[49m\u001b[43mf\u001b[49m\u001b[43m,\u001b[49m\u001b[43m \u001b[49m\u001b[38;5;28;43mself\u001b[39;49m\u001b[38;5;241;43m.\u001b[39;49m\u001b[43mengine\u001b[49m\u001b[43m)\u001b[49m\n",
      "File \u001b[0;32m/cvmfs/sys.hpc.itc.rwth-aachen.de/jupyter/clients/ipython/lib/python3.9/site-packages/pandas/io/parsers/readers.py:1729\u001b[0m, in \u001b[0;36mTextFileReader._make_engine\u001b[0;34m(self, f, engine)\u001b[0m\n\u001b[1;32m   1727\u001b[0m     is_text \u001b[38;5;241m=\u001b[39m \u001b[38;5;28;01mFalse\u001b[39;00m\n\u001b[1;32m   1728\u001b[0m     mode \u001b[38;5;241m=\u001b[39m \u001b[38;5;124m\"\u001b[39m\u001b[38;5;124mrb\u001b[39m\u001b[38;5;124m\"\u001b[39m\n\u001b[0;32m-> 1729\u001b[0m \u001b[38;5;28mself\u001b[39m\u001b[38;5;241m.\u001b[39mhandles \u001b[38;5;241m=\u001b[39m \u001b[43mget_handle\u001b[49m\u001b[43m(\u001b[49m\n\u001b[1;32m   1730\u001b[0m \u001b[43m    \u001b[49m\u001b[43mf\u001b[49m\u001b[43m,\u001b[49m\n\u001b[1;32m   1731\u001b[0m \u001b[43m    \u001b[49m\u001b[43mmode\u001b[49m\u001b[43m,\u001b[49m\n\u001b[1;32m   1732\u001b[0m \u001b[43m    \u001b[49m\u001b[43mencoding\u001b[49m\u001b[38;5;241;43m=\u001b[39;49m\u001b[38;5;28;43mself\u001b[39;49m\u001b[38;5;241;43m.\u001b[39;49m\u001b[43moptions\u001b[49m\u001b[38;5;241;43m.\u001b[39;49m\u001b[43mget\u001b[49m\u001b[43m(\u001b[49m\u001b[38;5;124;43m\"\u001b[39;49m\u001b[38;5;124;43mencoding\u001b[39;49m\u001b[38;5;124;43m\"\u001b[39;49m\u001b[43m,\u001b[49m\u001b[43m \u001b[49m\u001b[38;5;28;43;01mNone\u001b[39;49;00m\u001b[43m)\u001b[49m\u001b[43m,\u001b[49m\n\u001b[1;32m   1733\u001b[0m \u001b[43m    \u001b[49m\u001b[43mcompression\u001b[49m\u001b[38;5;241;43m=\u001b[39;49m\u001b[38;5;28;43mself\u001b[39;49m\u001b[38;5;241;43m.\u001b[39;49m\u001b[43moptions\u001b[49m\u001b[38;5;241;43m.\u001b[39;49m\u001b[43mget\u001b[49m\u001b[43m(\u001b[49m\u001b[38;5;124;43m\"\u001b[39;49m\u001b[38;5;124;43mcompression\u001b[39;49m\u001b[38;5;124;43m\"\u001b[39;49m\u001b[43m,\u001b[49m\u001b[43m \u001b[49m\u001b[38;5;28;43;01mNone\u001b[39;49;00m\u001b[43m)\u001b[49m\u001b[43m,\u001b[49m\n\u001b[1;32m   1734\u001b[0m \u001b[43m    \u001b[49m\u001b[43mmemory_map\u001b[49m\u001b[38;5;241;43m=\u001b[39;49m\u001b[38;5;28;43mself\u001b[39;49m\u001b[38;5;241;43m.\u001b[39;49m\u001b[43moptions\u001b[49m\u001b[38;5;241;43m.\u001b[39;49m\u001b[43mget\u001b[49m\u001b[43m(\u001b[49m\u001b[38;5;124;43m\"\u001b[39;49m\u001b[38;5;124;43mmemory_map\u001b[39;49m\u001b[38;5;124;43m\"\u001b[39;49m\u001b[43m,\u001b[49m\u001b[43m \u001b[49m\u001b[38;5;28;43;01mFalse\u001b[39;49;00m\u001b[43m)\u001b[49m\u001b[43m,\u001b[49m\n\u001b[1;32m   1735\u001b[0m \u001b[43m    \u001b[49m\u001b[43mis_text\u001b[49m\u001b[38;5;241;43m=\u001b[39;49m\u001b[43mis_text\u001b[49m\u001b[43m,\u001b[49m\n\u001b[1;32m   1736\u001b[0m \u001b[43m    \u001b[49m\u001b[43merrors\u001b[49m\u001b[38;5;241;43m=\u001b[39;49m\u001b[38;5;28;43mself\u001b[39;49m\u001b[38;5;241;43m.\u001b[39;49m\u001b[43moptions\u001b[49m\u001b[38;5;241;43m.\u001b[39;49m\u001b[43mget\u001b[49m\u001b[43m(\u001b[49m\u001b[38;5;124;43m\"\u001b[39;49m\u001b[38;5;124;43mencoding_errors\u001b[39;49m\u001b[38;5;124;43m\"\u001b[39;49m\u001b[43m,\u001b[49m\u001b[43m \u001b[49m\u001b[38;5;124;43m\"\u001b[39;49m\u001b[38;5;124;43mstrict\u001b[39;49m\u001b[38;5;124;43m\"\u001b[39;49m\u001b[43m)\u001b[49m\u001b[43m,\u001b[49m\n\u001b[1;32m   1737\u001b[0m \u001b[43m    \u001b[49m\u001b[43mstorage_options\u001b[49m\u001b[38;5;241;43m=\u001b[39;49m\u001b[38;5;28;43mself\u001b[39;49m\u001b[38;5;241;43m.\u001b[39;49m\u001b[43moptions\u001b[49m\u001b[38;5;241;43m.\u001b[39;49m\u001b[43mget\u001b[49m\u001b[43m(\u001b[49m\u001b[38;5;124;43m\"\u001b[39;49m\u001b[38;5;124;43mstorage_options\u001b[39;49m\u001b[38;5;124;43m\"\u001b[39;49m\u001b[43m,\u001b[49m\u001b[43m \u001b[49m\u001b[38;5;28;43;01mNone\u001b[39;49;00m\u001b[43m)\u001b[49m\u001b[43m,\u001b[49m\n\u001b[1;32m   1738\u001b[0m \u001b[43m\u001b[49m\u001b[43m)\u001b[49m\n\u001b[1;32m   1739\u001b[0m \u001b[38;5;28;01massert\u001b[39;00m \u001b[38;5;28mself\u001b[39m\u001b[38;5;241m.\u001b[39mhandles \u001b[38;5;129;01mis\u001b[39;00m \u001b[38;5;129;01mnot\u001b[39;00m \u001b[38;5;28;01mNone\u001b[39;00m\n\u001b[1;32m   1740\u001b[0m f \u001b[38;5;241m=\u001b[39m \u001b[38;5;28mself\u001b[39m\u001b[38;5;241m.\u001b[39mhandles\u001b[38;5;241m.\u001b[39mhandle\n",
      "File \u001b[0;32m/cvmfs/sys.hpc.itc.rwth-aachen.de/jupyter/clients/ipython/lib/python3.9/site-packages/pandas/io/common.py:857\u001b[0m, in \u001b[0;36mget_handle\u001b[0;34m(path_or_buf, mode, encoding, compression, memory_map, is_text, errors, storage_options)\u001b[0m\n\u001b[1;32m    852\u001b[0m \u001b[38;5;28;01melif\u001b[39;00m \u001b[38;5;28misinstance\u001b[39m(handle, \u001b[38;5;28mstr\u001b[39m):\n\u001b[1;32m    853\u001b[0m     \u001b[38;5;66;03m# Check whether the filename is to be opened in binary mode.\u001b[39;00m\n\u001b[1;32m    854\u001b[0m     \u001b[38;5;66;03m# Binary mode does not support 'encoding' and 'newline'.\u001b[39;00m\n\u001b[1;32m    855\u001b[0m     \u001b[38;5;28;01mif\u001b[39;00m ioargs\u001b[38;5;241m.\u001b[39mencoding \u001b[38;5;129;01mand\u001b[39;00m \u001b[38;5;124m\"\u001b[39m\u001b[38;5;124mb\u001b[39m\u001b[38;5;124m\"\u001b[39m \u001b[38;5;129;01mnot\u001b[39;00m \u001b[38;5;129;01min\u001b[39;00m ioargs\u001b[38;5;241m.\u001b[39mmode:\n\u001b[1;32m    856\u001b[0m         \u001b[38;5;66;03m# Encoding\u001b[39;00m\n\u001b[0;32m--> 857\u001b[0m         handle \u001b[38;5;241m=\u001b[39m \u001b[38;5;28;43mopen\u001b[39;49m\u001b[43m(\u001b[49m\n\u001b[1;32m    858\u001b[0m \u001b[43m            \u001b[49m\u001b[43mhandle\u001b[49m\u001b[43m,\u001b[49m\n\u001b[1;32m    859\u001b[0m \u001b[43m            \u001b[49m\u001b[43mioargs\u001b[49m\u001b[38;5;241;43m.\u001b[39;49m\u001b[43mmode\u001b[49m\u001b[43m,\u001b[49m\n\u001b[1;32m    860\u001b[0m \u001b[43m            \u001b[49m\u001b[43mencoding\u001b[49m\u001b[38;5;241;43m=\u001b[39;49m\u001b[43mioargs\u001b[49m\u001b[38;5;241;43m.\u001b[39;49m\u001b[43mencoding\u001b[49m\u001b[43m,\u001b[49m\n\u001b[1;32m    861\u001b[0m \u001b[43m            \u001b[49m\u001b[43merrors\u001b[49m\u001b[38;5;241;43m=\u001b[39;49m\u001b[43merrors\u001b[49m\u001b[43m,\u001b[49m\n\u001b[1;32m    862\u001b[0m \u001b[43m            \u001b[49m\u001b[43mnewline\u001b[49m\u001b[38;5;241;43m=\u001b[39;49m\u001b[38;5;124;43m\"\u001b[39;49m\u001b[38;5;124;43m\"\u001b[39;49m\u001b[43m,\u001b[49m\n\u001b[1;32m    863\u001b[0m \u001b[43m        \u001b[49m\u001b[43m)\u001b[49m\n\u001b[1;32m    864\u001b[0m     \u001b[38;5;28;01melse\u001b[39;00m:\n\u001b[1;32m    865\u001b[0m         \u001b[38;5;66;03m# Binary mode\u001b[39;00m\n\u001b[1;32m    866\u001b[0m         handle \u001b[38;5;241m=\u001b[39m \u001b[38;5;28mopen\u001b[39m(handle, ioargs\u001b[38;5;241m.\u001b[39mmode)\n",
      "\u001b[0;31mFileNotFoundError\u001b[0m: [Errno 2] No such file or directory: 'narratives.csv'"
     ]
    }
   ],
   "source": [
    "import plotly.graph_objects as go\n",
    "import pandas as pd\n",
    "import re  # Import regex library\n",
    "\n",
    "# ... [Your DataFrame creation code here] ...\n",
    "\n",
    "narrative_labels_df = pd.read_csv('narratives.csv')\n",
    "# Use regex to remove quotation marks\n",
    "narrative_labels = [re.sub(r'\"', '', label) for label in narrative_labels_df['Super Label'].tolist()]\n",
    "\n",
    "# Define a function to get color based on rating\n",
    "def get_color(rating):\n",
    "    if rating == 1:\n",
    "        return 'red'\n",
    "    elif rating == 2:\n",
    "        return 'orange'\n",
    "    else:\n",
    "        return 'green'\n",
    "\n",
    "# Initialize variables for nodes\n",
    "x_nodes = []\n",
    "y_nodes = []\n",
    "hover_texts = []\n",
    "node_colors = []\n",
    "node_sizes = []\n",
    "\n",
    "# Set positions for sentence and phrase nodes\n",
    "for index, row in df.iterrows():\n",
    "    y_nodes.append(index)  # y-coordinate\n",
    "    x_nodes.append(0)  # x-coordinate\n",
    "    hover_texts.append(f\"{row['text']}<br>Rating: {row['rating_value']}\")\n",
    "    node_colors.append(get_color(row['rating_value']))\n",
    "    node_sizes.append(15)\n",
    "\n",
    "    x_phrase = 1\n",
    "    for phrase, rating in zip(row['similar_phrases'], row['similar_ratings']):\n",
    "        y_nodes.append(index)  # y-coordinate\n",
    "        x_nodes.append(x_phrase)  # x-coordinate\n",
    "        hover_texts.append(f\"{phrase}<br>Rating: {rating}\")\n",
    "        node_colors.append(get_color(rating))\n",
    "        node_sizes.append(10)\n",
    "        x_phrase += 1\n",
    "\n",
    "# Create the figure\n",
    "fig = go.Figure()\n",
    "\n",
    "# Add traces for nodes (set showlegend=False)\n",
    "fig.add_trace(go.Scatter(x=x_nodes, y=y_nodes, mode='markers',\n",
    "                         hoverinfo='text', hovertext=hover_texts,\n",
    "                         marker=dict(color=node_colors, size=node_sizes),\n",
    "                         showlegend=False)) \n",
    "\n",
    "# Add dummy traces for legend\n",
    "legend_labels = [('green', 'True'), ('orange', 'Mixed/Other'), ('red', 'False')]\n",
    "for color, label in legend_labels:\n",
    "    fig.add_trace(go.Scatter(x=[None], y=[None], mode='markers',\n",
    "                             marker=dict(color=color, size=10), name=label))\n",
    "\n",
    "# Add lines for edges and annotations for narrative labels\n",
    "for i in range(len(df)):\n",
    "    # Connect phrases to their sentence\n",
    "    for j in range(len(df.at[i, 'similar_phrases'])):\n",
    "        fig.add_shape(type='line', x0=0, y0=i, x1=j+1, y1=i, line=dict(color='black', width=1))\n",
    "        \n",
    "        # Add narrative label above the line, ensuring it's clearly readable and centered\n",
    "        narrative_label = narrative_labels[i] if i < len(narrative_labels) else f\"Narrative{i+1}\"\n",
    "        fig.add_annotation(\n",
    "            x=-0.1,  # Slightly to the left of the sentence node\n",
    "            y=i,  # Vertically aligned with the sentence node\n",
    "            text=narrative_label, \n",
    "            showarrow=False,\n",
    "            xanchor='right',\n",
    "            yanchor='middle',\n",
    "            font=dict(family=\"Arial\", size=12, color=\"black\"),\n",
    "            align='center'\n",
    "        )  \n",
    "\n",
    "# Update layout with legend title and position\n",
    "fig.update_layout(title=\"Context: Biden Topic: Climate\", hovermode='closest',\n",
    "                  xaxis=dict(showgrid=False, zeroline=False, showticklabels=False),\n",
    "                  yaxis=dict(showgrid=False, zeroline=False, showticklabels=False),\n",
    "                  margin=dict(l=20, r=20, t=40, b=20),\n",
    "                  showlegend=True,\n",
    "                  legend_title=\"Truth Label\",\n",
    "                  legend=dict(x=1.010, y=0.5))\n",
    "\n",
    "# Show figure\n",
    "fig.show()\n"
   ]
  },
  {
   "cell_type": "code",
   "execution_count": 22,
   "id": "b54d6ede-d706-450d-95bd-8077abaa4d19",
   "metadata": {},
   "outputs": [],
   "source": [
    "fig.write_html(\"file.html\")"
   ]
  },
  {
   "cell_type": "code",
   "execution_count": null,
   "id": "af731959-33d6-4309-aec3-b183924c0d53",
   "metadata": {},
   "outputs": [],
   "source": []
  }
 ],
 "metadata": {
  "kernelspec": {
   "display_name": "Python 3 (ipykernel)",
   "language": "python",
   "name": "python3"
  },
  "language_info": {
   "codemirror_mode": {
    "name": "ipython",
    "version": 3
   },
   "file_extension": ".py",
   "mimetype": "text/x-python",
   "name": "python",
   "nbconvert_exporter": "python",
   "pygments_lexer": "ipython3",
   "version": "3.9.13"
  }
 },
 "nbformat": 4,
 "nbformat_minor": 5
}
