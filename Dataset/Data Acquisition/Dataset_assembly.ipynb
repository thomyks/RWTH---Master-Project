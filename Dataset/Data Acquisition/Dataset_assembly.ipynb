{
 "cells": [
  {
   "cell_type": "markdown",
   "id": "e3466ce0",
   "metadata": {},
   "source": [
    "Using the original dataset (https://search.gesis.org/research_data/SDN-10.7802-2620?doi=10.7802/2620) which comes as RDF graph in turtle format was not possible, as it could not be properly opened on all machines we had access to (including the universities cluster).\n",
    "\n",
    "Using the by Gesis provided SPARQL endpoint (https://data.gesis.org/claimskg/sparql) to automatically download the dataset was also not possible, because requests to it are limited to result sets of 10.000. \n",
    "\n",
    "We ended up using the explorer provided by Gesis (https://data.gesis.org/claimskg/explorer/home), and ran an individual query for each fact-checking organization. For snopes and politifact we had to run multiple queries, because in explorer, too, results are limited to 10.000. We partioned the claim reviews belonging to these two organizations by running 4 queries, one for each truth rating. Thereby we could download almost all claims from the database, except for roughly 500 claims checked by politifact with mixture truth rating.\n",
    "\n",
    "The code which combines the single files into one csv dataset is present in this file."
   ]
  },
  {
   "cell_type": "code",
   "execution_count": null,
   "id": "e5760df4-83bb-48ec-a3be-a30ca26b0450",
   "metadata": {},
   "outputs": [],
   "source": [
    "import pandas as pd"
   ]
  },
  {
   "cell_type": "code",
   "execution_count": null,
   "id": "475b42c1-d719-4c2e-ad02-e5fc5e2090e3",
   "metadata": {},
   "outputs": [],
   "source": [
    "# manually collect urls for fact checking organizations\n",
    "orgs_str = 'http://data.gesis.org/claimskg/organization/africacheck, http://data.gesis.org/claimskg/organization/checkyourfact, http://data.gesis.org/claimskg/organization/eufactcheck, http://data.gesis.org/claimskg/organization/factcheck_afp, http://data.gesis.org/claimskg/organization/factograph, http://data.gesis.org/claimskg/organization/factual_afp, http://data.gesis.org/claimskg/organization/fatabyyano, http://data.gesis.org/claimskg/organization/fullfact, http://data.gesis.org/claimskg/organization/polygraph, http://data.gesis.org/claimskg/organization/truthorfiction, http://data.gesis.org/claimskg/organization/vishvanews'\n",
    "orgs_list = orgs_str.split(',')\n",
    "assert len(orgs_list) == 11"
   ]
  },
  {
   "cell_type": "code",
   "execution_count": null,
   "id": "df12964c-e745-4644-9bba-fb8d16ea6aa3",
   "metadata": {},
   "outputs": [],
   "source": [
    "# transform string to list\n",
    "orgs_list = list(map(lambda o: o.split('/')[-1], orgs_list))\n",
    "\n",
    "# store orgs with more than one csv file separately\n",
    "orgs_list2 = ['politifact', 'snopes']"
   ]
  },
  {
   "cell_type": "code",
   "execution_count": null,
   "id": "a69489ed-c149-4ceb-896a-c8d9f3f75a30",
   "metadata": {},
   "outputs": [],
   "source": [
    "# combine manually downloaded csv files for all orgs into one df\n",
    "df = pd.DataFrame()\n",
    "for o in orgs_list:\n",
    "    df = df.append(pd.read_csv('data_orgs/' + o + '.csv'))\n",
    "for o in orgs_list2:\n",
    "    for rating in ['true', 'false', 'mixture', 'other']:\n",
    "        df = df.append(pd.read_csv('data_orgs/' + o + '_' + rating + '.csv'))"
   ]
  },
  {
   "cell_type": "code",
   "execution_count": null,
   "id": "b64144f0-a549-4b13-9463-7c5f7214d6ef",
   "metadata": {},
   "outputs": [],
   "source": [
    "# save complete dataset\n",
    "df.to_csv('complete_dataset_uncleaned.csv')"
   ]
  }
 ],
 "metadata": {
  "kernelspec": {
   "display_name": "Python 3 (ipykernel)",
   "language": "python",
   "name": "python3"
  },
  "language_info": {
   "codemirror_mode": {
    "name": "ipython",
    "version": 3
   },
   "file_extension": ".py",
   "mimetype": "text/x-python",
   "name": "python",
   "nbconvert_exporter": "python",
   "pygments_lexer": "ipython3",
   "version": "3.9.13"
  },
  "toc": {
   "base_numbering": 1,
   "nav_menu": {},
   "number_sections": true,
   "sideBar": true,
   "skip_h1_title": false,
   "title_cell": "Table of Contents",
   "title_sidebar": "Contents",
   "toc_cell": false,
   "toc_position": {},
   "toc_section_display": true,
   "toc_window_display": false
  }
 },
 "nbformat": 4,
 "nbformat_minor": 5
}
