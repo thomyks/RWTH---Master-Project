{
 "cells": [
  {
   "cell_type": "code",
   "execution_count": 2,
   "id": "753f7801-31e7-4401-9179-c4cf586c55e0",
   "metadata": {},
   "outputs": [],
   "source": [
    "import pandas as pd\n",
    "from bertopic import BERTopic\n",
    "import matplotlib.pyplot as plt\n",
    "from collections import Counter\n",
    "\n",
    "def run_bertopic_multiple_times(dataframe: pd.DataFrame, num_runs: int = 100) -> int:\n",
    "    topic_counts = []\n",
    "\n",
    "    # Extract the text column for BERTopic only once\n",
    "    documents = dataframe['text'].tolist()\n",
    "\n",
    "    for _ in range(num_runs):\n",
    "        # Apply BERTopic\n",
    "        topic_model = BERTopic()\n",
    "        topics, _ = topic_model.fit_transform(documents)\n",
    "\n",
    "        # Get the number of unique topics (excluding outliers)\n",
    "        num_topics = len(set(t for t in topics if t != -1))\n",
    "        topic_counts.append(num_topics)\n",
    "\n",
    "    # Save topic counts to a CSV file\n",
    "    df_topic_counts = pd.DataFrame({'run_number': range(1, num_runs + 1), 'topic_count': topic_counts})\n",
    "    df_topic_counts.to_csv('topic_counts.csv', index=False)\n",
    "\n",
    "    # Plot the distribution of the number of topics\n",
    "    plt.hist(topic_counts, bins='auto', alpha=0.7, rwidth=0.85)\n",
    "    plt.xlabel('Number of Topics')\n",
    "    plt.ylabel('Frequency')\n",
    "    plt.title('Distribution of Number of Topics Across Runs')\n",
    "\n",
    "    # Save the plot\n",
    "    plt.savefig('topic_distribution.png')\n",
    "    plt.close()  # Close the plot to free memory\n",
    "\n",
    "    # Find the most common number of topics\n",
    "    most_common_num_topics = Counter(topic_counts).most_common(1)[0][0]\n",
    "    \n",
    "    return most_common_num_topics\n"
   ]
  },
  {
   "cell_type": "code",
   "execution_count": 3,
   "id": "cece80f8-3bcd-4850-b5a1-dd9989811395",
   "metadata": {},
   "outputs": [],
   "source": [
    "dataframe = pd.read_csv('biden_df_12_01.csv')"
   ]
  },
  {
   "cell_type": "code",
   "execution_count": null,
   "id": "5b542571-686f-4ecb-9dbb-ce96bd663d7d",
   "metadata": {},
   "outputs": [],
   "source": [
    "run_bertopic_multiple_times(dataframe)"
   ]
  },
  {
   "cell_type": "code",
   "execution_count": null,
   "id": "05dc7de6-ac04-4a3e-9fb8-eae8576a65ed",
   "metadata": {},
   "outputs": [],
   "source": []
  },
  {
   "cell_type": "code",
   "execution_count": null,
   "id": "ff8ed3a5-e78f-4dac-8242-f425a888459e",
   "metadata": {},
   "outputs": [],
   "source": [
    "import pandas as pd\n",
    "from bertopic import BERTopic\n",
    "import matplotlib.pyplot as plt\n",
    "from collections import Counter\n",
    "from tqdm import tqdm  # Import tqdm\n",
    "\n",
    "def run_bertopic_multiple_times(dataframe: pd.DataFrame, num_runs: int = 100) -> int:\n",
    "    topic_counts = []\n",
    "\n",
    "    # Extract the text column for BERTopic only once\n",
    "    documents = dataframe['text'].tolist()\n",
    "\n",
    "    # Use tqdm to add a progress bar\n",
    "    for _ in tqdm(range(num_runs), desc=\"Running BERTopic\"):\n",
    "        # Apply BERTopic\n",
    "        topic_model = BERTopic()\n",
    "        topics, _ = topic_model.fit_transform(documents)\n",
    "\n",
    "        # Get the number of unique topics (excluding outliers)\n",
    "        num_topics = len(set(t for t in topics if t != -1))\n",
    "        topic_counts.append(num_topics)\n",
    "\n",
    "    # Save topic counts to a CSV file\n",
    "    df_topic_counts = pd.DataFrame({'run_number': range(1, num_runs + 1), 'topic_count': topic_counts})\n",
    "    df_topic_counts.to_csv('topic_counts.csv', index=False)\n",
    "\n",
    "    # Plot the distribution of the number of topics\n",
    "    plt.hist(topic_counts, bins='auto', alpha=0.7, rwidth=0.85)\n",
    "    plt.xlabel('Number of Topics')\n",
    "    plt.ylabel('Frequency')\n",
    "    plt.title('Distribution of Number of Topics Across Runs')\n",
    "\n",
    "    # Save the plot\n",
    "    plt.savefig('topic_distribution.png')\n",
    "    plt.close()  # Close the plot to free memory\n",
    "\n",
    "    # Find the most common number of topics\n",
    "    most_common_num_topics = Counter(topic_counts).most_common(1)[0][0]\n",
    "    \n",
    "    return most_common_num_topics\n"
   ]
  },
  {
   "cell_type": "code",
   "execution_count": null,
   "id": "ee4b92d3-8d81-484d-8b7d-e466ffb5e9eb",
   "metadata": {},
   "outputs": [],
   "source": []
  },
  {
   "cell_type": "code",
   "execution_count": null,
   "id": "06c53263-5c9b-402a-8857-5e3bf3d409be",
   "metadata": {},
   "outputs": [],
   "source": []
  }
 ],
 "metadata": {
  "kernelspec": {
   "display_name": "Python 3 (ipykernel)",
   "language": "python",
   "name": "python3"
  },
  "language_info": {
   "codemirror_mode": {
    "name": "ipython",
    "version": 3
   },
   "file_extension": ".py",
   "mimetype": "text/x-python",
   "name": "python",
   "nbconvert_exporter": "python",
   "pygments_lexer": "ipython3",
   "version": "3.9.13"
  }
 },
 "nbformat": 4,
 "nbformat_minor": 5
}
