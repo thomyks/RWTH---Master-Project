{
 "cells": [
  {
   "cell_type": "markdown",
   "id": "9bdff7ed-c47e-4412-836e-3707d20a5ac1",
   "metadata": {},
   "source": [
    "# BERTopic Find the Optimal Number of Topics and Visualise the Results\n",
    "## BERTopic Find the Optimal Number\n",
    "\n",
    "This documentation provides a comprehensive overview and code snippets for running BERTopic multiple times on a dataset and visualizing the variability in identified topics.\n",
    "\n",
    "## Function: `run_bertopic_multiple_times`\n",
    "\n",
    "This function performs topic modeling multiple times on a given dataset and records the number of unique topics identified in each run.\n",
    "\n",
    "### Parameters\n",
    "\n",
    "- `dataframe`: A `pandas.DataFrame` object containing the dataset.\n",
    "- `num_runs`: An integer specifying the number of times to run BERTopic (default is 10).\n",
    "\n",
    "### Returns\n",
    "\n",
    "- An integer representing the most common number of topics identified across all runs.\n",
    "\n",
    "### Process\n",
    "\n",
    "1. Extracts the text column from the DataFrame.\n",
    "2. Runs BERTopic the specified number of times, each time fitting the model on the documents and recording the number of unique topics (excluding outliers).\n",
    "3. Saves the count of topics for each run to a CSV file.\n",
    "4. Determines the most common number of topics identified across all runs.\n"
   ]
  },
  {
   "cell_type": "code",
   "execution_count": 1,
   "id": "01c3cf7e-6320-4608-9e7c-0e3bd80fe0fa",
   "metadata": {},
   "outputs": [],
   "source": [
    "import pandas as pd\n",
    "from bertopic import BERTopic\n",
    "import matplotlib.pyplot as plt\n",
    "from collections import Counter\n",
    "from tqdm import tqdm\n",
    "import numpy as np\n",
    "\n",
    "def run_bertopic_multiple_times(dataframe: pd.DataFrame, num_runs: int = 10) -> int:\n",
    "    topic_counts = []\n",
    "\n",
    "    # Extract the text column for BERTopic only once\n",
    "    documents = dataframe['text'].tolist()\n",
    "\n",
    "    # Use tqdm to add a progress bar\n",
    "    for _ in tqdm(range(num_runs), desc=\"Running BERTopic\"):\n",
    "        # Apply BERTopic\n",
    "        topic_model = BERTopic()\n",
    "        topics, _ = topic_model.fit_transform(documents)\n",
    "\n",
    "        # Get the number of unique topics (excluding outliers)\n",
    "        num_topics = len(set(t for t in topics if t != -1))\n",
    "        topic_counts.append(num_topics)\n",
    "\n",
    "    # Save topic counts to a CSV file\n",
    "    df_topic_counts = pd.DataFrame({'run_number': range(1, num_runs + 1), 'topic_count': topic_counts})\n",
    "    df_topic_counts.to_csv('topic_counts.csv', index=False)\n",
    "    \n",
    "    # Find the most common number of topics\n",
    "    most_common_num_topics = Counter(topic_counts).most_common(1)[0][0]\n",
    "    \n",
    "    return most_common_num_topics\n"
   ]
  },
  {
   "cell_type": "code",
   "execution_count": 2,
   "id": "d2ed8356-0f5a-480c-8774-673896c9a0af",
   "metadata": {},
   "outputs": [],
   "source": [
    "dataframe = pd.read_csv('covid_df_20_01.csv')"
   ]
  },
  {
   "cell_type": "code",
   "execution_count": 3,
   "id": "0cdfed11-0d8b-484d-b452-514bfb9e5612",
   "metadata": {},
   "outputs": [
    {
     "name": "stderr",
     "output_type": "stream",
     "text": [
      "Running BERTopic: 100%|██████████| 10/10 [03:19<00:00, 19.97s/it]\n"
     ]
    },
    {
     "data": {
      "text/plain": [
       "113"
      ]
     },
     "execution_count": 3,
     "metadata": {},
     "output_type": "execute_result"
    }
   ],
   "source": [
    "run_bertopic_multiple_times(dataframe)"
   ]
  },
  {
   "cell_type": "markdown",
   "id": "900c5628-b7cb-42c0-a2cf-5e41b74c52ca",
   "metadata": {},
   "source": [
    "## Visualization of Topic Variability\n",
    "\n",
    "The part of the code also includes a segment for visualizing the distribution of topic counts across multiple runs of the BERTopic model.\n",
    "\n",
    "### Steps\n",
    "\n",
    "1. Load the `topic_counts.csv` file containing the results from multiple BERTopic runs.\n",
    "2. Calculate the frequency of each unique topic count and identify the counts with the highest frequency.\n",
    "3. Assign colors to bars in a bar plot based on their frequency:\n",
    "   - **Green** for the most frequent counts.\n",
    "   - **Orange** for the second most frequent counts.\n",
    "   - **Red** for all other counts.\n",
    "4. Generate and save a bar plot showing the variability of identified topics across runs.\n",
    "\n",
    "### Key Features\n",
    "\n",
    "- The visualization highlights the most common outcomes (in green) to easily identify the typical number of topics BERTopic finds in the dataset.\n",
    "- This approach helps in understanding the consistency and variability of the BERTopic algorithm across multiple runs.\n"
   ]
  },
  {
   "cell_type": "code",
   "execution_count": 4,
   "id": "f15634e7-bf1c-4212-addf-e8645bd46a26",
   "metadata": {},
   "outputs": [],
   "source": [
    "import pandas as pd\n",
    "from bertopic import BERTopic\n",
    "import matplotlib.pyplot as plt\n",
    "# We will adjust the coloring logic to accommodate the new condition.\n",
    "# If there are multiple topic counts with the same highest frequency, they will all be colored green.\n",
    "\n",
    "df = pd.read_csv('topic_counts.csv')\n",
    "\n",
    "# Count the frequency of each 'topic_count' value\n",
    "topic_counts = df['topic_count'].value_counts().sort_index()\n",
    "\n",
    "# Find the maximum frequency to determine the 'green' bars\n",
    "max_freq = topic_counts.max()\n",
    "\n",
    "# Get the frequencies in descending order\n",
    "sorted_counts = topic_counts.sort_values(ascending=False)\n",
    "\n",
    "# Get the top frequency value(s)\n",
    "top_frequency = sorted_counts.iloc[0]\n",
    "\n",
    "# Indices with the top frequency will be green\n",
    "green_indices = sorted_counts[sorted_counts == top_frequency].index\n",
    "\n",
    "# Indices with the second top frequency (and not green) will be orange\n",
    "# We remove the green indices from consideration\n",
    "remaining_counts = sorted_counts[~sorted_counts.index.isin(green_indices)]\n",
    "if not remaining_counts.empty:\n",
    "    second_top_frequency = remaining_counts.iloc[0]\n",
    "    orange_indices = remaining_counts[remaining_counts == second_top_frequency].index\n",
    "else:\n",
    "    orange_indices = pd.Index([])\n",
    "\n",
    "# All other indices will be red\n",
    "red_indices = sorted_counts.index.difference(green_indices.union(orange_indices))\n",
    "\n",
    "# Now we assign colors based on the indices\n",
    "colors = ['green' if idx in green_indices else 'orange' if idx in orange_indices else 'red' for idx in topic_counts.index]\n",
    "\n",
    "# Create the bar plot with the appropriate colors\n",
    "plt.figure(figsize=(10, 6))  # Set the figure size for better readability\n",
    "bars = plt.bar(topic_counts.index, topic_counts, color=colors, edgecolor='black')\n",
    "\n",
    "# Set the labels and title\n",
    "plt.xlabel('Number of Topics')\n",
    "plt.ylabel('Frequency')\n",
    "plt.title('Variability of Identified Topics in 100 BERTopic Model Runs')\n",
    "plt.xticks(topic_counts.index)\n",
    "\n",
    "  # Save the plot\n",
    "plt.savefig('topic_distribution_histogram.png')\n",
    "plt.close() "
   ]
  }
 ],
 "metadata": {
  "kernelspec": {
   "display_name": "Python 3 (ipykernel)",
   "language": "python",
   "name": "python3"
  },
  "language_info": {
   "codemirror_mode": {
    "name": "ipython",
    "version": 3
   },
   "file_extension": ".py",
   "mimetype": "text/x-python",
   "name": "python",
   "nbconvert_exporter": "python",
   "pygments_lexer": "ipython3",
   "version": "3.9.13"
  }
 },
 "nbformat": 4,
 "nbformat_minor": 5
}
